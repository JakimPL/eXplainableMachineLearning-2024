{
 "cells": [
  {
   "cell_type": "markdown",
   "id": "8e85f9ba-ce43-42ff-bf53-089679684016",
   "metadata": {},
   "source": [
    "# Homework 3 - Explaining predictions using LIME\n",
    "\n",
    "The goal is to explain predictions for GradientBoosting and RandomForest models on SpeedDating dataset.\n",
    "This dataset contains information about characteristics that participants of the experiment find important in dating and scores for their partners.\n",
    "\n",
    "## LIME for GradientBoosting\n",
    "![Screenshot_114.png](graphs/Screenshot_114.png)\n",
    "![Screenshot_115.png](graphs/Screenshot_115.png)\n",
    "![Screenshot_116.png](graphs/Screenshot_116.png)\n",
    "![Screenshot_117.png](graphs/Screenshot_117.png)\n",
    "![Screenshot_118.png](graphs/Screenshot_118.png)\n",
    "![Screenshot_119.png](graphs/Screenshot_119.png)\n",
    "![Screenshot_120.png](graphs/Screenshot_120.png)\n",
    "![Screenshot_121.png](graphs/Screenshot_121.png)\n",
    "![Screenshot_122.png](graphs/Screenshot_122.png)"
   ]
  },
  {
   "cell_type": "markdown",
   "id": "ae4cbf01-97de-4b24-8baa-225af4602d16",
   "metadata": {},
   "source": [
    "Observations:\n",
    "1. Attractiveness is a key factor in speed dating as its relatively high factor persists across different explanations.\n",
    "2. Less important factors tend to fluctuate between seeding.\n",
    "3. Different explanations use different variables."
   ]
  },
  {
   "cell_type": "markdown",
   "id": "dd043d9e-5d90-4491-b1d9-861ee34fcade",
   "metadata": {},
   "source": [
    "## LIME for RandomForest\n",
    "\n",
    "![Screenshot_123.png](graphs/Screenshot_123.png)\n",
    "![Screenshot_124.png](graphs/Screenshot_124.png)\n",
    "![Screenshot_125.png](graphs/Screenshot_125.png)\n",
    "![Screenshot_126.png](graphs/Screenshot_126.png)\n",
    "![Screenshot_127.png](graphs/Screenshot_127.png)\n",
    "![Screenshot_128.png](graphs/Screenshot_128.png)\n",
    "![Screenshot_129.png](graphs/Screenshot_129.png)\n",
    "![Screenshot_130.png](graphs/Screenshot_130.png)\n",
    "![Screenshot_131.png](graphs/Screenshot_131.png)"
   ]
  },
  {
   "cell_type": "markdown",
   "id": "354b4ea3-ddda-46de-b3f9-c99c672ca11f",
   "metadata": {},
   "source": [
    "Obervations:\n",
    "1. Intelligence seems to be slightly more influential in the RandomForestClassifier.\n",
    "2. Other than that, properties with higher factor seem to have simillar influence across two used models."
   ]
  }
 ],
 "metadata": {
  "kernelspec": {
   "display_name": "Python 3 (ipykernel)",
   "language": "python",
   "name": "python3"
  },
  "language_info": {
   "codemirror_mode": {
    "name": "ipython",
    "version": 3
   },
   "file_extension": ".py",
   "mimetype": "text/x-python",
   "name": "python",
   "nbconvert_exporter": "python",
   "pygments_lexer": "ipython3",
   "version": "3.12.0"
  }
 },
 "nbformat": 4,
 "nbformat_minor": 5
}
