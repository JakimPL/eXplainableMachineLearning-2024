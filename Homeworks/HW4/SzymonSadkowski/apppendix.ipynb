{
  "cells": [
    {
      "attachments": {},
      "cell_type": "markdown",
      "metadata": {
        "collapsed": false,
        "id": "t0uKACGTLkzb"
      },
      "source": [
        "# Appendix - HW 4 Szymon Sadkowski"
      ]
    },
    {
      "attachments": {},
      "cell_type": "markdown",
      "metadata": {},
      "source": [
        "### 1. Recreate models from HW1"
      ]
    },
    {
      "cell_type": "code",
      "execution_count": 45,
      "metadata": {
        "id": "9kPa6fREPTA2"
      },
      "outputs": [],
      "source": [
        "SEED = 42\n",
        "TEST_SIZE = 0.2"
      ]
    },
    {
      "cell_type": "code",
      "execution_count": 46,
      "metadata": {
        "ExecuteTime": {
          "end_time": "2023-10-10T19:36:54.294987145Z",
          "start_time": "2023-10-10T19:36:54.245825654Z"
        },
        "colab": {
          "base_uri": "https://localhost:8080/"
        },
        "id": "DgC0rKWxLkzf",
        "outputId": "0a4aeab2-b173-4f44-e287-12ea35763eac"
      },
      "outputs": [
        {
          "name": "stderr",
          "output_type": "stream",
          "text": [
            "The default value of `parser` will change from `'liac-arff'` to `'auto'` in 1.4. You can set `parser='auto'` to silence this warning. Therefore, an `ImportError` will be raised from 1.4 if the dataset is dense and pandas is not installed. Note that the pandas parser may return different data types. See the Notes Section in fetch_openml's API doc for details.\n"
          ]
        }
      ],
      "source": [
        "from sklearn.datasets import fetch_openml\n",
        "\n",
        "X, Y = fetch_openml('kc1', return_X_y=True)"
      ]
    },
    {
      "attachments": {},
      "cell_type": "markdown",
      "metadata": {
        "collapsed": false,
        "id": "9rqUc2-PLkzi"
      },
      "source": [
        "## Data split and testing models."
      ]
    },
    {
      "cell_type": "code",
      "execution_count": 47,
      "metadata": {
        "ExecuteTime": {
          "end_time": "2023-10-10T19:36:55.011126318Z",
          "start_time": "2023-10-10T19:36:54.632150405Z"
        },
        "colab": {
          "base_uri": "https://localhost:8080/"
        },
        "id": "ogHLeIxSLkzi",
        "outputId": "445ea0e5-7785-4c9e-8afa-8e1902498ce9"
      },
      "outputs": [],
      "source": [
        "from sklearn.preprocessing import StandardScaler\n",
        "from sklearn.ensemble import RandomForestClassifier\n",
        "from sklearn.linear_model import LogisticRegression\n",
        "from xgboost import XGBClassifier\n",
        "from sklearn.preprocessing import LabelEncoder\n",
        "\n",
        "\n",
        "models_dict = {\n",
        "    'logistic_regression': LogisticRegression(random_state=SEED, max_iter=1000, n_jobs=-1),\n",
        "    'random_forest': RandomForestClassifier(random_state=SEED, n_jobs=-1),\n",
        "    'xgboost': XGBClassifier(random_state=SEED, n_jobs=-1),\n",
        "}\n",
        "\n",
        "scaler_dict = {\n",
        "    'logistic_regression': StandardScaler(),\n",
        "    'random_forest': StandardScaler(),\n",
        "    'xgboost': StandardScaler(),\n",
        "}\n"
      ]
    },
    {
      "cell_type": "code",
      "execution_count": 48,
      "metadata": {
        "id": "bPScgDkvPTA9"
      },
      "outputs": [],
      "source": [
        "from typing import Tuple\n",
        "import numpy as np\n",
        "\n",
        "\n",
        "def prep_data(model_name, x, y) -> Tuple[np.ndarray, np.ndarray]:\n",
        "    y_trans = LabelEncoder()\n",
        "    y = y_trans.fit_transform(y)\n",
        "\n",
        "    x_trans = scaler_dict[model_name]\n",
        "    x = x_trans.fit_transform(x)\n",
        "\n",
        "    return x, y"
      ]
    },
    {
      "cell_type": "code",
      "execution_count": 49,
      "metadata": {
        "id": "8rTpXSnZPTA9"
      },
      "outputs": [],
      "source": [
        "from sklearn.model_selection import RepeatedStratifiedKFold, GridSearchCV\n",
        "\n",
        "\n",
        "\n",
        "def train_model(model_name):\n",
        "    x, y = prep_data(model_name, X, Y)\n",
        "    cv = RepeatedStratifiedKFold(n_splits=5, n_repeats=3, random_state=SEED)\n",
        "    model = models_dict[model_name]\n",
        "    grid_search = GridSearchCV(model, {}, scoring='roc_auc', cv=cv, n_jobs=-1)\n",
        "    grid_search.fit(x, y)\n",
        "    model = grid_search.best_estimator_\n",
        "    print(f\"Model: {model_name}, performance: {grid_search.best_score_}\")\n",
        "    return model\n"
      ]
    },
    {
      "cell_type": "code",
      "execution_count": 50,
      "metadata": {
        "colab": {
          "base_uri": "https://localhost:8080/"
        },
        "id": "X2k7HxVlPTA-",
        "outputId": "45838b29-f1ab-4458-8ace-63185cad2d09"
      },
      "outputs": [
        {
          "name": "stdout",
          "output_type": "stream",
          "text": [
            "Model: xgboost, performance: 0.7886413672616581\n",
            "Model: random_forest, performance: 0.8260059891272715\n",
            "Model: logistic_regression, performance: 0.8023506731206665\n"
          ]
        }
      ],
      "source": [
        "models = dict()\n",
        "\n",
        "for model_name in reversed(models_dict.keys()):\n",
        "    models[model_name] = train_model(model_name)"
      ]
    },
    {
      "attachments": {},
      "cell_type": "markdown",
      "metadata": {},
      "source": [
        "### 2. Select two observations from the dataset and calculate the model's prediction."
      ]
    },
    {
      "cell_type": "code",
      "execution_count": 51,
      "metadata": {},
      "outputs": [],
      "source": [
        "np.random.seed(SEED)\n",
        "rand_obs_idx = np.random.randint(0, X.shape[0], size=30)"
      ]
    },
    {
      "attachments": {},
      "cell_type": "markdown",
      "metadata": {},
      "source": [
        "### 3. Next, for the same observations, calculate the decomposition of predictions, so-called variable attributions, using SHAP from two packages of choice, e.g. for Python: `dalex` and `shap`, for R: `DALEX` and `iml`."
      ]
    },
    {
      "cell_type": "code",
      "execution_count": 52,
      "metadata": {},
      "outputs": [],
      "source": [
        "def xgb_predict(model, data):\n",
        "    return model.predict_proba(data.to_numpy())[:, 1]"
      ]
    },
    {
      "cell_type": "code",
      "execution_count": 53,
      "metadata": {},
      "outputs": [
        {
          "name": "stdout",
          "output_type": "stream",
          "text": [
            "Preparation of a new explainer is initiated\n",
            "\n",
            "  -> data              : 2109 rows 21 cols\n",
            "  -> target variable   : Parameter 'y' was a pandas.DataFrame. Converted to a numpy.ndarray.\n",
            "  -> target variable   : 2109 values\n",
            "  -> model_class       : xgboost.sklearn.XGBClassifier (default)\n",
            "  -> label             : xgb\n",
            "  -> predict function  : <function xgb_predict at 0x7fc168034040> will be used\n",
            "  -> predict function  : Accepts only pandas.DataFrame, numpy.ndarray causes problems.\n",
            "  -> predicted values  : min = 0.000667, mean = 0.155, max = 0.997\n",
            "  -> model type        : classification will be used (default)\n",
            "  -> residual function : difference between y and yhat (default)\n",
            "  -> residuals         : min = -0.584, mean = -4.81e-05, max = 0.981\n",
            "  -> model_info        : package xgboost\n",
            "\n",
            "A new explainer has been created!\n"
          ]
        }
      ],
      "source": [
        "import dalex as dx\n",
        "import pandas as pd\n",
        "\n",
        "\n",
        "trans_x, trans_y = prep_data(\"xgboost\", X, Y)\n",
        "trans_x = pd.DataFrame(trans_x, columns=X.columns)\n",
        "trans_y = pd.DataFrame(trans_y, columns=[\"prediction\"])\n",
        "\n",
        "\n",
        "explainer = dx.Explainer(models[\"xgboost\"], trans_x, trans_y, predict_function=xgb_predict, label=\"xgb\")"
      ]
    },
    {
      "cell_type": "code",
      "execution_count": 54,
      "metadata": {},
      "outputs": [
        {
          "data": {
            "text/plain": [
              "array([0.02337096, 0.06738389], dtype=float32)"
            ]
          },
          "execution_count": 54,
          "metadata": {},
          "output_type": "execute_result"
        }
      ],
      "source": [
        "xgb_predict(models[\"xgboost\"], trans_x.iloc[rand_obs_idx[[0, 1]]])"
      ]
    },
    {
      "cell_type": "code",
      "execution_count": 55,
      "metadata": {},
      "outputs": [],
      "source": [
        "shap_attributions = [explainer.predict_parts(trans_x.iloc[[i]], type=\"shap\", label=f'observation {i}') for i in range(rand_obs_idx.shape[0])]"
      ]
    },
    {
      "cell_type": "code",
      "execution_count": 56,
      "metadata": {},
      "outputs": [
        {
          "data": {
            "application/vnd.plotly.v1+json": {
              "config": {
                "displaylogo": false,
                "modeBarButtonsToRemove": [
                  "sendDataToCloud",
                  "lasso2d",
                  "autoScale2d",
                  "select2d",
                  "zoom2d",
                  "pan2d",
                  "zoomIn2d",
                  "zoomOut2d",
                  "resetScale2d",
                  "toggleSpikelines",
                  "hoverCompareCartesian",
                  "hoverClosestCartesian"
                ],
                "plotlyServerURL": "https://plot.ly",
                "staticPlot": false,
                "toImageButtonOptions": {
                  "height": null,
                  "width": null
                }
              },
              "data": [
                {
                  "base": 0.15462371706962585,
                  "hoverinfo": "text",
                  "hoverlabel": {
                    "bgcolor": "rgba(0,0,0,0.8)"
                  },
                  "hovertext": [
                    "Average response: 0.155<br>Prediction: 0.087<br>locCodeAndComment = 2.653<br>decreases average response <br>by 0.128",
                    "Average response: 0.155<br>Prediction: 0.087<br>b = 6.915<br>increases average response <br>by 0.082",
                    "Average response: 0.155<br>Prediction: 0.087<br>l = 3.093<br>increases average response <br>by 0.055",
                    "Average response: 0.155<br>Prediction: 0.087<br>lOBlank = 0.06234<br>increases average response <br>by 0.047",
                    "Average response: 0.155<br>Prediction: 0.087<br>lOCode = -0.518<br>decreases average response <br>by 0.046",
                    "Average response: 0.155<br>Prediction: 0.087<br>total_Opnd = -0.5484<br>decreases average response <br>by 0.03",
                    "Average response: 0.155<br>Prediction: 0.087<br>v = -0.4986<br>increases average response <br>by 0.027",
                    "Average response: 0.155<br>Prediction: 0.087<br>e = -0.3005<br>decreases average response <br>by 0.024",
                    "Average response: 0.155<br>Prediction: 0.087<br>v(g) = -0.3687<br>decreases average response <br>by 0.023",
                    "Average response: 0.155<br>Prediction: 0.087<br>+ all other factors<br>decreases average response <br>by 0.028"
                  ],
                  "marker": {
                    "color": [
                      "#f05a71",
                      "#8bdcbe",
                      "#8bdcbe",
                      "#8bdcbe",
                      "#f05a71",
                      "#f05a71",
                      "#8bdcbe",
                      "#f05a71",
                      "#f05a71",
                      "#f05a71"
                    ]
                  },
                  "orientation": "h",
                  "showlegend": false,
                  "text": [
                    "-0.128",
                    "+0.082",
                    "+0.055",
                    "+0.047",
                    "-0.046",
                    "-0.03",
                    "+0.027",
                    "-0.024",
                    "-0.023",
                    "-0.028"
                  ],
                  "textposition": "outside",
                  "type": "bar",
                  "x": [
                    -0.128,
                    0.082,
                    0.055,
                    0.047,
                    -0.046,
                    -0.03,
                    0.027,
                    -0.024,
                    -0.023,
                    -0.028
                  ],
                  "xaxis": "x",
                  "y": [
                    "locCodeAndComment = 2.653",
                    "b = 6.915",
                    "l = 3.093",
                    "lOBlank = 0.06234",
                    "lOCode = -0.518",
                    "total_Opnd = -0.5484",
                    "v = -0.4986",
                    "e = -0.3005",
                    "v(g) = -0.3687",
                    "+ all other factors"
                  ],
                  "yaxis": "y"
                },
                {
                  "base": 0.15462371706962585,
                  "hoverinfo": "text",
                  "hoverlabel": {
                    "bgcolor": "rgba(0,0,0,0.8)"
                  },
                  "hovertext": [
                    "Average response: 0.155<br>Prediction: 0.862<br>b = 5.205<br>increases average response <br>by 0.162",
                    "Average response: 0.155<br>Prediction: 0.862<br>l = 2.147<br>increases average response <br>by 0.108",
                    "Average response: 0.155<br>Prediction: 0.862<br>n = -0.5842<br>increases average response <br>by 0.093",
                    "Average response: 0.155<br>Prediction: 0.862<br>lOBlank = -0.197<br>increases average response <br>by 0.085",
                    "Average response: 0.155<br>Prediction: 0.862<br>lOComment = 0.01752<br>increases average response <br>by 0.062",
                    "Average response: 0.155<br>Prediction: 0.862<br>v(g) = -0.4713<br>increases average response <br>by 0.058",
                    "Average response: 0.155<br>Prediction: 0.862<br>loc = -0.6512<br>increases average response <br>by 0.046",
                    "Average response: 0.155<br>Prediction: 0.862<br>i = -0.9416<br>increases average response <br>by 0.034",
                    "Average response: 0.155<br>Prediction: 0.862<br>uniq_Op = -1.158<br>increases average response <br>by 0.022",
                    "Average response: 0.155<br>Prediction: 0.862<br>+ all other factors<br>increases average response <br>by 0.038"
                  ],
                  "marker": {
                    "color": [
                      "#8bdcbe",
                      "#8bdcbe",
                      "#8bdcbe",
                      "#8bdcbe",
                      "#8bdcbe",
                      "#8bdcbe",
                      "#8bdcbe",
                      "#8bdcbe",
                      "#8bdcbe",
                      "#8bdcbe"
                    ]
                  },
                  "orientation": "h",
                  "showlegend": false,
                  "text": [
                    "+0.162",
                    "+0.108",
                    "+0.093",
                    "+0.085",
                    "+0.062",
                    "+0.058",
                    "+0.046",
                    "+0.034",
                    "+0.022",
                    "+0.038"
                  ],
                  "textposition": "outside",
                  "type": "bar",
                  "x": [
                    0.162,
                    0.108,
                    0.093,
                    0.085,
                    0.062,
                    0.058,
                    0.046,
                    0.034,
                    0.022,
                    0.038
                  ],
                  "xaxis": "x2",
                  "y": [
                    "b = 5.205",
                    "l = 2.147",
                    "n = -0.5842",
                    "lOBlank = -0.197",
                    "lOComment = 0.01752",
                    "v(g) = -0.4713",
                    "loc = -0.6512",
                    "i = -0.9416",
                    "uniq_Op = -1.158",
                    "+ all other factors"
                  ],
                  "yaxis": "y2"
                }
              ],
              "layout": {
                "annotations": [
                  {
                    "font": {
                      "size": 16
                    },
                    "showarrow": false,
                    "text": "observation 0",
                    "x": 0.5,
                    "xanchor": "center",
                    "xref": "paper",
                    "y": 1,
                    "yanchor": "bottom",
                    "yref": "paper"
                  },
                  {
                    "font": {
                      "size": 16
                    },
                    "showarrow": false,
                    "text": "observation 1",
                    "x": 0.5,
                    "xanchor": "center",
                    "xref": "paper",
                    "y": 0.45,
                    "yanchor": "bottom",
                    "yref": "paper"
                  },
                  {
                    "font": {
                      "size": 16
                    },
                    "showarrow": false,
                    "text": "contribution",
                    "x": 0.5,
                    "xanchor": "center",
                    "xref": "paper",
                    "y": 0,
                    "yanchor": "top",
                    "yref": "paper",
                    "yshift": -30
                  }
                ],
                "font": {
                  "color": "#371ea3"
                },
                "height": 667,
                "margin": {
                  "b": 71,
                  "r": 30,
                  "t": 78
                },
                "shapes": [
                  {
                    "line": {
                      "color": "#371ea3",
                      "dash": "dot",
                      "width": 1.5
                    },
                    "type": "line",
                    "x0": 0.15462371706962585,
                    "x1": 0.15462371706962585,
                    "xref": "x",
                    "y0": -1,
                    "y1": 11,
                    "yref": "y"
                  },
                  {
                    "line": {
                      "color": "#371ea3",
                      "dash": "dot",
                      "width": 1.5
                    },
                    "type": "line",
                    "x0": 0.15462371706962585,
                    "x1": 0.15462371706962585,
                    "xref": "x2",
                    "y0": -1,
                    "y1": 11,
                    "yref": "y2"
                  }
                ],
                "template": {
                  "data": {
                    "scatter": [
                      {
                        "type": "scatter"
                      }
                    ]
                  }
                },
                "title": {
                  "text": "Shapley Values",
                  "x": 0.15
                },
                "xaxis": {
                  "anchor": "y",
                  "automargin": true,
                  "domain": [
                    0,
                    1
                  ],
                  "fixedrange": true,
                  "gridwidth": 2,
                  "matches": "x2",
                  "range": [
                    -0.004876282930374148,
                    0.3376237170696259
                  ],
                  "showticklabels": false,
                  "tickcolor": "white",
                  "ticklen": 3,
                  "ticks": "outside",
                  "type": "linear",
                  "zeroline": false
                },
                "xaxis2": {
                  "anchor": "y2",
                  "automargin": true,
                  "domain": [
                    0,
                    1
                  ],
                  "fixedrange": true,
                  "gridwidth": 2,
                  "range": [
                    -0.004876282930374148,
                    0.3376237170696259
                  ],
                  "tickcolor": "white",
                  "ticklen": 3,
                  "ticks": "outside",
                  "type": "linear",
                  "zeroline": false
                },
                "yaxis": {
                  "anchor": "x",
                  "automargin": true,
                  "autorange": "reversed",
                  "domain": [
                    0.55,
                    1
                  ],
                  "fixedrange": true,
                  "gridwidth": 2,
                  "tickcolor": "white",
                  "ticklen": 10,
                  "ticks": "outside",
                  "type": "category"
                },
                "yaxis2": {
                  "anchor": "x2",
                  "automargin": true,
                  "autorange": "reversed",
                  "domain": [
                    0,
                    0.45
                  ],
                  "fixedrange": true,
                  "gridwidth": 2,
                  "tickcolor": "white",
                  "ticklen": 10,
                  "ticks": "outside",
                  "type": "category"
                }
              }
            }
          },
          "metadata": {},
          "output_type": "display_data"
        }
      ],
      "source": [
        "shap_attributions[0].plot(shap_attributions[1])"
      ]
    },
    {
      "attachments": {},
      "cell_type": "markdown",
      "metadata": {},
      "source": [
        "### 4. Find any two observations in the dataset, such that they have different variables of the highest importance, e.g. age and gender have the highest (absolute) attribution for observation A, but race and class are more important for observation B."
      ]
    },
    {
      "cell_type": "code",
      "execution_count": 57,
      "metadata": {},
      "outputs": [
        {
          "data": {
            "text/html": [
              "<div>\n",
              "<style scoped>\n",
              "    .dataframe tbody tr th:only-of-type {\n",
              "        vertical-align: middle;\n",
              "    }\n",
              "\n",
              "    .dataframe tbody tr th {\n",
              "        vertical-align: top;\n",
              "    }\n",
              "\n",
              "    .dataframe thead th {\n",
              "        text-align: right;\n",
              "    }\n",
              "</style>\n",
              "<table border=\"1\" class=\"dataframe\">\n",
              "  <thead>\n",
              "    <tr style=\"text-align: right;\">\n",
              "      <th></th>\n",
              "      <th>loc</th>\n",
              "      <th>v(g)</th>\n",
              "      <th>ev(g)</th>\n",
              "      <th>iv(g)</th>\n",
              "      <th>n</th>\n",
              "      <th>v</th>\n",
              "      <th>l</th>\n",
              "      <th>d</th>\n",
              "      <th>i</th>\n",
              "      <th>e</th>\n",
              "      <th>...</th>\n",
              "      <th>t</th>\n",
              "      <th>lOCode</th>\n",
              "      <th>lOComment</th>\n",
              "      <th>lOBlank</th>\n",
              "      <th>locCodeAndComment</th>\n",
              "      <th>uniq_Op</th>\n",
              "      <th>uniq_Opnd</th>\n",
              "      <th>total_Op</th>\n",
              "      <th>total_Opnd</th>\n",
              "      <th>branchCount</th>\n",
              "    </tr>\n",
              "  </thead>\n",
              "  <tbody>\n",
              "    <tr>\n",
              "      <th>860</th>\n",
              "      <td>3.0</td>\n",
              "      <td>1.0</td>\n",
              "      <td>1.0</td>\n",
              "      <td>1.0</td>\n",
              "      <td>1.0</td>\n",
              "      <td>0.00</td>\n",
              "      <td>0.0</td>\n",
              "      <td>0.00</td>\n",
              "      <td>0.00</td>\n",
              "      <td>0.00</td>\n",
              "      <td>...</td>\n",
              "      <td>0.00</td>\n",
              "      <td>1.0</td>\n",
              "      <td>0.0</td>\n",
              "      <td>0.0</td>\n",
              "      <td>0.0</td>\n",
              "      <td>1.0</td>\n",
              "      <td>0.0</td>\n",
              "      <td>1.0</td>\n",
              "      <td>0.0</td>\n",
              "      <td>1.0</td>\n",
              "    </tr>\n",
              "    <tr>\n",
              "      <th>1294</th>\n",
              "      <td>23.0</td>\n",
              "      <td>3.0</td>\n",
              "      <td>1.0</td>\n",
              "      <td>3.0</td>\n",
              "      <td>63.0</td>\n",
              "      <td>276.72</td>\n",
              "      <td>0.1</td>\n",
              "      <td>10.45</td>\n",
              "      <td>26.47</td>\n",
              "      <td>2892.94</td>\n",
              "      <td>...</td>\n",
              "      <td>160.72</td>\n",
              "      <td>18.0</td>\n",
              "      <td>3.0</td>\n",
              "      <td>0.0</td>\n",
              "      <td>0.0</td>\n",
              "      <td>10.0</td>\n",
              "      <td>11.0</td>\n",
              "      <td>40.0</td>\n",
              "      <td>23.0</td>\n",
              "      <td>5.0</td>\n",
              "    </tr>\n",
              "  </tbody>\n",
              "</table>\n",
              "<p>2 rows × 21 columns</p>\n",
              "</div>"
            ],
            "text/plain": [
              "       loc  v(g)  ev(g)  iv(g)     n       v    l      d      i        e  ...  \\\n",
              "860    3.0   1.0    1.0    1.0   1.0    0.00  0.0   0.00   0.00     0.00  ...   \n",
              "1294  23.0   3.0    1.0    3.0  63.0  276.72  0.1  10.45  26.47  2892.94  ...   \n",
              "\n",
              "           t  lOCode  lOComment  lOBlank  locCodeAndComment  uniq_Op  \\\n",
              "860     0.00     1.0        0.0      0.0                0.0      1.0   \n",
              "1294  160.72    18.0        3.0      0.0                0.0     10.0   \n",
              "\n",
              "      uniq_Opnd  total_Op  total_Opnd  branchCount  \n",
              "860         0.0       1.0         0.0          1.0  \n",
              "1294       11.0      40.0        23.0          5.0  \n",
              "\n",
              "[2 rows x 21 columns]"
            ]
          },
          "execution_count": 57,
          "metadata": {},
          "output_type": "execute_result"
        }
      ],
      "source": [
        "# datapoints 860, 1294 have different most importand attrs\n",
        "X.iloc[rand_obs_idx[[0, 1]]]"
      ]
    },
    {
      "attachments": {},
      "cell_type": "markdown",
      "metadata": {},
      "source": [
        "### 5. (If possible) Select one variable X and find two observations in the dataset such that for one observation, X has a positive attribution, and for the other observation, X has a negative attribution.\n",
        "\n",
        "### ANS: I could not find such cases when analyzing random 30 explanations"
      ]
    },
    {
      "attachments": {},
      "cell_type": "markdown",
      "metadata": {},
      "source": [
        "### 6. (How) Do the results differ across the two packages selected in point (3)?"
      ]
    },
    {
      "cell_type": "code",
      "execution_count": 58,
      "metadata": {},
      "outputs": [
        {
          "name": "stderr",
          "output_type": "stream",
          "text": [
            "[23:45:40] WARNING: /workspace/src/c_api/c_api.cc:1240: Saving into deprecated binary model format, please consider using `json` or `ubj`. Model format will default to JSON in XGBoost 2.2 if not specified.\n"
          ]
        }
      ],
      "source": [
        "import shap\n",
        "\n",
        "shap_explainer = shap.explainers.Tree(models[\"xgboost\"], data=trans_x, model_output=\"probability\")\n"
      ]
    },
    {
      "cell_type": "code",
      "execution_count": 59,
      "metadata": {},
      "outputs": [],
      "source": [
        "shap_values = shap_explainer(trans_x.iloc[rand_obs_idx[[0, 1]]])\n"
      ]
    },
    {
      "cell_type": "code",
      "execution_count": 60,
      "metadata": {},
      "outputs": [
        {
          "data": {
            "image/png": "[encoded data removed]",
            "text/plain": [
              "<Figure size 800x650 with 3 Axes>"
            ]
          },
          "metadata": {},
          "output_type": "display_data"
        },
        {
          "data": {
            "image/png": "[encoded data removed]",
            "text/plain": [
              "<Figure size 800x650 with 3 Axes>"
            ]
          },
          "metadata": {},
          "output_type": "display_data"
        }
      ],
      "source": [
        "for i in range(2):\n",
        "    shap.plots.waterfall(shap_values[i])"
      ]
    },
    {
      "attachments": {},
      "cell_type": "markdown",
      "metadata": {},
      "source": [
        "Plots look completly different"
      ]
    },
    {
      "attachments": {},
      "cell_type": "markdown",
      "metadata": {},
      "source": [
        "### 7. (Using one explanation package of choice) Train another model of any class: neural network, linear model, decision tree etc. and find an observation for which SHAP attributions are different between this model and the one trained in point (1)"
      ]
    },
    {
      "cell_type": "code",
      "execution_count": 61,
      "metadata": {},
      "outputs": [
        {
          "name": "stdout",
          "output_type": "stream",
          "text": [
            "Preparation of a new explainer is initiated\n",
            "\n",
            "  -> data              : 2109 rows 21 cols\n",
            "  -> target variable   : Parameter 'y' was a pandas.DataFrame. Converted to a numpy.ndarray.\n",
            "  -> target variable   : 2109 values\n",
            "  -> model_class       : sklearn.linear_model._logistic.LogisticRegression (default)\n",
            "  -> label             : xgb\n",
            "  -> predict function  : <function xgb_predict at 0x7fc168034040> will be used\n",
            "  -> predict function  : Accepts only pandas.DataFrame, numpy.ndarray causes problems.\n",
            "  -> predicted values  : min = 0.00345, mean = 0.155, max = 0.988\n",
            "  -> model type        : classification will be used (default)\n",
            "  -> residual function : difference between y and yhat (default)\n",
            "  -> residuals         : min = -0.828, mean = 1.73e-06, max = 0.979\n",
            "  -> model_info        : package sklearn\n",
            "\n",
            "A new explainer has been created!\n"
          ]
        }
      ],
      "source": [
        "explainer_lin = dx.Explainer(models[\"logistic_regression\"], trans_x, trans_y, predict_function=xgb_predict, label=\"xgb\")"
      ]
    },
    {
      "cell_type": "code",
      "execution_count": 62,
      "metadata": {},
      "outputs": [],
      "source": [
        "shap_attributions_lin = [explainer_lin.predict_parts(trans_x.iloc[[i]], type=\"shap\", label=f'observation {i}') for i in range(rand_obs_idx.shape[0])]"
      ]
    },
    {
      "cell_type": "code",
      "execution_count": 63,
      "metadata": {},
      "outputs": [
        {
          "data": {
            "application/vnd.plotly.v1+json": {
              "config": {
                "displaylogo": false,
                "modeBarButtonsToRemove": [
                  "sendDataToCloud",
                  "lasso2d",
                  "autoScale2d",
                  "select2d",
                  "zoom2d",
                  "pan2d",
                  "zoomIn2d",
                  "zoomOut2d",
                  "resetScale2d",
                  "toggleSpikelines",
                  "hoverCompareCartesian",
                  "hoverClosestCartesian"
                ],
                "plotlyServerURL": "https://plot.ly",
                "staticPlot": false,
                "toImageButtonOptions": {
                  "height": null,
                  "width": null
                }
              },
              "data": [
                {
                  "base": 0.1545739030392625,
                  "hoverinfo": "text",
                  "hoverlabel": {
                    "bgcolor": "rgba(0,0,0,0.8)"
                  },
                  "hovertext": [
                    "Average response: 0.155<br>Prediction: 0.403<br>b = 6.915<br>increases average response <br>by 0.631",
                    "Average response: 0.155<br>Prediction: 0.403<br>locCodeAndComment = 2.653<br>decreases average response <br>by 0.144",
                    "Average response: 0.155<br>Prediction: 0.403<br>l = 3.093<br>decreases average response <br>by 0.136",
                    "Average response: 0.155<br>Prediction: 0.403<br>total_Op = -0.5765<br>increases average response <br>by 0.088",
                    "Average response: 0.155<br>Prediction: 0.403<br>d = -0.6959<br>decreases average response <br>by 0.079",
                    "Average response: 0.155<br>Prediction: 0.403<br>i = -0.9276<br>decreases average response <br>by 0.076",
                    "Average response: 0.155<br>Prediction: 0.403<br>loc = -0.6479<br>decreases average response <br>by 0.055",
                    "Average response: 0.155<br>Prediction: 0.403<br>lOCode = -0.518<br>increases average response <br>by 0.05",
                    "Average response: 0.155<br>Prediction: 0.403<br>v(g) = -0.3687<br>increases average response <br>by 0.045",
                    "Average response: 0.155<br>Prediction: 0.403<br>+ all other factors<br>decreases average response <br>by 0.077"
                  ],
                  "marker": {
                    "color": [
                      "#8bdcbe",
                      "#f05a71",
                      "#f05a71",
                      "#8bdcbe",
                      "#f05a71",
                      "#f05a71",
                      "#f05a71",
                      "#8bdcbe",
                      "#8bdcbe",
                      "#f05a71"
                    ]
                  },
                  "orientation": "h",
                  "showlegend": false,
                  "text": [
                    "+0.631",
                    "-0.144",
                    "-0.136",
                    "+0.088",
                    "-0.079",
                    "-0.076",
                    "-0.055",
                    "+0.05",
                    "+0.045",
                    "-0.077"
                  ],
                  "textposition": "outside",
                  "type": "bar",
                  "x": [
                    0.631,
                    -0.144,
                    -0.136,
                    0.088,
                    -0.079,
                    -0.076,
                    -0.055,
                    0.05,
                    0.045,
                    -0.077
                  ],
                  "xaxis": "x",
                  "y": [
                    "b = 6.915",
                    "locCodeAndComment = 2.653",
                    "l = 3.093",
                    "total_Op = -0.5765",
                    "d = -0.6959",
                    "i = -0.9276",
                    "loc = -0.6479",
                    "lOCode = -0.518",
                    "v(g) = -0.3687",
                    "+ all other factors"
                  ],
                  "yaxis": "y"
                }
              ],
              "layout": {
                "annotations": [
                  {
                    "font": {
                      "size": 16
                    },
                    "showarrow": false,
                    "text": "observation 0",
                    "x": 0.5,
                    "xanchor": "center",
                    "xref": "paper",
                    "y": 1,
                    "yanchor": "bottom",
                    "yref": "paper"
                  },
                  {
                    "font": {
                      "size": 16
                    },
                    "showarrow": false,
                    "text": "contribution",
                    "x": 0.5,
                    "xanchor": "center",
                    "xref": "paper",
                    "y": 0,
                    "yanchor": "top",
                    "yref": "paper",
                    "yshift": -30
                  }
                ],
                "font": {
                  "color": "#371ea3"
                },
                "height": 373,
                "margin": {
                  "b": 71,
                  "r": 30,
                  "t": 78
                },
                "shapes": [
                  {
                    "line": {
                      "color": "#371ea3",
                      "dash": "dot",
                      "width": 1.5
                    },
                    "type": "line",
                    "x0": 0.1545739030392625,
                    "x1": 0.1545739030392625,
                    "xref": "x",
                    "y0": -1,
                    "y1": 11,
                    "yref": "y"
                  }
                ],
                "template": {
                  "data": {
                    "scatter": [
                      {
                        "type": "scatter"
                      }
                    ]
                  }
                },
                "title": {
                  "text": "Shapley Values",
                  "x": 0.15
                },
                "xaxis": {
                  "anchor": "y",
                  "automargin": true,
                  "domain": [
                    0,
                    1
                  ],
                  "fixedrange": true,
                  "gridwidth": 2,
                  "range": [
                    -0.10567609696073749,
                    0.9018239030392625
                  ],
                  "tickcolor": "white",
                  "ticklen": 3,
                  "ticks": "outside",
                  "type": "linear",
                  "zeroline": false
                },
                "yaxis": {
                  "anchor": "x",
                  "automargin": true,
                  "autorange": "reversed",
                  "domain": [
                    0,
                    1
                  ],
                  "fixedrange": true,
                  "gridwidth": 2,
                  "tickcolor": "white",
                  "ticklen": 10,
                  "ticks": "outside",
                  "type": "category"
                }
              }
            }
          },
          "metadata": {},
          "output_type": "display_data"
        }
      ],
      "source": [
        "shap_attributions_lin[0].plot()"
      ]
    },
    {
      "cell_type": "code",
      "execution_count": 64,
      "metadata": {},
      "outputs": [
        {
          "data": {
            "text/html": [
              "<div>\n",
              "<style scoped>\n",
              "    .dataframe tbody tr th:only-of-type {\n",
              "        vertical-align: middle;\n",
              "    }\n",
              "\n",
              "    .dataframe tbody tr th {\n",
              "        vertical-align: top;\n",
              "    }\n",
              "\n",
              "    .dataframe thead th {\n",
              "        text-align: right;\n",
              "    }\n",
              "</style>\n",
              "<table border=\"1\" class=\"dataframe\">\n",
              "  <thead>\n",
              "    <tr style=\"text-align: right;\">\n",
              "      <th></th>\n",
              "      <th>loc</th>\n",
              "      <th>v(g)</th>\n",
              "      <th>ev(g)</th>\n",
              "      <th>iv(g)</th>\n",
              "      <th>n</th>\n",
              "      <th>v</th>\n",
              "      <th>l</th>\n",
              "      <th>d</th>\n",
              "      <th>i</th>\n",
              "      <th>e</th>\n",
              "      <th>...</th>\n",
              "      <th>t</th>\n",
              "      <th>lOCode</th>\n",
              "      <th>lOComment</th>\n",
              "      <th>lOBlank</th>\n",
              "      <th>locCodeAndComment</th>\n",
              "      <th>uniq_Op</th>\n",
              "      <th>uniq_Opnd</th>\n",
              "      <th>total_Op</th>\n",
              "      <th>total_Opnd</th>\n",
              "      <th>branchCount</th>\n",
              "    </tr>\n",
              "  </thead>\n",
              "  <tbody>\n",
              "    <tr>\n",
              "      <th>860</th>\n",
              "      <td>3.0</td>\n",
              "      <td>1.0</td>\n",
              "      <td>1.0</td>\n",
              "      <td>1.0</td>\n",
              "      <td>1.0</td>\n",
              "      <td>0.0</td>\n",
              "      <td>0.0</td>\n",
              "      <td>0.0</td>\n",
              "      <td>0.0</td>\n",
              "      <td>0.0</td>\n",
              "      <td>...</td>\n",
              "      <td>0.0</td>\n",
              "      <td>1.0</td>\n",
              "      <td>0.0</td>\n",
              "      <td>0.0</td>\n",
              "      <td>0.0</td>\n",
              "      <td>1.0</td>\n",
              "      <td>0.0</td>\n",
              "      <td>1.0</td>\n",
              "      <td>0.0</td>\n",
              "      <td>1.0</td>\n",
              "    </tr>\n",
              "  </tbody>\n",
              "</table>\n",
              "<p>1 rows × 21 columns</p>\n",
              "</div>"
            ],
            "text/plain": [
              "     loc  v(g)  ev(g)  iv(g)    n    v    l    d    i    e  ...    t  lOCode  \\\n",
              "860  3.0   1.0    1.0    1.0  1.0  0.0  0.0  0.0  0.0  0.0  ...  0.0     1.0   \n",
              "\n",
              "     lOComment  lOBlank  locCodeAndComment  uniq_Op  uniq_Opnd  total_Op  \\\n",
              "860        0.0      0.0                0.0      1.0        0.0       1.0   \n",
              "\n",
              "     total_Opnd  branchCount  \n",
              "860         0.0          1.0  \n",
              "\n",
              "[1 rows x 21 columns]"
            ]
          },
          "execution_count": 64,
          "metadata": {},
          "output_type": "execute_result"
        }
      ],
      "source": [
        "X.iloc[[rand_obs_idx[0]]]"
      ]
    },
    {
      "attachments": {},
      "cell_type": "markdown",
      "metadata": {},
      "source": [
        "### Linear regression shap explanation look much different for datapoint above. In Linear regression most important feature is 'b' and for xgboost 'i'"
      ]
    }
  ],
  "metadata": {
    "colab": {
      "provenance": []
    },
    "kernelspec": {
      "display_name": "Python 3",
      "language": "python",
      "name": "python3"
    },
    "language_info": {
      "codemirror_mode": {
        "name": "ipython",
        "version": 3
      },
      "file_extension": ".py",
      "mimetype": "text/x-python",
      "name": "python",
      "nbconvert_exporter": "python",
      "pygments_lexer": "ipython3",
      "version": "3.9.16"
    }
  },
  "nbformat": 4,
  "nbformat_minor": 0
}
