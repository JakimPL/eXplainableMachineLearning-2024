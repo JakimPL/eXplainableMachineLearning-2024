{
 "cells": [
  {
   "cell_type": "markdown",
   "metadata": {},
   "source": [
    "# Homework 4"
   ]
  },
  {
   "cell_type": "markdown",
   "metadata": {},
   "source": [
    "The goal of homework 4 is to become faimiliar with SHapley Additive exPlanations (SHAP). For this task, I have reused the *churn* dataset from previous homeworks. The model of interest is the random forest classifier from the *XGBoost* package."
   ]
  },
  {
   "cell_type": "markdown",
   "metadata": {},
   "source": [
    "# Task 1, 2, 3"
   ]
  },
  {
   "cell_type": "markdown",
   "metadata": {},
   "source": [
    "We begin with choosing two observations from the test set for which we obtain model's predictions. Although the observatiosn are chosen randomly, their predictions seem to be very close. To see the decision-making process standing behind those predictions and whether it differs between them, we begin with calculating SHAP values using *dalex*, and then repeat it using the *shap* package."
   ]
  },
  {
   "cell_type": "code",
   "execution_count": 23,
   "metadata": {},
   "outputs": [
    {
     "name": "stdout",
     "output_type": "stream",
     "text": [
      "Predicted probability for observation 0: 0.08536858856678009\n",
      "Predicted probability for observation 1: 0.08841084688901901\n",
      "\n"
     ]
    }
   ],
   "source": [
    "probs = model_rf.predict_proba(x_s)[:, 1]\n",
    "[print(f'Predicted probability for observation {i}: {e}') \\\n",
    " for i, e in zip(range(2), probs)]\n",
    "print('')"
   ]
  },
  {
   "cell_type": "markdown",
   "metadata": {},
   "source": [
    "The *dalex* implementation indicates that in both cases the *total_day_minutes* feature has the highest attribution value. This is consistent with the explanations obtained in the previous homework and makes intuitive sense. Such feature should greatly indicate whether the client is going to churn or not. Interestingly, other features seem to differ in terms of attributiosn between observations. For example, the *total_night_minutes* feature has the second highest absolute attribution for the second observation, and only second from last for the first observation. Moreover, *total_eve_minutes* has negative attribution for the first observation and positive for the second one."
   ]
  },
  {
   "cell_type": "code",
   "execution_count": 30,
   "metadata": {},
   "outputs": [
    {
     "name": "stdout",
     "output_type": "stream",
     "text": [
      "Preparation of a new explainer is initiated\n",
      "\n",
      "  -> data              : 4000 rows 8 cols\n",
      "  -> target variable   : Parameter 'y' was a pandas.Series. Converted to a numpy.ndarray.\n",
      "  -> target variable   : 4000 values\n",
      "  -> model_class       : xgboost.sklearn.XGBRFClassifier (default)\n",
      "  -> label             : RF\n",
      "  -> predict function  : <function make_shap_dalex.<locals>.<lambda> at 0x28a2ca290> will be used\n",
      "  -> predict function  : Accepts pandas.DataFrame and numpy.ndarray.\n",
      "  -> predicted values  : min = 0.0, mean = 0.072, max = 1.0\n",
      "  -> model type        : classification will be used (default)\n",
      "  -> residual function : difference between y and yhat (default)\n",
      "  -> residuals         : min = -1.0, mean = 0.0695, max = 1.0\n",
      "  -> model_info        : package xgboost\n",
      "\n",
      "A new explainer has been created!\n"
     ]
    },
    {
     "data": {
      "application/vnd.plotly.v1+json": {
       "config": {
        "displaylogo": false,
        "modeBarButtonsToRemove": [
         "sendDataToCloud",
         "lasso2d",
         "autoScale2d",
         "select2d",
         "zoom2d",
         "pan2d",
         "zoomIn2d",
         "zoomOut2d",
         "resetScale2d",
         "toggleSpikelines",
         "hoverCompareCartesian",
         "hoverClosestCartesian"
        ],
        "plotlyServerURL": "https://plot.ly",
        "staticPlot": false,
        "toImageButtonOptions": {
         "height": null,
         "width": null
        }
       },
       "data": [
        {
         "base": 0.072,
         "hoverinfo": "text",
         "hoverlabel": {
          "bgcolor": "rgba(0,0,0,0.8)"
         },
         "hovertext": [
          "Average response: 0.072<br>Prediction: 0<br>total_day_minutes = 197.2<br>decreases average response <br>by 0.051",
          "Average response: 0.072<br>Prediction: 0<br>total_eve_minutes = 168.1<br>decreases average response <br>by 0.012",
          "Average response: 0.072<br>Prediction: 0<br>total_day_charge = 33.52<br>decreases average response <br>by 0.006",
          "Average response: 0.072<br>Prediction: 0<br>total_eve_charge = 14.29<br>decreases average response <br>by 0.003",
          "Average response: 0.072<br>Prediction: 0<br>total_intl_minutes = 4.2<br>decreases average response <br>by 0.002",
          "Average response: 0.072<br>Prediction: 0<br>total_night_charge = 9.44<br>increases average response <br>by 0.001",
          "Average response: 0.072<br>Prediction: 0<br>total_night_minutes = 209.8<br>increases average response <br>by 0.001",
          "Average response: 0.072<br>Prediction: 0<br>total_intl_charge = 1.13<br>decreases average response <br>by 0.001"
         ],
         "marker": {
          "color": [
           "#f05a71",
           "#f05a71",
           "#f05a71",
           "#f05a71",
           "#f05a71",
           "#8bdcbe",
           "#8bdcbe",
           "#f05a71"
          ]
         },
         "orientation": "h",
         "showlegend": false,
         "text": [
          "-0.051",
          "-0.012",
          "-0.006",
          "-0.003",
          "-0.002",
          "+0.001",
          "+0.001",
          "-0.001"
         ],
         "textposition": "outside",
         "type": "bar",
         "x": [
          -0.051,
          -0.012,
          -0.006,
          -0.003,
          -0.002,
          0.001,
          0.001,
          -0.001
         ],
         "xaxis": "x",
         "y": [
          "total_day_minutes = 197.2",
          "total_eve_minutes = 168.1",
          "total_day_charge = 33.52",
          "total_eve_charge = 14.29",
          "total_intl_minutes = 4.2",
          "total_night_charge = 9.44",
          "total_night_minutes = 209.8",
          "total_intl_charge = 1.13"
         ],
         "yaxis": "y"
        },
        {
         "base": 0.072,
         "hoverinfo": "text",
         "hoverlabel": {
          "bgcolor": "rgba(0,0,0,0.8)"
         },
         "hovertext": [
          "Average response: 0.072<br>Prediction: 0<br>total_day_minutes = 217.4<br>decreases average response <br>by 0.06",
          "Average response: 0.072<br>Prediction: 0<br>total_night_minutes = 127.0<br>decreases average response <br>by 0.009",
          "Average response: 0.072<br>Prediction: 0<br>total_eve_minutes = 246.2<br>increases average response <br>by 0.008",
          "Average response: 0.072<br>Prediction: 0<br>total_day_charge = 36.96<br>decreases average response <br>by 0.005",
          "Average response: 0.072<br>Prediction: 0<br>total_night_charge = 5.72<br>decreases average response <br>by 0.003",
          "Average response: 0.072<br>Prediction: 0<br>total_intl_minutes = 7.5<br>decreases average response <br>by 0.002",
          "Average response: 0.072<br>Prediction: 0<br>total_eve_charge = 20.93<br>increases average response <br>by 0.001",
          "Average response: 0.072<br>Prediction: 0<br>total_intl_charge = 2.03<br>decreases average response <br>by 0.001"
         ],
         "marker": {
          "color": [
           "#f05a71",
           "#f05a71",
           "#8bdcbe",
           "#f05a71",
           "#f05a71",
           "#f05a71",
           "#8bdcbe",
           "#f05a71"
          ]
         },
         "orientation": "h",
         "showlegend": false,
         "text": [
          "-0.06",
          "-0.009",
          "+0.008",
          "-0.005",
          "-0.003",
          "-0.002",
          "+0.001",
          "-0.001"
         ],
         "textposition": "outside",
         "type": "bar",
         "x": [
          -0.06,
          -0.009,
          0.008,
          -0.005,
          -0.003,
          -0.002,
          0.001,
          -0.001
         ],
         "xaxis": "x2",
         "y": [
          "total_day_minutes = 217.4",
          "total_night_minutes = 127.0",
          "total_eve_minutes = 246.2",
          "total_day_charge = 36.96",
          "total_night_charge = 5.72",
          "total_intl_minutes = 7.5",
          "total_eve_charge = 20.93",
          "total_intl_charge = 2.03"
         ],
         "yaxis": "y2"
        }
       ],
       "layout": {
        "annotations": [
         {
          "font": {
           "size": 16
          },
          "showarrow": false,
          "text": "Observation 0",
          "x": 0.5,
          "xanchor": "center",
          "xref": "paper",
          "y": 1,
          "yanchor": "bottom",
          "yref": "paper"
         },
         {
          "font": {
           "size": 16
          },
          "showarrow": false,
          "text": "Observation 1",
          "x": 0.5,
          "xanchor": "center",
          "xref": "paper",
          "y": 0.45,
          "yanchor": "bottom",
          "yref": "paper"
         },
         {
          "font": {
           "size": 16
          },
          "showarrow": false,
          "text": "contribution",
          "x": 0.5,
          "xanchor": "center",
          "xref": "paper",
          "y": 0,
          "yanchor": "top",
          "yref": "paper",
          "yshift": -30
         }
        ],
        "font": {
         "color": "#371ea3"
        },
        "height": 547,
        "margin": {
         "b": 71,
         "r": 30,
         "t": 78
        },
        "shapes": [
         {
          "line": {
           "color": "#371ea3",
           "dash": "dot",
           "width": 1.5
          },
          "type": "line",
          "x0": 0.072,
          "x1": 0.072,
          "xref": "x",
          "y0": -1,
          "y1": 8,
          "yref": "y"
         },
         {
          "line": {
           "color": "#371ea3",
           "dash": "dot",
           "width": 1.5
          },
          "type": "line",
          "x0": 0.072,
          "x1": 0.072,
          "xref": "x2",
          "y0": -1,
          "y1": 8,
          "yref": "y2"
         }
        ],
        "template": {
         "data": {
          "scatter": [
           {
            "type": "scatter"
           }
          ]
         }
        },
        "title": {
         "text": "Shapley Values",
         "x": 0.15
        },
        "xaxis": {
         "anchor": "y",
         "automargin": true,
         "domain": [
          0,
          1
         ],
         "fixedrange": true,
         "gridwidth": 2,
         "matches": "x2",
         "range": [
          0.0017999999999999978,
          0.09019999999999999
         ],
         "showticklabels": false,
         "tickcolor": "white",
         "ticklen": 3,
         "ticks": "outside",
         "type": "linear",
         "zeroline": false
        },
        "xaxis2": {
         "anchor": "y2",
         "automargin": true,
         "domain": [
          0,
          1
         ],
         "fixedrange": true,
         "gridwidth": 2,
         "range": [
          0.0017999999999999978,
          0.09019999999999999
         ],
         "tickcolor": "white",
         "ticklen": 3,
         "ticks": "outside",
         "type": "linear",
         "zeroline": false
        },
        "yaxis": {
         "anchor": "x",
         "automargin": true,
         "autorange": "reversed",
         "domain": [
          0.55,
          1
         ],
         "fixedrange": true,
         "gridwidth": 2,
         "tickcolor": "white",
         "ticklen": 10,
         "ticks": "outside",
         "type": "category"
        },
        "yaxis2": {
         "anchor": "x2",
         "automargin": true,
         "autorange": "reversed",
         "domain": [
          0,
          0.45
         ],
         "fixedrange": true,
         "gridwidth": 2,
         "tickcolor": "white",
         "ticklen": 10,
         "ticks": "outside",
         "type": "category"
        }
       }
      }
     },
     "metadata": {},
     "output_type": "display_data"
    }
   ],
   "source": [
    "make_shap_dalex()"
   ]
  },
  {
   "cell_type": "markdown",
   "metadata": {},
   "source": [
    "Interestingly, the *shap* implementation, while still assigning the highest absolute attribution to *total_day_minutes*, differs in terms of other features. Interestingly, for the first observation, *total_eve_minutes* is only the fourth feature in terms of absolute attribution, and for the second observation the *total_intl_minutes* feature seems to have a much higher importance."
   ]
  },
  {
   "cell_type": "code",
   "execution_count": null,
   "metadata": {},
   "outputs": [
    {
     "name": "stderr",
     "output_type": "stream",
     "text": [
      "/Users/bartlomiejsobieski/miniforge3/envs/mimuw_xai/lib/python3.10/site-packages/xgboost/core.py:160: UserWarning:\n",
      "\n",
      "[22:01:26] WARNING: /Users/runner/work/xgboost/xgboost/src/c_api/c_api.cc:1240: Saving into deprecated binary model format, please consider using `json` or `ubj`. Model format will default to JSON in XGBoost 2.2 if not specified.\n",
      "\n"
     ]
    },
    {
     "name": "stdout",
     "output_type": "stream",
     "text": [
      "Observation: 0\n"
     ]
    },
    {
     "data": {
      "image/png": "[encoded data removed]",
      "text/plain": [
       "<Figure size 800x550 with 3 Axes>"
      ]
     },
     "metadata": {},
     "output_type": "display_data"
    },
    {
     "name": "stdout",
     "output_type": "stream",
     "text": [
      "Observation: 1\n"
     ]
    },
    {
     "data": {
      "image/png": "[encoded data removed]",
      "text/plain": [
       "<Figure size 800x550 with 3 Axes>"
      ]
     },
     "metadata": {},
     "output_type": "display_data"
    }
   ],
   "source": [
    "make_shap_shap()"
   ]
  },
  {
   "cell_type": "markdown",
   "metadata": {},
   "source": [
    "While preserving most of the ordering, the *shap* implementation still seems to differ from the *dalex* implementation."
   ]
  },
  {
   "cell_type": "markdown",
   "metadata": {},
   "source": [
    "# Task 4, 5"
   ]
  },
  {
   "cell_type": "markdown",
   "metadata": {},
   "source": [
    "We proceed with the *dalex* implementation and find two observations for which different features are the most important. We limit to only the top feature as manual search indicated no examples where the top two features differ simultaenously. For the chosen observations, the predicted probability of churning differs by 0.08, but still remains low. For the first observation, the *total_day_minutes* still seems to have the highest importance. However, for the second observation, *total_eve_minutes* dominates other features in terms of absolute attribution. Interestingly, *total_day_minutes* has a positive attribution for the second observation, which seemed to be very rare across many searched observations. Therefore, there is a clear indication of different 'reasoning' standing behind an increased probability for the second observation."
   ]
  },
  {
   "cell_type": "code",
   "execution_count": 36,
   "metadata": {},
   "outputs": [
    {
     "name": "stdout",
     "output_type": "stream",
     "text": [
      "Probability for observation 1: 0.10076433420181274\n",
      "Probability for observation 2: 0.18861456215381622\n",
      "Preparation of a new explainer is initiated\n",
      "\n",
      "  -> data              : 4000 rows 8 cols\n",
      "  -> target variable   : Parameter 'y' was a pandas.Series. Converted to a numpy.ndarray.\n",
      "  -> target variable   : 4000 values\n",
      "  -> model_class       : xgboost.sklearn.XGBRFClassifier (default)\n",
      "  -> label             : RF\n",
      "  -> predict function  : <function make_plot_tasks_4_5.<locals>.<lambda> at 0x28a2ca9e0> will be used\n",
      "  -> predict function  : Accepts pandas.DataFrame and numpy.ndarray.\n",
      "  -> predicted values  : min = 0.0, mean = 0.072, max = 1.0\n",
      "  -> model type        : classification will be used (default)\n",
      "  -> residual function : difference between y and yhat (default)\n",
      "  -> residuals         : min = -1.0, mean = 0.0695, max = 1.0\n",
      "  -> model_info        : package xgboost\n",
      "\n",
      "A new explainer has been created!\n"
     ]
    },
    {
     "data": {
      "application/vnd.plotly.v1+json": {
       "config": {
        "displaylogo": false,
        "modeBarButtonsToRemove": [
         "sendDataToCloud",
         "lasso2d",
         "autoScale2d",
         "select2d",
         "zoom2d",
         "pan2d",
         "zoomIn2d",
         "zoomOut2d",
         "resetScale2d",
         "toggleSpikelines",
         "hoverCompareCartesian",
         "hoverClosestCartesian"
        ],
        "plotlyServerURL": "https://plot.ly",
        "staticPlot": false,
        "toImageButtonOptions": {
         "height": null,
         "width": null
        }
       },
       "data": [
        {
         "base": 0.072,
         "hoverinfo": "text",
         "hoverlabel": {
          "bgcolor": "rgba(0,0,0,0.8)"
         },
         "hovertext": [
          "Average response: 0.072<br>Prediction: 0<br>total_day_minutes = 97.2<br>decreases average response <br>by 0.092",
          "Average response: 0.072<br>Prediction: 0<br>total_eve_minutes = 243.7<br>increases average response <br>by 0.017",
          "Average response: 0.072<br>Prediction: 0<br>total_day_charge = 16.52<br>decreases average response <br>by 0.011",
          "Average response: 0.072<br>Prediction: 0<br>total_night_minutes = 235.0<br>increases average response <br>by 0.008",
          "Average response: 0.072<br>Prediction: 0<br>total_eve_charge = 20.71<br>increases average response <br>by 0.006",
          "Average response: 0.072<br>Prediction: 0<br>total_night_charge = 10.58<br>increases average response <br>by 0.001",
          "Average response: 0.072<br>Prediction: 0<br>total_intl_minutes = 10.1<br>decreases average response <br>by 0.001",
          "Average response: 0.072<br>Prediction: 0<br>total_intl_charge = 2.73<br>decreases average response <br>by 0.001"
         ],
         "marker": {
          "color": [
           "#f05a71",
           "#8bdcbe",
           "#f05a71",
           "#8bdcbe",
           "#8bdcbe",
           "#8bdcbe",
           "#f05a71",
           "#f05a71"
          ]
         },
         "orientation": "h",
         "showlegend": false,
         "text": [
          "-0.092",
          "+0.017",
          "-0.011",
          "+0.008",
          "+0.006",
          "+0.001",
          "-0.001",
          "-0.001"
         ],
         "textposition": "outside",
         "type": "bar",
         "x": [
          -0.092,
          0.017,
          -0.011,
          0.008,
          0.006,
          0.001,
          -0.001,
          -0.001
         ],
         "xaxis": "x",
         "y": [
          "total_day_minutes = 97.2",
          "total_eve_minutes = 243.7",
          "total_day_charge = 16.52",
          "total_night_minutes = 235.0",
          "total_eve_charge = 20.71",
          "total_night_charge = 10.58",
          "total_intl_minutes = 10.1",
          "total_intl_charge = 2.73"
         ],
         "yaxis": "y"
        },
        {
         "base": 0.072,
         "hoverinfo": "text",
         "hoverlabel": {
          "bgcolor": "rgba(0,0,0,0.8)"
         },
         "hovertext": [
          "Average response: 0.072<br>Prediction: 0<br>total_eve_minutes = 174.2<br>decreases average response <br>by 0.153",
          "Average response: 0.072<br>Prediction: 0<br>total_day_minutes = 260.9<br>increases average response <br>by 0.056",
          "Average response: 0.072<br>Prediction: 0<br>total_day_charge = 44.35<br>increases average response <br>by 0.019",
          "Average response: 0.072<br>Prediction: 0<br>total_night_minutes = 262.8<br>increases average response <br>by 0.016",
          "Average response: 0.072<br>Prediction: 0<br>total_eve_charge = 14.81<br>decreases average response <br>by 0.007",
          "Average response: 0.072<br>Prediction: 0<br>total_night_charge = 11.83<br>increases average response <br>by 0.005",
          "Average response: 0.072<br>Prediction: 0<br>total_intl_charge = 2.86<br>decreases average response <br>by 0.005",
          "Average response: 0.072<br>Prediction: 0<br>total_intl_minutes = 10.6<br>decreases average response <br>by 0.004"
         ],
         "marker": {
          "color": [
           "#f05a71",
           "#8bdcbe",
           "#8bdcbe",
           "#8bdcbe",
           "#f05a71",
           "#8bdcbe",
           "#f05a71",
           "#f05a71"
          ]
         },
         "orientation": "h",
         "showlegend": false,
         "text": [
          "-0.153",
          "+0.056",
          "+0.019",
          "+0.016",
          "-0.007",
          "+0.005",
          "-0.005",
          "-0.004"
         ],
         "textposition": "outside",
         "type": "bar",
         "x": [
          -0.153,
          0.056,
          0.019,
          0.016,
          -0.007,
          0.005,
          -0.005,
          -0.004
         ],
         "xaxis": "x2",
         "y": [
          "total_eve_minutes = 174.2",
          "total_day_minutes = 260.9",
          "total_day_charge = 44.35",
          "total_night_minutes = 262.8",
          "total_eve_charge = 14.81",
          "total_night_charge = 11.83",
          "total_intl_charge = 2.86",
          "total_intl_minutes = 10.6"
         ],
         "yaxis": "y2"
        }
       ],
       "layout": {
        "annotations": [
         {
          "font": {
           "size": 16
          },
          "showarrow": false,
          "text": "Observation 3",
          "x": 0.5,
          "xanchor": "center",
          "xref": "paper",
          "y": 1,
          "yanchor": "bottom",
          "yref": "paper"
         },
         {
          "font": {
           "size": 16
          },
          "showarrow": false,
          "text": "Observation 10",
          "x": 0.5,
          "xanchor": "center",
          "xref": "paper",
          "y": 0.45,
          "yanchor": "bottom",
          "yref": "paper"
         },
         {
          "font": {
           "size": 16
          },
          "showarrow": false,
          "text": "contribution",
          "x": 0.5,
          "xanchor": "center",
          "xref": "paper",
          "y": 0,
          "yanchor": "top",
          "yref": "paper",
          "yshift": -30
         }
        ],
        "font": {
         "color": "#371ea3"
        },
        "height": 547,
        "margin": {
         "b": 71,
         "r": 30,
         "t": 78
        },
        "shapes": [
         {
          "line": {
           "color": "#371ea3",
           "dash": "dot",
           "width": 1.5
          },
          "type": "line",
          "x0": 0.072,
          "x1": 0.072,
          "xref": "x",
          "y0": -1,
          "y1": 8,
          "yref": "y"
         },
         {
          "line": {
           "color": "#371ea3",
           "dash": "dot",
           "width": 1.5
          },
          "type": "line",
          "x0": 0.072,
          "x1": 0.072,
          "xref": "x2",
          "y0": -1,
          "y1": 8,
          "yref": "y2"
         }
        ],
        "template": {
         "data": {
          "scatter": [
           {
            "type": "scatter"
           }
          ]
         }
        },
        "title": {
         "text": "Shapley Values",
         "x": 0.15
        },
        "xaxis": {
         "anchor": "y",
         "automargin": true,
         "domain": [
          0,
          1
         ],
         "fixedrange": true,
         "gridwidth": 2,
         "matches": "x2",
         "range": [
          -0.11235,
          0.15935
         ],
         "showticklabels": false,
         "tickcolor": "white",
         "ticklen": 3,
         "ticks": "outside",
         "type": "linear",
         "zeroline": false
        },
        "xaxis2": {
         "anchor": "y2",
         "automargin": true,
         "domain": [
          0,
          1
         ],
         "fixedrange": true,
         "gridwidth": 2,
         "range": [
          -0.11235,
          0.15935
         ],
         "tickcolor": "white",
         "ticklen": 3,
         "ticks": "outside",
         "type": "linear",
         "zeroline": false
        },
        "yaxis": {
         "anchor": "x",
         "automargin": true,
         "autorange": "reversed",
         "domain": [
          0.55,
          1
         ],
         "fixedrange": true,
         "gridwidth": 2,
         "tickcolor": "white",
         "ticklen": 10,
         "ticks": "outside",
         "type": "category"
        },
        "yaxis2": {
         "anchor": "x2",
         "automargin": true,
         "autorange": "reversed",
         "domain": [
          0,
          0.45
         ],
         "fixedrange": true,
         "gridwidth": 2,
         "tickcolor": "white",
         "ticklen": 10,
         "ticks": "outside",
         "type": "category"
        }
       }
      }
     },
     "metadata": {},
     "output_type": "display_data"
    }
   ],
   "source": [
    "make_plot_tasks_4_5()"
   ]
  },
  {
   "cell_type": "markdown",
   "metadata": {},
   "source": [
    "# Task 7"
   ]
  },
  {
   "cell_type": "markdown",
   "metadata": {},
   "source": [
    "To see how variable attributions differ between different models, we train a simple MLP using *scikit-learn* and calculate variable attributions using the *dalex* implementation. We analyze the observations from the previous task. Interestingly, MLP assigns a similar but lower probability to the first observation, and a much higher probability to the second one. While the ordering of these probabilities remains the same, variable attributions indicate a totally different decision-making process. For both cases, *total_day_charge* is the most important feature. While *total_day_minutes* is the second most important feature for the first observation, its attribution is positive - contrary to the random forest model. It it also positive for the second observation, although seems to be of much lower importance. In general, the explanations indicate that these models greatly differ in how they perform a decision."
   ]
  },
  {
   "cell_type": "code",
   "execution_count": 38,
   "metadata": {},
   "outputs": [
    {
     "name": "stdout",
     "output_type": "stream",
     "text": [
      "Probability for observation 1: 0.08895326872084033\n",
      "Probability for observation 2: 0.31728696521103766\n",
      "Preparation of a new explainer is initiated\n",
      "\n",
      "  -> data              : 4000 rows 8 cols\n",
      "  -> target variable   : Parameter 'y' was a pandas.Series. Converted to a numpy.ndarray.\n",
      "  -> target variable   : 4000 values\n",
      "  -> model_class       : sklearn.neural_network._multilayer_perceptron.MLPClassifier (default)\n",
      "  -> label             : RF\n",
      "  -> predict function  : <function make_plot_task_7.<locals>.<lambda> at 0x28ba5ea70> will be used\n",
      "  -> predict function  : Accepts pandas.DataFrame and numpy.ndarray.\n",
      "  -> predicted values  : min = 0.00876, mean = 0.136, max = 0.99\n",
      "  -> model type        : classification will be used (default)\n",
      "  -> residual function : difference between y and yhat (default)\n",
      "  -> residuals         : min = -0.94, mean = 0.00507, max = 0.982\n",
      "  -> model_info        : package sklearn\n",
      "\n",
      "A new explainer has been created!\n"
     ]
    },
    {
     "name": "stderr",
     "output_type": "stream",
     "text": [
      "/Users/bartlomiejsobieski/miniforge3/envs/mimuw_xai/lib/python3.10/site-packages/sklearn/base.py:465: UserWarning:\n",
      "\n",
      "X does not have valid feature names, but StandardScaler was fitted with feature names\n",
      "\n"
     ]
    },
    {
     "data": {
      "application/vnd.plotly.v1+json": {
       "config": {
        "displaylogo": false,
        "modeBarButtonsToRemove": [
         "sendDataToCloud",
         "lasso2d",
         "autoScale2d",
         "select2d",
         "zoom2d",
         "pan2d",
         "zoomIn2d",
         "zoomOut2d",
         "resetScale2d",
         "toggleSpikelines",
         "hoverCompareCartesian",
         "hoverClosestCartesian"
        ],
        "plotlyServerURL": "https://plot.ly",
        "staticPlot": false,
        "toImageButtonOptions": {
         "height": null,
         "width": null
        }
       },
       "data": [
        {
         "base": 0.1364321494474808,
         "hoverinfo": "text",
         "hoverlabel": {
          "bgcolor": "rgba(0,0,0,0.8)"
         },
         "hovertext": [
          "Average response: 0.136<br>Prediction: 0.089<br>total_day_charge = 16.52<br>decreases average response <br>by 0.117",
          "Average response: 0.136<br>Prediction: 0.089<br>total_day_minutes = 97.2<br>increases average response <br>by 0.077",
          "Average response: 0.136<br>Prediction: 0.089<br>total_night_minutes = 235.0<br>decreases average response <br>by 0.037",
          "Average response: 0.136<br>Prediction: 0.089<br>total_night_charge = 10.58<br>increases average response <br>by 0.034",
          "Average response: 0.136<br>Prediction: 0.089<br>total_eve_charge = 20.71<br>decreases average response <br>by 0.011",
          "Average response: 0.136<br>Prediction: 0.089<br>total_eve_minutes = 243.7<br>increases average response <br>by 0.009",
          "Average response: 0.136<br>Prediction: 0.089<br>total_intl_charge = 2.73<br>decreases average response <br>by 0.007",
          "Average response: 0.136<br>Prediction: 0.089<br>total_intl_minutes = 10.1<br>increases average response <br>by 0.005"
         ],
         "marker": {
          "color": [
           "#f05a71",
           "#8bdcbe",
           "#f05a71",
           "#8bdcbe",
           "#f05a71",
           "#8bdcbe",
           "#f05a71",
           "#8bdcbe"
          ]
         },
         "orientation": "h",
         "showlegend": false,
         "text": [
          "-0.117",
          "+0.077",
          "-0.037",
          "+0.034",
          "-0.011",
          "+0.009",
          "-0.007",
          "+0.005"
         ],
         "textposition": "outside",
         "type": "bar",
         "x": [
          -0.117,
          0.077,
          -0.037,
          0.034,
          -0.011,
          0.009,
          -0.007,
          0.005
         ],
         "xaxis": "x",
         "y": [
          "total_day_charge = 16.52",
          "total_day_minutes = 97.2",
          "total_night_minutes = 235.0",
          "total_night_charge = 10.58",
          "total_eve_charge = 20.71",
          "total_eve_minutes = 243.7",
          "total_intl_charge = 2.73",
          "total_intl_minutes = 10.1"
         ],
         "yaxis": "y"
        },
        {
         "base": 0.1364321494474808,
         "hoverinfo": "text",
         "hoverlabel": {
          "bgcolor": "rgba(0,0,0,0.8)"
         },
         "hovertext": [
          "Average response: 0.136<br>Prediction: 0.317<br>total_day_charge = 44.35<br>increases average response <br>by 0.158",
          "Average response: 0.136<br>Prediction: 0.317<br>total_night_charge = 11.83<br>increases average response <br>by 0.098",
          "Average response: 0.136<br>Prediction: 0.317<br>total_eve_minutes = 174.2<br>decreases average response <br>by 0.05",
          "Average response: 0.136<br>Prediction: 0.317<br>total_night_minutes = 262.8<br>decreases average response <br>by 0.042",
          "Average response: 0.136<br>Prediction: 0.317<br>total_day_minutes = 260.9<br>increases average response <br>by 0.026",
          "Average response: 0.136<br>Prediction: 0.317<br>total_intl_minutes = 10.6<br>decreases average response <br>by 0.019",
          "Average response: 0.136<br>Prediction: 0.317<br>total_intl_charge = 2.86<br>increases average response <br>by 0.01",
          "Average response: 0.136<br>Prediction: 0.317<br>total_eve_charge = 14.81<br>decreases average response <br>by 0.002"
         ],
         "marker": {
          "color": [
           "#8bdcbe",
           "#8bdcbe",
           "#f05a71",
           "#f05a71",
           "#8bdcbe",
           "#f05a71",
           "#8bdcbe",
           "#f05a71"
          ]
         },
         "orientation": "h",
         "showlegend": false,
         "text": [
          "+0.158",
          "+0.098",
          "-0.05",
          "-0.042",
          "+0.026",
          "-0.019",
          "+0.01",
          "-0.002"
         ],
         "textposition": "outside",
         "type": "bar",
         "x": [
          0.158,
          0.098,
          -0.05,
          -0.042,
          0.026,
          -0.019,
          0.01,
          -0.002
         ],
         "xaxis": "x2",
         "y": [
          "total_day_charge = 44.35",
          "total_night_charge = 11.83",
          "total_eve_minutes = 174.2",
          "total_night_minutes = 262.8",
          "total_day_minutes = 260.9",
          "total_intl_minutes = 10.6",
          "total_intl_charge = 2.86",
          "total_eve_charge = 14.81"
         ],
         "yaxis": "y2"
        }
       ],
       "layout": {
        "annotations": [
         {
          "font": {
           "size": 16
          },
          "showarrow": false,
          "text": "Observation 3",
          "x": 0.5,
          "xanchor": "center",
          "xref": "paper",
          "y": 1,
          "yanchor": "bottom",
          "yref": "paper"
         },
         {
          "font": {
           "size": 16
          },
          "showarrow": false,
          "text": "Observation 10",
          "x": 0.5,
          "xanchor": "center",
          "xref": "paper",
          "y": 0.45,
          "yanchor": "bottom",
          "yref": "paper"
         },
         {
          "font": {
           "size": 16
          },
          "showarrow": false,
          "text": "contribution",
          "x": 0.5,
          "xanchor": "center",
          "xref": "paper",
          "y": 0,
          "yanchor": "top",
          "yref": "paper",
          "yshift": -30
         }
        ],
        "font": {
         "color": "#371ea3"
        },
        "height": 547,
        "margin": {
         "b": 71,
         "r": 30,
         "t": 78
        },
        "shapes": [
         {
          "line": {
           "color": "#371ea3",
           "dash": "dot",
           "width": 1.5
          },
          "type": "line",
          "x0": 0.1364321494474808,
          "x1": 0.1364321494474808,
          "xref": "x",
          "y0": -1,
          "y1": 8,
          "yref": "y"
         },
         {
          "line": {
           "color": "#371ea3",
           "dash": "dot",
           "width": 1.5
          },
          "type": "line",
          "x0": 0.1364321494474808,
          "x1": 0.1364321494474808,
          "xref": "x2",
          "y0": -1,
          "y1": 8,
          "yref": "y2"
         }
        ],
        "template": {
         "data": {
          "scatter": [
           {
            "type": "scatter"
           }
          ]
         }
        },
        "title": {
         "text": "Shapley Values",
         "x": 0.15
        },
        "xaxis": {
         "anchor": "y",
         "automargin": true,
         "domain": [
          0,
          1
         ],
         "fixedrange": true,
         "gridwidth": 2,
         "matches": "x2",
         "range": [
          -0.009667850552519203,
          0.3256321494474808
         ],
         "showticklabels": false,
         "tickcolor": "white",
         "ticklen": 3,
         "ticks": "outside",
         "type": "linear",
         "zeroline": false
        },
        "xaxis2": {
         "anchor": "y2",
         "automargin": true,
         "domain": [
          0,
          1
         ],
         "fixedrange": true,
         "gridwidth": 2,
         "range": [
          -0.009667850552519203,
          0.3256321494474808
         ],
         "tickcolor": "white",
         "ticklen": 3,
         "ticks": "outside",
         "type": "linear",
         "zeroline": false
        },
        "yaxis": {
         "anchor": "x",
         "automargin": true,
         "autorange": "reversed",
         "domain": [
          0.55,
          1
         ],
         "fixedrange": true,
         "gridwidth": 2,
         "tickcolor": "white",
         "ticklen": 10,
         "ticks": "outside",
         "type": "category"
        },
        "yaxis2": {
         "anchor": "x2",
         "automargin": true,
         "autorange": "reversed",
         "domain": [
          0,
          0.45
         ],
         "fixedrange": true,
         "gridwidth": 2,
         "tickcolor": "white",
         "ticklen": 10,
         "ticks": "outside",
         "type": "category"
        }
       }
      }
     },
     "metadata": {},
     "output_type": "display_data"
    }
   ],
   "source": [
    "make_plot_task_7()"
   ]
  },
  {
   "cell_type": "markdown",
   "metadata": {},
   "source": [
    "# Task B"
   ]
  },
  {
   "cell_type": "markdown",
   "metadata": {},
   "source": [
    "In Task B, our goal is to calculate Shapley values for player A given the following value function:\n",
    "\n",
    "v() = 0  \n",
    "v(A) = 20  \n",
    "v(B) = 20  \n",
    "v(C) = 60  \n",
    "v(A,B) = 60  \n",
    "v(A,C) = 70  \n",
    "v(B,C) = 70  \n",
    "v(A,B,C) = 100  \n",
    "\n",
    "We begin with constructing the table:\n",
    "\n",
    "| Prob | Order | A's margina | B's marginal | C's marginal |\n",
    "|------|-------|-------------|--------------|--------------|\n",
    "| 1/6  |  ABC  |     20      |       v(A, B) - v(A) = 40       |       v(A, B, C) - v(A, B) = 40       |\n",
    "| 1/6  |  ACB  |     20      |      v(A, B, C) - v(A, C) = 30        |       v(A, C) - v(A) = 50       |\n",
    "| 1/6  |  BAC  |     v(A, B) - v(B) = 40        |      20        |       v(A, B, C) - v(A, B) = 40       |\n",
    "| 1/6  |  BCA  |     v(A, B, C) - v(B, C) = 30        |      20        |      v(B, C) - v(B) = 50        |\n",
    "| 1/6  |  CAB  |     v(A, C) - v(C) 10       |       v(A, B, C) - v(A, C) = 30       |     60         |\n",
    "| 1/6  |  CBA  |     v(A, B, C) - v(B, C) = 30     |    v(B, C) - v(C) = 10          |      60      |\n",
    "\n",
    "Therefore, for player A, we have the following Shapley value:\n",
    "\n",
    "1/6 * (20 + 20 + 40 + 30 + 10 + 30) = 150/6 = 25"
   ]
  },
  {
   "cell_type": "markdown",
   "metadata": {},
   "source": [
    "# Appendix"
   ]
  },
  {
   "cell_type": "code",
   "execution_count": 2,
   "metadata": {},
   "outputs": [],
   "source": [
    "import dalex as dx\n",
    "import shap\n",
    "import numpy as np\n",
    "import pandas as pd\n",
    "import matplotlib.pyplot as plt\n",
    "\n",
    "from sklearn.neural_network import MLPClassifier\n",
    "from sklearn.preprocessing import StandardScaler\n",
    "from sklearn.model_selection import train_test_split\n",
    "from sklearn.pipeline import Pipeline\n",
    "from sklearn.metrics import roc_auc_score, average_precision_score"
   ]
  },
  {
   "cell_type": "code",
   "execution_count": 3,
   "metadata": {},
   "outputs": [],
   "source": [
    "PATH_DATASET = 'churn.csv'\n",
    "DATASET = pd.read_csv(PATH_DATASET, index_col = 0)"
   ]
  },
  {
   "cell_type": "code",
   "execution_count": 4,
   "metadata": {},
   "outputs": [],
   "source": [
    "SEED = 0"
   ]
  },
  {
   "cell_type": "code",
   "execution_count": 5,
   "metadata": {},
   "outputs": [],
   "source": [
    "METRICS = {\n",
    "    'roc_auc': roc_auc_score,\n",
    "    'pr_auc': average_precision_score}"
   ]
  },
  {
   "cell_type": "code",
   "execution_count": 6,
   "metadata": {},
   "outputs": [],
   "source": [
    "import xgboost as xgb\n",
    "MODELS = {\n",
    "    'random_forest': xgb.XGBRFClassifier(random_state = SEED),\n",
    "    'mlp': Pipeline([\n",
    "        ('standard_scaler', StandardScaler()),\n",
    "        ('mlp', MLPClassifier((32, 32), 'relu', random_state = SEED))])}"
   ]
  },
  {
   "cell_type": "code",
   "execution_count": 7,
   "metadata": {},
   "outputs": [],
   "source": [
    "def get_train_test_split():\n",
    "    x, y = DATASET.iloc[:, :-1], DATASET.iloc[:, -1]\n",
    "    return x.loc[:(len(x) * 0.8) - 1], x.loc[(len(x) * 0.8):], y.loc[:(len(y) * 0.8) - 1], y.loc[(len(y) * 0.8):]\n",
    "\n",
    "def train_models():\n",
    "    x_train, x_test, y_train, y_test = get_train_test_split()\n",
    "    results = {model_name: {} for model_name in MODELS.keys()}\n",
    "    trained_models = {}\n",
    "    for model_name, model in MODELS.items():\n",
    "        model.fit(x_train, y_train)\n",
    "        trained_models[model_name] = model\n",
    "        if isinstance(model, xgb.XGBRFClassifier):\n",
    "            y_pred = model.predict(x_test)\n",
    "        else:\n",
    "            y_pred = model.predict_proba(x_test)[:, -1]\n",
    "        for metric_name, metric in METRICS.items():\n",
    "            results[model_name][metric_name] = metric(y_test, y_pred)\n",
    "    print('Finished')\n",
    "    return trained_models, results"
   ]
  },
  {
   "cell_type": "code",
   "execution_count": 8,
   "metadata": {},
   "outputs": [
    {
     "name": "stdout",
     "output_type": "stream",
     "text": [
      "Finished\n"
     ]
    },
    {
     "name": "stderr",
     "output_type": "stream",
     "text": [
      "Stochastic Optimizer: Maximum iterations (200) reached and the optimization hasn't converged yet.\n"
     ]
    }
   ],
   "source": [
    "trained_models, test_metrics = train_models()\n",
    "x_train, x_test, y_train, y_test = get_train_test_split()"
   ]
  },
  {
   "cell_type": "code",
   "execution_count": 9,
   "metadata": {},
   "outputs": [
    {
     "name": "stdout",
     "output_type": "stream",
     "text": [
      "4000    0\n",
      "4001    0\n",
      "Name: TARGET, dtype: int64\n"
     ]
    }
   ],
   "source": [
    "x_s, y_s = x_test[:2], y_test[:2]\n",
    "print(y_s)"
   ]
  },
  {
   "cell_type": "code",
   "execution_count": 10,
   "metadata": {},
   "outputs": [
    {
     "data": {
      "text/plain": [
       "array([0, 0])"
      ]
     },
     "execution_count": 10,
     "metadata": {},
     "output_type": "execute_result"
    }
   ],
   "source": [
    "model_rf = trained_models['random_forest']\n",
    "model_rf.predict(x_s)"
   ]
  },
  {
   "cell_type": "code",
   "execution_count": 17,
   "metadata": {},
   "outputs": [],
   "source": [
    "def make_shap_dalex():\n",
    "    predict_func = lambda m, d: m.predict(d)\n",
    "    explainer = dx.Explainer(\n",
    "        model_rf, x_train, y_train, predict_function = predict_func, label = \"RF\")\n",
    "    explainer.model_performance()\n",
    "    shap_attributions = [explainer.predict_parts(\n",
    "        x_s.iloc[[i]], type = \"shap\", label=f'Observation {i}') for i in range(2)]\n",
    "    shap_attributions[0].plot(shap_attributions[1::])"
   ]
  },
  {
   "cell_type": "code",
   "execution_count": 18,
   "metadata": {},
   "outputs": [
    {
     "name": "stdout",
     "output_type": "stream",
     "text": [
      "Preparation of a new explainer is initiated\n",
      "\n",
      "  -> data              : 4000 rows 8 cols\n",
      "  -> target variable   : Parameter 'y' was a pandas.Series. Converted to a numpy.ndarray.\n",
      "  -> target variable   : 4000 values\n",
      "  -> model_class       : xgboost.sklearn.XGBRFClassifier (default)\n",
      "  -> label             : RF\n",
      "  -> predict function  : <function make_shap_dalex.<locals>.<lambda> at 0x28b803d90> will be used\n",
      "  -> predict function  : Accepts pandas.DataFrame and numpy.ndarray.\n",
      "  -> predicted values  : min = 0.0, mean = 0.072, max = 1.0\n",
      "  -> model type        : classification will be used (default)\n",
      "  -> residual function : difference between y and yhat (default)\n",
      "  -> residuals         : min = -1.0, mean = 0.0695, max = 1.0\n",
      "  -> model_info        : package xgboost\n",
      "\n",
      "A new explainer has been created!\n"
     ]
    },
    {
     "data": {
      "application/vnd.plotly.v1+json": {
       "config": {
        "displaylogo": false,
        "modeBarButtonsToRemove": [
         "sendDataToCloud",
         "lasso2d",
         "autoScale2d",
         "select2d",
         "zoom2d",
         "pan2d",
         "zoomIn2d",
         "zoomOut2d",
         "resetScale2d",
         "toggleSpikelines",
         "hoverCompareCartesian",
         "hoverClosestCartesian"
        ],
        "plotlyServerURL": "https://plot.ly",
        "staticPlot": false,
        "toImageButtonOptions": {
         "height": null,
         "width": null
        }
       },
       "data": [
        {
         "base": 0.072,
         "hoverinfo": "text",
         "hoverlabel": {
          "bgcolor": "rgba(0,0,0,0.8)"
         },
         "hovertext": [
          "Average response: 0.072<br>Prediction: 0<br>total_day_minutes = 197.2<br>decreases average response <br>by 0.053",
          "Average response: 0.072<br>Prediction: 0<br>total_eve_minutes = 168.1<br>decreases average response <br>by 0.012",
          "Average response: 0.072<br>Prediction: 0<br>total_day_charge = 33.52<br>decreases average response <br>by 0.005",
          "Average response: 0.072<br>Prediction: 0<br>total_intl_minutes = 4.2<br>decreases average response <br>by 0.002",
          "Average response: 0.072<br>Prediction: 0<br>total_night_minutes = 209.8<br>increases average response <br>by 0.001",
          "Average response: 0.072<br>Prediction: 0<br>total_intl_charge = 1.13<br>decreases average response <br>by 0.001",
          "Average response: 0.072<br>Prediction: 0<br>total_eve_charge = 14.29<br>decreases average response <br>by 0.001",
          "Average response: 0.072<br>Prediction: 0<br>total_night_charge = 9.44<br>increases average response <br>by 0.001"
         ],
         "marker": {
          "color": [
           "#f05a71",
           "#f05a71",
           "#f05a71",
           "#f05a71",
           "#8bdcbe",
           "#f05a71",
           "#f05a71",
           "#8bdcbe"
          ]
         },
         "orientation": "h",
         "showlegend": false,
         "text": [
          "-0.053",
          "-0.012",
          "-0.005",
          "-0.002",
          "+0.001",
          "-0.001",
          "-0.001",
          "+0.001"
         ],
         "textposition": "outside",
         "type": "bar",
         "x": [
          -0.053,
          -0.012,
          -0.005,
          -0.002,
          0.001,
          -0.001,
          -0.001,
          0.001
         ],
         "xaxis": "x",
         "y": [
          "total_day_minutes = 197.2",
          "total_eve_minutes = 168.1",
          "total_day_charge = 33.52",
          "total_intl_minutes = 4.2",
          "total_night_minutes = 209.8",
          "total_intl_charge = 1.13",
          "total_eve_charge = 14.29",
          "total_night_charge = 9.44"
         ],
         "yaxis": "y"
        },
        {
         "base": 0.072,
         "hoverinfo": "text",
         "hoverlabel": {
          "bgcolor": "rgba(0,0,0,0.8)"
         },
         "hovertext": [
          "Average response: 0.072<br>Prediction: 0<br>total_day_minutes = 217.4<br>decreases average response <br>by 0.062",
          "Average response: 0.072<br>Prediction: 0<br>total_eve_minutes = 246.2<br>increases average response <br>by 0.013",
          "Average response: 0.072<br>Prediction: 0<br>total_night_minutes = 127.0<br>decreases average response <br>by 0.011",
          "Average response: 0.072<br>Prediction: 0<br>total_day_charge = 36.96<br>decreases average response <br>by 0.004",
          "Average response: 0.072<br>Prediction: 0<br>total_night_charge = 5.72<br>decreases average response <br>by 0.004",
          "Average response: 0.072<br>Prediction: 0<br>total_intl_minutes = 7.5<br>decreases average response <br>by 0.004",
          "Average response: 0.072<br>Prediction: 0<br>total_eve_charge = 20.93<br>increases average response <br>by 0.003",
          "Average response: 0.072<br>Prediction: 0<br>total_intl_charge = 2.03<br>decreases average response <br>by 0.002"
         ],
         "marker": {
          "color": [
           "#f05a71",
           "#8bdcbe",
           "#f05a71",
           "#f05a71",
           "#f05a71",
           "#f05a71",
           "#8bdcbe",
           "#f05a71"
          ]
         },
         "orientation": "h",
         "showlegend": false,
         "text": [
          "-0.062",
          "+0.013",
          "-0.011",
          "-0.004",
          "-0.004",
          "-0.004",
          "+0.003",
          "-0.002"
         ],
         "textposition": "outside",
         "type": "bar",
         "x": [
          -0.062,
          0.013,
          -0.011,
          -0.004,
          -0.004,
          -0.004,
          0.003,
          -0.002
         ],
         "xaxis": "x2",
         "y": [
          "total_day_minutes = 217.4",
          "total_eve_minutes = 246.2",
          "total_night_minutes = 127.0",
          "total_day_charge = 36.96",
          "total_night_charge = 5.72",
          "total_intl_minutes = 7.5",
          "total_eve_charge = 20.93",
          "total_intl_charge = 2.03"
         ],
         "yaxis": "y2"
        }
       ],
       "layout": {
        "annotations": [
         {
          "font": {
           "size": 16
          },
          "showarrow": false,
          "text": "Observation 0",
          "x": 0.5,
          "xanchor": "center",
          "xref": "paper",
          "y": 1,
          "yanchor": "bottom",
          "yref": "paper"
         },
         {
          "font": {
           "size": 16
          },
          "showarrow": false,
          "text": "Observation 1",
          "x": 0.5,
          "xanchor": "center",
          "xref": "paper",
          "y": 0.45,
          "yanchor": "bottom",
          "yref": "paper"
         },
         {
          "font": {
           "size": 16
          },
          "showarrow": false,
          "text": "contribution",
          "x": 0.5,
          "xanchor": "center",
          "xref": "paper",
          "y": 0,
          "yanchor": "top",
          "yref": "paper",
          "yshift": -30
         }
        ],
        "font": {
         "color": "#371ea3"
        },
        "height": 547,
        "margin": {
         "b": 71,
         "r": 30,
         "t": 78
        },
        "shapes": [
         {
          "line": {
           "color": "#371ea3",
           "dash": "dot",
           "width": 1.5
          },
          "type": "line",
          "x0": 0.072,
          "x1": 0.072,
          "xref": "x",
          "y0": -1,
          "y1": 8,
          "yref": "y"
         },
         {
          "line": {
           "color": "#371ea3",
           "dash": "dot",
           "width": 1.5
          },
          "type": "line",
          "x0": 0.072,
          "x1": 0.072,
          "xref": "x2",
          "y0": -1,
          "y1": 8,
          "yref": "y2"
         }
        ],
        "template": {
         "data": {
          "scatter": [
           {
            "type": "scatter"
           }
          ]
         }
        },
        "title": {
         "text": "Shapley Values",
         "x": 0.15
        },
        "xaxis": {
         "anchor": "y",
         "automargin": true,
         "domain": [
          0,
          1
         ],
         "fixedrange": true,
         "gridwidth": 2,
         "matches": "x2",
         "range": [
          -0.0012500000000000046,
          0.09624999999999999
         ],
         "showticklabels": false,
         "tickcolor": "white",
         "ticklen": 3,
         "ticks": "outside",
         "type": "linear",
         "zeroline": false
        },
        "xaxis2": {
         "anchor": "y2",
         "automargin": true,
         "domain": [
          0,
          1
         ],
         "fixedrange": true,
         "gridwidth": 2,
         "range": [
          -0.0012500000000000046,
          0.09624999999999999
         ],
         "tickcolor": "white",
         "ticklen": 3,
         "ticks": "outside",
         "type": "linear",
         "zeroline": false
        },
        "yaxis": {
         "anchor": "x",
         "automargin": true,
         "autorange": "reversed",
         "domain": [
          0.55,
          1
         ],
         "fixedrange": true,
         "gridwidth": 2,
         "tickcolor": "white",
         "ticklen": 10,
         "ticks": "outside",
         "type": "category"
        },
        "yaxis2": {
         "anchor": "x2",
         "automargin": true,
         "autorange": "reversed",
         "domain": [
          0,
          0.45
         ],
         "fixedrange": true,
         "gridwidth": 2,
         "tickcolor": "white",
         "ticklen": 10,
         "ticks": "outside",
         "type": "category"
        }
       }
      }
     },
     "metadata": {},
     "output_type": "display_data"
    }
   ],
   "source": [
    "make_shap_dalex()"
   ]
  },
  {
   "cell_type": "code",
   "execution_count": 19,
   "metadata": {},
   "outputs": [
    {
     "name": "stderr",
     "output_type": "stream",
     "text": [
      "/Users/bartlomiejsobieski/miniforge3/envs/mimuw_xai/lib/python3.10/site-packages/xgboost/core.py:160: UserWarning:\n",
      "\n",
      "[08:01:50] WARNING: /Users/runner/work/xgboost/xgboost/src/c_api/c_api.cc:1240: Saving into deprecated binary model format, please consider using `json` or `ubj`. Model format will default to JSON in XGBoost 2.2 if not specified.\n",
      "\n"
     ]
    },
    {
     "name": "stdout",
     "output_type": "stream",
     "text": [
      "Observation: 0\n"
     ]
    },
    {
     "data": {
      "image/png": "[encoded data removed]",
      "text/plain": [
       "<Figure size 800x550 with 3 Axes>"
      ]
     },
     "metadata": {},
     "output_type": "display_data"
    },
    {
     "name": "stdout",
     "output_type": "stream",
     "text": [
      "Observation: 1\n"
     ]
    },
    {
     "data": {
      "image/png": "[encoded data removed]",
      "text/plain": [
       "<Figure size 800x550 with 3 Axes>"
      ]
     },
     "metadata": {},
     "output_type": "display_data"
    }
   ],
   "source": [
    "def make_shap_shap():\n",
    "    explainer = shap.Explainer(model_rf)\n",
    "    shap_values = explainer(x_s)\n",
    "\n",
    "    for obs_id in range(2):\n",
    "        print(f'Observation: {obs_id}')\n",
    "        shap.plots.waterfall(shap_values[obs_id])\n",
    "\n",
    "make_shap_shap()"
   ]
  },
  {
   "cell_type": "code",
   "execution_count": 35,
   "metadata": {},
   "outputs": [
    {
     "name": "stdout",
     "output_type": "stream",
     "text": [
      "Probability for observation 1: 0.10076433420181274\n",
      "Probability for observation 2: 0.18861456215381622\n",
      "Preparation of a new explainer is initiated\n",
      "\n",
      "  -> data              : 4000 rows 8 cols\n",
      "  -> target variable   : Parameter 'y' was a pandas.Series. Converted to a numpy.ndarray.\n",
      "  -> target variable   : 4000 values\n",
      "  -> model_class       : xgboost.sklearn.XGBRFClassifier (default)\n",
      "  -> label             : RF\n",
      "  -> predict function  : <function make_plot_tasks_4_5.<locals>.<lambda> at 0x28a2ca710> will be used\n",
      "  -> predict function  : Accepts pandas.DataFrame and numpy.ndarray.\n",
      "  -> predicted values  : min = 0.0, mean = 0.072, max = 1.0\n",
      "  -> model type        : classification will be used (default)\n",
      "  -> residual function : difference between y and yhat (default)\n",
      "  -> residuals         : min = -1.0, mean = 0.0695, max = 1.0\n",
      "  -> model_info        : package xgboost\n",
      "\n",
      "A new explainer has been created!\n"
     ]
    },
    {
     "data": {
      "application/vnd.plotly.v1+json": {
       "config": {
        "displaylogo": false,
        "modeBarButtonsToRemove": [
         "sendDataToCloud",
         "lasso2d",
         "autoScale2d",
         "select2d",
         "zoom2d",
         "pan2d",
         "zoomIn2d",
         "zoomOut2d",
         "resetScale2d",
         "toggleSpikelines",
         "hoverCompareCartesian",
         "hoverClosestCartesian"
        ],
        "plotlyServerURL": "https://plot.ly",
        "staticPlot": false,
        "toImageButtonOptions": {
         "height": null,
         "width": null
        }
       },
       "data": [
        {
         "base": 0.072,
         "hoverinfo": "text",
         "hoverlabel": {
          "bgcolor": "rgba(0,0,0,0.8)"
         },
         "hovertext": [
          "Average response: 0.072<br>Prediction: 0<br>total_day_minutes = 97.2<br>decreases average response <br>by 0.091",
          "Average response: 0.072<br>Prediction: 0<br>total_eve_minutes = 243.7<br>increases average response <br>by 0.017",
          "Average response: 0.072<br>Prediction: 0<br>total_day_charge = 16.52<br>decreases average response <br>by 0.012",
          "Average response: 0.072<br>Prediction: 0<br>total_eve_charge = 20.71<br>increases average response <br>by 0.007",
          "Average response: 0.072<br>Prediction: 0<br>total_night_minutes = 235.0<br>increases average response <br>by 0.006",
          "Average response: 0.072<br>Prediction: 0<br>total_night_charge = 10.58<br>increases average response <br>by 0.002",
          "Average response: 0.072<br>Prediction: 0<br>total_intl_charge = 2.73<br>decreases average response <br>by 0.001",
          "Average response: 0.072<br>Prediction: 0<br>total_intl_minutes = 10.1<br>decreases average response <br>by 0.001"
         ],
         "marker": {
          "color": [
           "#f05a71",
           "#8bdcbe",
           "#f05a71",
           "#8bdcbe",
           "#8bdcbe",
           "#8bdcbe",
           "#f05a71",
           "#f05a71"
          ]
         },
         "orientation": "h",
         "showlegend": false,
         "text": [
          "-0.091",
          "+0.017",
          "-0.012",
          "+0.007",
          "+0.006",
          "+0.002",
          "-0.001",
          "-0.001"
         ],
         "textposition": "outside",
         "type": "bar",
         "x": [
          -0.091,
          0.017,
          -0.012,
          0.007,
          0.006,
          0.002,
          -0.001,
          -0.001
         ],
         "xaxis": "x",
         "y": [
          "total_day_minutes = 97.2",
          "total_eve_minutes = 243.7",
          "total_day_charge = 16.52",
          "total_eve_charge = 20.71",
          "total_night_minutes = 235.0",
          "total_night_charge = 10.58",
          "total_intl_charge = 2.73",
          "total_intl_minutes = 10.1"
         ],
         "yaxis": "y"
        },
        {
         "base": 0.072,
         "hoverinfo": "text",
         "hoverlabel": {
          "bgcolor": "rgba(0,0,0,0.8)"
         },
         "hovertext": [
          "Average response: 0.072<br>Prediction: 0<br>total_eve_minutes = 174.2<br>decreases average response <br>by 0.177",
          "Average response: 0.072<br>Prediction: 0<br>total_night_minutes = 262.8<br>increases average response <br>by 0.037",
          "Average response: 0.072<br>Prediction: 0<br>total_night_charge = 11.83<br>increases average response <br>by 0.035",
          "Average response: 0.072<br>Prediction: 0<br>total_day_minutes = 260.9<br>increases average response <br>by 0.031",
          "Average response: 0.072<br>Prediction: 0<br>total_day_charge = 44.35<br>increases average response <br>by 0.016",
          "Average response: 0.072<br>Prediction: 0<br>total_eve_charge = 14.81<br>decreases average response <br>by 0.007",
          "Average response: 0.072<br>Prediction: 0<br>total_intl_minutes = 10.6<br>decreases average response <br>by 0.004",
          "Average response: 0.072<br>Prediction: 0<br>total_intl_charge = 2.86<br>decreases average response <br>by 0.002"
         ],
         "marker": {
          "color": [
           "#f05a71",
           "#8bdcbe",
           "#8bdcbe",
           "#8bdcbe",
           "#8bdcbe",
           "#f05a71",
           "#f05a71",
           "#f05a71"
          ]
         },
         "orientation": "h",
         "showlegend": false,
         "text": [
          "-0.177",
          "+0.037",
          "+0.035",
          "+0.031",
          "+0.016",
          "-0.007",
          "-0.004",
          "-0.002"
         ],
         "textposition": "outside",
         "type": "bar",
         "x": [
          -0.177,
          0.037,
          0.035,
          0.031,
          0.016,
          -0.007,
          -0.004,
          -0.002
         ],
         "xaxis": "x2",
         "y": [
          "total_eve_minutes = 174.2",
          "total_night_minutes = 262.8",
          "total_night_charge = 11.83",
          "total_day_minutes = 260.9",
          "total_day_charge = 44.35",
          "total_eve_charge = 14.81",
          "total_intl_minutes = 10.6",
          "total_intl_charge = 2.86"
         ],
         "yaxis": "y2"
        }
       ],
       "layout": {
        "annotations": [
         {
          "font": {
           "size": 16
          },
          "showarrow": false,
          "text": "Observation 3",
          "x": 0.5,
          "xanchor": "center",
          "xref": "paper",
          "y": 1,
          "yanchor": "bottom",
          "yref": "paper"
         },
         {
          "font": {
           "size": 16
          },
          "showarrow": false,
          "text": "Observation 10",
          "x": 0.5,
          "xanchor": "center",
          "xref": "paper",
          "y": 0.45,
          "yanchor": "bottom",
          "yref": "paper"
         },
         {
          "font": {
           "size": 16
          },
          "showarrow": false,
          "text": "contribution",
          "x": 0.5,
          "xanchor": "center",
          "xref": "paper",
          "y": 0,
          "yanchor": "top",
          "yref": "paper",
          "yshift": -30
         }
        ],
        "font": {
         "color": "#371ea3"
        },
        "height": 547,
        "margin": {
         "b": 71,
         "r": 30,
         "t": 78
        },
        "shapes": [
         {
          "line": {
           "color": "#371ea3",
           "dash": "dot",
           "width": 1.5
          },
          "type": "line",
          "x0": 0.072,
          "x1": 0.072,
          "xref": "x",
          "y0": -1,
          "y1": 8,
          "yref": "y"
         },
         {
          "line": {
           "color": "#371ea3",
           "dash": "dot",
           "width": 1.5
          },
          "type": "line",
          "x0": 0.072,
          "x1": 0.072,
          "xref": "x2",
          "y0": -1,
          "y1": 8,
          "yref": "y2"
         }
        ],
        "template": {
         "data": {
          "scatter": [
           {
            "type": "scatter"
           }
          ]
         }
        },
        "title": {
         "text": "Shapley Values",
         "x": 0.15
        },
        "xaxis": {
         "anchor": "y",
         "automargin": true,
         "domain": [
          0,
          1
         ],
         "fixedrange": true,
         "gridwidth": 2,
         "matches": "x2",
         "range": [
          -0.1371,
          0.14109999999999998
         ],
         "showticklabels": false,
         "tickcolor": "white",
         "ticklen": 3,
         "ticks": "outside",
         "type": "linear",
         "zeroline": false
        },
        "xaxis2": {
         "anchor": "y2",
         "automargin": true,
         "domain": [
          0,
          1
         ],
         "fixedrange": true,
         "gridwidth": 2,
         "range": [
          -0.1371,
          0.14109999999999998
         ],
         "tickcolor": "white",
         "ticklen": 3,
         "ticks": "outside",
         "type": "linear",
         "zeroline": false
        },
        "yaxis": {
         "anchor": "x",
         "automargin": true,
         "autorange": "reversed",
         "domain": [
          0.55,
          1
         ],
         "fixedrange": true,
         "gridwidth": 2,
         "tickcolor": "white",
         "ticklen": 10,
         "ticks": "outside",
         "type": "category"
        },
        "yaxis2": {
         "anchor": "x2",
         "automargin": true,
         "autorange": "reversed",
         "domain": [
          0,
          0.45
         ],
         "fixedrange": true,
         "gridwidth": 2,
         "tickcolor": "white",
         "ticklen": 10,
         "ticks": "outside",
         "type": "category"
        }
       }
      }
     },
     "metadata": {},
     "output_type": "display_data"
    }
   ],
   "source": [
    "# Task 4: observations 3 and 10\n",
    "# Task 5: observations 3 and 10\n",
    "def make_plot_tasks_4_5():\n",
    "    predict_func = lambda m, d: m.predict(d)\n",
    "    preds = [model_rf.predict_proba(x_test.iloc[[i]])[:, 1].item() for i in [2, 9]]\n",
    "    [print(f'Probability for observation {i + 1}: {prob}') for i, prob in enumerate(preds)]\n",
    "    explainer = dx.Explainer(\n",
    "        model_rf, x_train, y_train, predict_function = predict_func, label = \"RF\")\n",
    "    explainer.model_performance()\n",
    "    shap_attributions = [explainer.predict_parts(\n",
    "        x_test.iloc[[i]], type = \"shap\", label=f'Observation {i + 1}') for i in [2, 9]]\n",
    "    shap_attributions[0].plot(shap_attributions[1::])\n",
    "\n",
    "make_plot_tasks_4_5()"
   ]
  },
  {
   "cell_type": "code",
   "execution_count": 21,
   "metadata": {},
   "outputs": [
    {
     "name": "stderr",
     "output_type": "stream",
     "text": [
      "/Users/bartlomiejsobieski/miniforge3/envs/mimuw_xai/lib/python3.10/site-packages/xgboost/core.py:160: UserWarning:\n",
      "\n",
      "[08:01:53] WARNING: /Users/runner/work/xgboost/xgboost/src/c_api/c_api.cc:1240: Saving into deprecated binary model format, please consider using `json` or `ubj`. Model format will default to JSON in XGBoost 2.2 if not specified.\n",
      "\n"
     ]
    },
    {
     "name": "stdout",
     "output_type": "stream",
     "text": [
      "Observation: 2\n"
     ]
    },
    {
     "data": {
      "image/png": "[encoded data removed]",
      "text/plain": [
       "<Figure size 800x550 with 3 Axes>"
      ]
     },
     "metadata": {},
     "output_type": "display_data"
    },
    {
     "name": "stdout",
     "output_type": "stream",
     "text": [
      "Observation: 9\n"
     ]
    },
    {
     "data": {
      "image/png": "[encoded data removed]",
      "text/plain": [
       "<Figure size 800x550 with 3 Axes>"
      ]
     },
     "metadata": {},
     "output_type": "display_data"
    }
   ],
   "source": [
    "explainer = shap.Explainer(model_rf)\n",
    "shap_values = explainer(x_test.iloc[[2, 9]])\n",
    "\n",
    "for obs_num, obs_id in enumerate([2, 9]):\n",
    "    print(f'Observation: {obs_id}')\n",
    "    shap.plots.waterfall(shap_values[obs_num])"
   ]
  },
  {
   "cell_type": "code",
   "execution_count": 37,
   "metadata": {},
   "outputs": [
    {
     "name": "stdout",
     "output_type": "stream",
     "text": [
      "Probability for observation 1: 0.08895326872084033\n",
      "Probability for observation 2: 0.31728696521103766\n",
      "Preparation of a new explainer is initiated\n",
      "\n",
      "  -> data              : 4000 rows 8 cols\n",
      "  -> target variable   : Parameter 'y' was a pandas.Series. Converted to a numpy.ndarray.\n",
      "  -> target variable   : 4000 values\n",
      "  -> model_class       : sklearn.neural_network._multilayer_perceptron.MLPClassifier (default)\n",
      "  -> label             : RF\n",
      "  -> predict function  : <function make_plot_task_7.<locals>.<lambda> at 0x28a36dd80> will be used\n",
      "  -> predict function  : Accepts pandas.DataFrame and numpy.ndarray.\n",
      "  -> predicted values  : min = 0.00876, mean = 0.136, max = 0.99\n",
      "  -> model type        : classification will be used (default)\n",
      "  -> residual function : difference between y and yhat (default)\n",
      "  -> residuals         : min = -0.94, mean = 0.00507, max = 0.982\n",
      "  -> model_info        : package sklearn\n",
      "\n",
      "A new explainer has been created!\n"
     ]
    },
    {
     "name": "stderr",
     "output_type": "stream",
     "text": [
      "/Users/bartlomiejsobieski/miniforge3/envs/mimuw_xai/lib/python3.10/site-packages/sklearn/base.py:465: UserWarning:\n",
      "\n",
      "X does not have valid feature names, but StandardScaler was fitted with feature names\n",
      "\n"
     ]
    },
    {
     "data": {
      "application/vnd.plotly.v1+json": {
       "config": {
        "displaylogo": false,
        "modeBarButtonsToRemove": [
         "sendDataToCloud",
         "lasso2d",
         "autoScale2d",
         "select2d",
         "zoom2d",
         "pan2d",
         "zoomIn2d",
         "zoomOut2d",
         "resetScale2d",
         "toggleSpikelines",
         "hoverCompareCartesian",
         "hoverClosestCartesian"
        ],
        "plotlyServerURL": "https://plot.ly",
        "staticPlot": false,
        "toImageButtonOptions": {
         "height": null,
         "width": null
        }
       },
       "data": [
        {
         "base": 0.1364321494474808,
         "hoverinfo": "text",
         "hoverlabel": {
          "bgcolor": "rgba(0,0,0,0.8)"
         },
         "hovertext": [
          "Average response: 0.136<br>Prediction: 0.089<br>total_day_charge = 16.52<br>decreases average response <br>by 0.124",
          "Average response: 0.136<br>Prediction: 0.089<br>total_day_minutes = 97.2<br>increases average response <br>by 0.072",
          "Average response: 0.136<br>Prediction: 0.089<br>total_night_charge = 10.58<br>increases average response <br>by 0.047",
          "Average response: 0.136<br>Prediction: 0.089<br>total_night_minutes = 235.0<br>decreases average response <br>by 0.042",
          "Average response: 0.136<br>Prediction: 0.089<br>total_eve_minutes = 243.7<br>increases average response <br>by 0.013",
          "Average response: 0.136<br>Prediction: 0.089<br>total_eve_charge = 20.71<br>decreases average response <br>by 0.012",
          "Average response: 0.136<br>Prediction: 0.089<br>total_intl_charge = 2.73<br>decreases average response <br>by 0.004",
          "Average response: 0.136<br>Prediction: 0.089<br>total_intl_minutes = 10.1<br>increases average response <br>by 0.003"
         ],
         "marker": {
          "color": [
           "#f05a71",
           "#8bdcbe",
           "#8bdcbe",
           "#f05a71",
           "#8bdcbe",
           "#f05a71",
           "#f05a71",
           "#8bdcbe"
          ]
         },
         "orientation": "h",
         "showlegend": false,
         "text": [
          "-0.124",
          "+0.072",
          "+0.047",
          "-0.042",
          "+0.013",
          "-0.012",
          "-0.004",
          "+0.003"
         ],
         "textposition": "outside",
         "type": "bar",
         "x": [
          -0.124,
          0.072,
          0.047,
          -0.042,
          0.013,
          -0.012,
          -0.004,
          0.003
         ],
         "xaxis": "x",
         "y": [
          "total_day_charge = 16.52",
          "total_day_minutes = 97.2",
          "total_night_charge = 10.58",
          "total_night_minutes = 235.0",
          "total_eve_minutes = 243.7",
          "total_eve_charge = 20.71",
          "total_intl_charge = 2.73",
          "total_intl_minutes = 10.1"
         ],
         "yaxis": "y"
        },
        {
         "base": 0.1364321494474808,
         "hoverinfo": "text",
         "hoverlabel": {
          "bgcolor": "rgba(0,0,0,0.8)"
         },
         "hovertext": [
          "Average response: 0.136<br>Prediction: 0.317<br>total_day_charge = 44.35<br>increases average response <br>by 0.16",
          "Average response: 0.136<br>Prediction: 0.317<br>total_night_charge = 11.83<br>increases average response <br>by 0.099",
          "Average response: 0.136<br>Prediction: 0.317<br>total_eve_minutes = 174.2<br>decreases average response <br>by 0.042",
          "Average response: 0.136<br>Prediction: 0.317<br>total_night_minutes = 262.8<br>decreases average response <br>by 0.042",
          "Average response: 0.136<br>Prediction: 0.317<br>total_intl_minutes = 10.6<br>decreases average response <br>by 0.028",
          "Average response: 0.136<br>Prediction: 0.317<br>total_day_minutes = 260.9<br>increases average response <br>by 0.015",
          "Average response: 0.136<br>Prediction: 0.317<br>total_intl_charge = 2.86<br>increases average response <br>by 0.013",
          "Average response: 0.136<br>Prediction: 0.317<br>total_eve_charge = 14.81<br>increases average response <br>by 0.006"
         ],
         "marker": {
          "color": [
           "#8bdcbe",
           "#8bdcbe",
           "#f05a71",
           "#f05a71",
           "#f05a71",
           "#8bdcbe",
           "#8bdcbe",
           "#8bdcbe"
          ]
         },
         "orientation": "h",
         "showlegend": false,
         "text": [
          "+0.16",
          "+0.099",
          "-0.042",
          "-0.042",
          "-0.028",
          "+0.015",
          "+0.013",
          "+0.006"
         ],
         "textposition": "outside",
         "type": "bar",
         "x": [
          0.16,
          0.099,
          -0.042,
          -0.042,
          -0.028,
          0.015,
          0.013,
          0.006
         ],
         "xaxis": "x2",
         "y": [
          "total_day_charge = 44.35",
          "total_night_charge = 11.83",
          "total_eve_minutes = 174.2",
          "total_night_minutes = 262.8",
          "total_intl_minutes = 10.6",
          "total_day_minutes = 260.9",
          "total_intl_charge = 2.86",
          "total_eve_charge = 14.81"
         ],
         "yaxis": "y2"
        }
       ],
       "layout": {
        "annotations": [
         {
          "font": {
           "size": 16
          },
          "showarrow": false,
          "text": "Observation 3",
          "x": 0.5,
          "xanchor": "center",
          "xref": "paper",
          "y": 1,
          "yanchor": "bottom",
          "yref": "paper"
         },
         {
          "font": {
           "size": 16
          },
          "showarrow": false,
          "text": "Observation 10",
          "x": 0.5,
          "xanchor": "center",
          "xref": "paper",
          "y": 0.45,
          "yanchor": "bottom",
          "yref": "paper"
         },
         {
          "font": {
           "size": 16
          },
          "showarrow": false,
          "text": "contribution",
          "x": 0.5,
          "xanchor": "center",
          "xref": "paper",
          "y": 0,
          "yanchor": "top",
          "yref": "paper",
          "yshift": -30
         }
        ],
        "font": {
         "color": "#371ea3"
        },
        "height": 547,
        "margin": {
         "b": 71,
         "r": 30,
         "t": 78
        },
        "shapes": [
         {
          "line": {
           "color": "#371ea3",
           "dash": "dot",
           "width": 1.5
          },
          "type": "line",
          "x0": 0.1364321494474808,
          "x1": 0.1364321494474808,
          "xref": "x",
          "y0": -1,
          "y1": 8,
          "yref": "y"
         },
         {
          "line": {
           "color": "#371ea3",
           "dash": "dot",
           "width": 1.5
          },
          "type": "line",
          "x0": 0.1364321494474808,
          "x1": 0.1364321494474808,
          "xref": "x2",
          "y0": -1,
          "y1": 8,
          "yref": "y2"
         }
        ],
        "template": {
         "data": {
          "scatter": [
           {
            "type": "scatter"
           }
          ]
         }
        },
        "title": {
         "text": "Shapley Values",
         "x": 0.15
        },
        "xaxis": {
         "anchor": "y",
         "automargin": true,
         "domain": [
          0,
          1
         ],
         "fixedrange": true,
         "gridwidth": 2,
         "matches": "x2",
         "range": [
          -0.01696785055251919,
          0.3267321494474808
         ],
         "showticklabels": false,
         "tickcolor": "white",
         "ticklen": 3,
         "ticks": "outside",
         "type": "linear",
         "zeroline": false
        },
        "xaxis2": {
         "anchor": "y2",
         "automargin": true,
         "domain": [
          0,
          1
         ],
         "fixedrange": true,
         "gridwidth": 2,
         "range": [
          -0.01696785055251919,
          0.3267321494474808
         ],
         "tickcolor": "white",
         "ticklen": 3,
         "ticks": "outside",
         "type": "linear",
         "zeroline": false
        },
        "yaxis": {
         "anchor": "x",
         "automargin": true,
         "autorange": "reversed",
         "domain": [
          0.55,
          1
         ],
         "fixedrange": true,
         "gridwidth": 2,
         "tickcolor": "white",
         "ticklen": 10,
         "ticks": "outside",
         "type": "category"
        },
        "yaxis2": {
         "anchor": "x2",
         "automargin": true,
         "autorange": "reversed",
         "domain": [
          0,
          0.45
         ],
         "fixedrange": true,
         "gridwidth": 2,
         "tickcolor": "white",
         "ticklen": 10,
         "ticks": "outside",
         "type": "category"
        }
       }
      }
     },
     "metadata": {},
     "output_type": "display_data"
    }
   ],
   "source": [
    "# Task 7\n",
    "def make_plot_task_7():\n",
    "    model_mlp = trained_models['mlp']\n",
    "    preds = [model_mlp.predict_proba(x_test.iloc[[i]])[:, 1].item() for i in [2, 9]]\n",
    "    [print(f'Probability for observation {i + 1}: {prob}') for i, prob in enumerate(preds)]\n",
    "    predict_func = lambda m, d: m.predict_proba(d)[:, 1]\n",
    "    explainer = dx.Explainer(\n",
    "        model_mlp, x_train, y_train, predict_function = predict_func, label = \"RF\")\n",
    "    explainer.model_performance()\n",
    "    shap_attributions = [explainer.predict_parts(\n",
    "        x_test.iloc[[i]], type = \"shap\", label=f'Observation {i + 1}') for i in [2, 9]]\n",
    "    shap_attributions[0].plot(shap_attributions[1::])\n",
    "\n",
    "make_plot_task_7()"
   ]
  }
 ],
 "metadata": {
  "kernelspec": {
   "display_name": "mimuw_xai",
   "language": "python",
   "name": "python3"
  },
  "language_info": {
   "codemirror_mode": {
    "name": "ipython",
    "version": 3
   },
   "file_extension": ".py",
   "mimetype": "text/x-python",
   "name": "python",
   "nbconvert_exporter": "python",
   "pygments_lexer": "ipython3",
   "version": "3.10.12"
  }
 },
 "nbformat": 4,
 "nbformat_minor": 2
}
