{
 "cells": [
  {
   "cell_type": "markdown",
   "id": "1ed4e15f-6133-4664-8673-341389ba6ce6",
   "metadata": {},
   "source": [
    "# Task A\n",
    "\n",
    "## Preparations\n",
    "\n",
    "For this task I selected RandomForestClassifier and trained it on the SpeedDating dataset.\n",
    "For the 2 observations I chose rows 6 and 9:\n",
    "\n",
    "Model: RandomForestClassifier\n",
    "|   Observation |   Prediction |   Actual |\n",
    "|---------------|--------------|----------|\n",
    "|             6 |         0.78 |        1 |\n",
    "|             9 |         0.06 |        0 |\n",
    "\n",
    "Model: LogisticRegression\n",
    "|   Observation |   Prediction |   Actual |\n",
    "|---------------|--------------|----------|\n",
    "|             6 |     0.243915 |        1 |\n",
    "|             9 |     0.21817  |        0 |\n",
    "\n",
    "As you can see, for observation 6 linear model mispredicted value. Random forest had relatively good performance for both observations.\n",
    "\n",
    "## SHAP decomposition\n",
    "\n",
    "### Dalex\n",
    "![forest-dalex](./pictures/forest-dalex.png)\n",
    "### SHAP\n",
    "Chart for observation 6:\n",
    "![forest-shap-6](./pictures/forest-shap-6.png)\n",
    "Chart for observation 9:\n",
    "![forest-shap-9](./pictures/forest-shap-9.png)\n",
    "\n",
    "As you can see, there are slight variations in the results between dalex and shap.\n",
    "\n",
    "Observations have different variable of most importance: shared_interests_o for row 6 and pref_o_funny for row 9.\n",
    "\n",
    "Additionally, attribute funny_o have opposite sign in decompositions between row 6 and 9.\n",
    "\n",
    "### Dalex for LogisticRegression\n",
    "![linear-dalex](./pictures/linear-dalex.png)\n",
    "\n",
    "Unfortunately I was not able to generate shap decomposition for LogisticRegression using shap package.\n",
    "\n",
    "It it immidiately visible that shap decomposition for observations in this model wildly differs from the one for RandomForestClassifier. It is most likely due to the poor performance of LogisticRegression in terms of predicting values for this dataset."
   ]
  },
  {
   "cell_type": "markdown",
   "id": "f78403ea-351a-4759-86a1-196d3a4d83d2",
   "metadata": {},
   "source": [
    "# Task B\n",
    "\n",
    "Permutations: $(A, B, C), (A, C, B), (B, A, C), (B, C, A), (C, A, B), (C, B, A)$\n",
    "\n",
    "$\\phi_A = \\frac{1}{6}((v(A)-v())*2+v(A,B)-v(B)+(v(A,B,C)-v(B,C))*2+v(A,C)-v(C)) = \\frac{1}{6}(20*2+40+30*2+10) = \\frac{150}{6}=25$\n",
    "\n",
    "$\\phi_B = \\frac{1}{6}(v(A,B)-v(A)+(v(A,B,C)-v(A,C))*2+(v(B)-v())*2+v(B,C)-v(C))=\\frac{1}{6}(40+30*2+20*2+10)=\\frac{150}{6}=25$\n",
    "\n",
    "$\\phi_C = \\frac{1}{6}((v(A,B,C)-v(A,B))*2+v(A,C)-v(A)+v(B,C)-v(B)+(v(C)-v())*2)=\\frac{1}{6}(40*2+50+50+60*2)=\\frac{300}{6}=50$"
   ]
  },
  {
   "cell_type": "code",
   "execution_count": null,
   "id": "90b5405b-9444-41dc-8c30-6addb27cc323",
   "metadata": {},
   "outputs": [],
   "source": []
  }
 ],
 "metadata": {
  "kernelspec": {
   "display_name": "Python 3 (ipykernel)",
   "language": "python",
   "name": "python3"
  },
  "language_info": {
   "codemirror_mode": {
    "name": "ipython",
    "version": 3
   },
   "file_extension": ".py",
   "mimetype": "text/x-python",
   "name": "python",
   "nbconvert_exporter": "python",
   "pygments_lexer": "ipython3",
   "version": "3.11.6"
  }
 },
 "nbformat": 4,
 "nbformat_minor": 5
}
