{
 "cells": [
  {
   "cell_type": "markdown",
   "metadata": {},
   "source": [
    "# Main"
   ]
  },
  {
   "cell_type": "markdown",
   "metadata": {},
   "source": [
    "## Model training\n",
    "\n",
    "We will be investigating the same dataset as in HW1: *spambase.csv* from OpenML-100 databases. This database concerns emails, of which some were classified as spam emails (~39%), whereas the rest were work and personal emails.\n",
    "We will be training a Random Forest Classifier as well as a linear regression.\n",
    "\n",
    "Below are a 2 random entries of the dataframe and predictions of different models.\n",
    "\n",
    "| Observation   | True label | RF prediction | Linear prediction |\n",
    "|---------------|------------|---------------|-------------------|\n",
    "| Observation 0 | 1          | 0.9490        | 0.5399            |\n",
    "| Observation 1 | 1          | 0.9916        | 0.9467            |\n",
    "\n",
    "\n",
    "As we can see, both RF and the linear model have predicted the true labels correctly. The linear model however is worse, and in one case almost wrong (Observation 0)."
   ]
  },
  {
   "cell_type": "markdown",
   "metadata": {},
   "source": [
    "## Shap decompositions\n",
    "\n",
    "### Random Forest\n",
    "\n",
    "We have calculated the Shap decompositions on the 2 predictions of our Random Forest model. Below are graphs showing the Shap decomposition using dalex and shap.\n",
    "\n",
    "#### Dalex\n",
    "\n",
    "![chart1](https://raw.githubusercontent.com/AntekHanke/eXplainableMachineLearning-2024/main/Homeworks/HW4/AntoniHanke/dalex1.PNG \"Chart1\")\n",
    "\n",
    "Comment:\n",
    "1. As we can see, the most important variable differs between the 2 observations (*char_freq_21* vs *word_freq_remove*)\n",
    "2. Variable *word_freq_24* has a positive attribution for observation 1 and a negative attribution for observation 0\n",
    "\n",
    "#### Shap\n",
    "\n",
    "![chart2](https://raw.githubusercontent.com/AntekHanke/eXplainableMachineLearning-2024/main/Homeworks/HW4/AntoniHanke/shap1.png \"Chart2\")\n",
    "\n",
    "![chart3](https://raw.githubusercontent.com/AntekHanke/eXplainableMachineLearning-2024/main/Homeworks/HW4/AntoniHanke/shap2.png \"Chart3\")\n",
    "\n",
    "Comment:\n",
    "1. In the shap package, the same observations have their shapley explanations differ very slightly; The order of importance is more or less the same, only with minimal variations in importance"
   ]
  },
  {
   "cell_type": "markdown",
   "metadata": {},
   "source": [
    "### Logistic regression model\n",
    "\n",
    "We have trained a linear model on the same data and applied the dalex shapley decomposition to the same 2 observations as above:\n",
    "\n",
    "![chart4](https://raw.githubusercontent.com/AntekHanke/eXplainableMachineLearning-2024/main/Homeworks/HW4/AntoniHanke/dalexlin.PNG \"Chart4\")\n",
    "\n",
    "Comment:\n",
    "1. The Shap attributions of this moddel differ from the RF model (even when using the same package dalex)\n",
    "2. The order of importance of the variables is different as well as the variable attributions"
   ]
  },
  {
   "cell_type": "markdown",
   "metadata": {},
   "source": [
    "# Part B\n",
    "\n",
    "## Values for each coalition:\n",
    "v() = 0\n",
    "v(A) = 20\n",
    "v(B) = 20\n",
    "v(C) = 60\n",
    "v(A,B) = 60\n",
    "v(A,C) = 70\n",
    "v(B,C) = 70\n",
    "v(A,B,C) = 100\n",
    "\n",
    "## Calculating Player A shapley value\n",
    "We need to take into account all 3! permuations of {A, B, C} and calculate the player A contribution in each of them. Afterward we need to take the average and we will achieve player A shapley value.\n",
    "\n",
    "Note: Player A contribution is shared between some cases, ex. ABC and ACB, player A contribution remains v(A)-v().\n",
    "\n",
    "\n",
    "| Permutations | Player A contribution |\n",
    "|--------------|-----------------------|\n",
    "| ABC, ACB     | v(A)-v() = 20         |\n",
    "| BAC          | v(A,B)-v(B) = 40      |\n",
    "| CAB          | v(A,C)-v(C) = 10      |\n",
    "| BCA, CBA     | v(A,B,C)-v(B,C) = 30  |\n",
    "\n",
    "Finally Player A averaged contribution is:\n",
    "$$\\frac{20+20+40+10+30+30}{6} = 25$$\n"
   ]
  },
  {
   "cell_type": "markdown",
   "metadata": {},
   "source": [
    "# Appendix\n",
    "## Data preparation"
   ]
  },
  {
   "cell_type": "code",
   "execution_count": 2,
   "metadata": {
    "collapsed": true
   },
   "outputs": [],
   "source": [
    "import numpy as np\n",
    "import pandas as pd\n",
    "import dalex as dx\n",
    "import lime\n",
    "\n",
    "spambase = pd.read_csv(\"spambase.csv\")"
   ]
  },
  {
   "cell_type": "code",
   "execution_count": 3,
   "metadata": {},
   "outputs": [],
   "source": [
    "df = spambase.drop(spambase.columns[0], axis=1) #Cleaning first column which is just index"
   ]
  },
  {
   "cell_type": "code",
   "execution_count": 4,
   "metadata": {},
   "outputs": [
    {
     "data": {
      "text/html": [
       "<div>\n",
       "<style scoped>\n",
       "    .dataframe tbody tr th:only-of-type {\n",
       "        vertical-align: middle;\n",
       "    }\n",
       "\n",
       "    .dataframe tbody tr th {\n",
       "        vertical-align: top;\n",
       "    }\n",
       "\n",
       "    .dataframe thead th {\n",
       "        text-align: right;\n",
       "    }\n",
       "</style>\n",
       "<table border=\"1\" class=\"dataframe\">\n",
       "  <thead>\n",
       "    <tr style=\"text-align: right;\">\n",
       "      <th></th>\n",
       "      <th>word_freq_make</th>\n",
       "      <th>word_freq_address</th>\n",
       "      <th>word_freq_all</th>\n",
       "      <th>word_freq_3d</th>\n",
       "      <th>word_freq_our</th>\n",
       "      <th>word_freq_over</th>\n",
       "      <th>word_freq_remove</th>\n",
       "      <th>word_freq_internet</th>\n",
       "      <th>word_freq_order</th>\n",
       "      <th>word_freq_mail</th>\n",
       "      <th>...</th>\n",
       "      <th>word_freq_table</th>\n",
       "      <th>word_freq_conference</th>\n",
       "      <th>char_freq_%3B</th>\n",
       "      <th>char_freq_%28</th>\n",
       "      <th>char_freq_%5B</th>\n",
       "      <th>char_freq_%21</th>\n",
       "      <th>char_freq_%24</th>\n",
       "      <th>char_freq_%23</th>\n",
       "      <th>capital_run_length_average</th>\n",
       "      <th>TARGET</th>\n",
       "    </tr>\n",
       "  </thead>\n",
       "  <tbody>\n",
       "    <tr>\n",
       "      <th>count</th>\n",
       "      <td>4601.000000</td>\n",
       "      <td>4601.000000</td>\n",
       "      <td>4601.000000</td>\n",
       "      <td>4601.000000</td>\n",
       "      <td>4601.000000</td>\n",
       "      <td>4601.000000</td>\n",
       "      <td>4601.000000</td>\n",
       "      <td>4601.000000</td>\n",
       "      <td>4601.000000</td>\n",
       "      <td>4601.000000</td>\n",
       "      <td>...</td>\n",
       "      <td>4601.000000</td>\n",
       "      <td>4601.000000</td>\n",
       "      <td>4601.000000</td>\n",
       "      <td>4601.000000</td>\n",
       "      <td>4601.000000</td>\n",
       "      <td>4601.000000</td>\n",
       "      <td>4601.000000</td>\n",
       "      <td>4601.000000</td>\n",
       "      <td>4601.000000</td>\n",
       "      <td>4601.000000</td>\n",
       "    </tr>\n",
       "    <tr>\n",
       "      <th>mean</th>\n",
       "      <td>0.104553</td>\n",
       "      <td>0.213015</td>\n",
       "      <td>0.280656</td>\n",
       "      <td>0.065425</td>\n",
       "      <td>0.312223</td>\n",
       "      <td>0.095901</td>\n",
       "      <td>0.114208</td>\n",
       "      <td>0.105295</td>\n",
       "      <td>0.090067</td>\n",
       "      <td>0.239413</td>\n",
       "      <td>...</td>\n",
       "      <td>0.005444</td>\n",
       "      <td>0.031869</td>\n",
       "      <td>0.038575</td>\n",
       "      <td>0.139030</td>\n",
       "      <td>0.016976</td>\n",
       "      <td>0.269071</td>\n",
       "      <td>0.075811</td>\n",
       "      <td>0.044238</td>\n",
       "      <td>5.191515</td>\n",
       "      <td>0.394045</td>\n",
       "    </tr>\n",
       "    <tr>\n",
       "      <th>std</th>\n",
       "      <td>0.305358</td>\n",
       "      <td>1.290575</td>\n",
       "      <td>0.504143</td>\n",
       "      <td>1.395151</td>\n",
       "      <td>0.672513</td>\n",
       "      <td>0.273824</td>\n",
       "      <td>0.391441</td>\n",
       "      <td>0.401071</td>\n",
       "      <td>0.278616</td>\n",
       "      <td>0.644755</td>\n",
       "      <td>...</td>\n",
       "      <td>0.076274</td>\n",
       "      <td>0.285735</td>\n",
       "      <td>0.243471</td>\n",
       "      <td>0.270355</td>\n",
       "      <td>0.109394</td>\n",
       "      <td>0.815672</td>\n",
       "      <td>0.245882</td>\n",
       "      <td>0.429342</td>\n",
       "      <td>31.729449</td>\n",
       "      <td>0.488698</td>\n",
       "    </tr>\n",
       "    <tr>\n",
       "      <th>min</th>\n",
       "      <td>0.000000</td>\n",
       "      <td>0.000000</td>\n",
       "      <td>0.000000</td>\n",
       "      <td>0.000000</td>\n",
       "      <td>0.000000</td>\n",
       "      <td>0.000000</td>\n",
       "      <td>0.000000</td>\n",
       "      <td>0.000000</td>\n",
       "      <td>0.000000</td>\n",
       "      <td>0.000000</td>\n",
       "      <td>...</td>\n",
       "      <td>0.000000</td>\n",
       "      <td>0.000000</td>\n",
       "      <td>0.000000</td>\n",
       "      <td>0.000000</td>\n",
       "      <td>0.000000</td>\n",
       "      <td>0.000000</td>\n",
       "      <td>0.000000</td>\n",
       "      <td>0.000000</td>\n",
       "      <td>1.000000</td>\n",
       "      <td>0.000000</td>\n",
       "    </tr>\n",
       "    <tr>\n",
       "      <th>25%</th>\n",
       "      <td>0.000000</td>\n",
       "      <td>0.000000</td>\n",
       "      <td>0.000000</td>\n",
       "      <td>0.000000</td>\n",
       "      <td>0.000000</td>\n",
       "      <td>0.000000</td>\n",
       "      <td>0.000000</td>\n",
       "      <td>0.000000</td>\n",
       "      <td>0.000000</td>\n",
       "      <td>0.000000</td>\n",
       "      <td>...</td>\n",
       "      <td>0.000000</td>\n",
       "      <td>0.000000</td>\n",
       "      <td>0.000000</td>\n",
       "      <td>0.000000</td>\n",
       "      <td>0.000000</td>\n",
       "      <td>0.000000</td>\n",
       "      <td>0.000000</td>\n",
       "      <td>0.000000</td>\n",
       "      <td>1.588000</td>\n",
       "      <td>0.000000</td>\n",
       "    </tr>\n",
       "    <tr>\n",
       "      <th>50%</th>\n",
       "      <td>0.000000</td>\n",
       "      <td>0.000000</td>\n",
       "      <td>0.000000</td>\n",
       "      <td>0.000000</td>\n",
       "      <td>0.000000</td>\n",
       "      <td>0.000000</td>\n",
       "      <td>0.000000</td>\n",
       "      <td>0.000000</td>\n",
       "      <td>0.000000</td>\n",
       "      <td>0.000000</td>\n",
       "      <td>...</td>\n",
       "      <td>0.000000</td>\n",
       "      <td>0.000000</td>\n",
       "      <td>0.000000</td>\n",
       "      <td>0.065000</td>\n",
       "      <td>0.000000</td>\n",
       "      <td>0.000000</td>\n",
       "      <td>0.000000</td>\n",
       "      <td>0.000000</td>\n",
       "      <td>2.276000</td>\n",
       "      <td>0.000000</td>\n",
       "    </tr>\n",
       "    <tr>\n",
       "      <th>75%</th>\n",
       "      <td>0.000000</td>\n",
       "      <td>0.000000</td>\n",
       "      <td>0.420000</td>\n",
       "      <td>0.000000</td>\n",
       "      <td>0.380000</td>\n",
       "      <td>0.000000</td>\n",
       "      <td>0.000000</td>\n",
       "      <td>0.000000</td>\n",
       "      <td>0.000000</td>\n",
       "      <td>0.160000</td>\n",
       "      <td>...</td>\n",
       "      <td>0.000000</td>\n",
       "      <td>0.000000</td>\n",
       "      <td>0.000000</td>\n",
       "      <td>0.188000</td>\n",
       "      <td>0.000000</td>\n",
       "      <td>0.315000</td>\n",
       "      <td>0.052000</td>\n",
       "      <td>0.000000</td>\n",
       "      <td>3.706000</td>\n",
       "      <td>1.000000</td>\n",
       "    </tr>\n",
       "    <tr>\n",
       "      <th>max</th>\n",
       "      <td>4.540000</td>\n",
       "      <td>14.280000</td>\n",
       "      <td>5.100000</td>\n",
       "      <td>42.810000</td>\n",
       "      <td>10.000000</td>\n",
       "      <td>5.880000</td>\n",
       "      <td>7.270000</td>\n",
       "      <td>11.110000</td>\n",
       "      <td>5.260000</td>\n",
       "      <td>18.180000</td>\n",
       "      <td>...</td>\n",
       "      <td>2.170000</td>\n",
       "      <td>10.000000</td>\n",
       "      <td>4.385000</td>\n",
       "      <td>9.752000</td>\n",
       "      <td>4.081000</td>\n",
       "      <td>32.478000</td>\n",
       "      <td>6.003000</td>\n",
       "      <td>19.829000</td>\n",
       "      <td>1102.500000</td>\n",
       "      <td>1.000000</td>\n",
       "    </tr>\n",
       "  </tbody>\n",
       "</table>\n",
       "<p>8 rows × 56 columns</p>\n",
       "</div>"
      ],
      "text/plain": [
       "       word_freq_make  word_freq_address  word_freq_all  word_freq_3d  \\\n",
       "count     4601.000000        4601.000000    4601.000000   4601.000000   \n",
       "mean         0.104553           0.213015       0.280656      0.065425   \n",
       "std          0.305358           1.290575       0.504143      1.395151   \n",
       "min          0.000000           0.000000       0.000000      0.000000   \n",
       "25%          0.000000           0.000000       0.000000      0.000000   \n",
       "50%          0.000000           0.000000       0.000000      0.000000   \n",
       "75%          0.000000           0.000000       0.420000      0.000000   \n",
       "max          4.540000          14.280000       5.100000     42.810000   \n",
       "\n",
       "       word_freq_our  word_freq_over  word_freq_remove  word_freq_internet  \\\n",
       "count    4601.000000     4601.000000       4601.000000         4601.000000   \n",
       "mean        0.312223        0.095901          0.114208            0.105295   \n",
       "std         0.672513        0.273824          0.391441            0.401071   \n",
       "min         0.000000        0.000000          0.000000            0.000000   \n",
       "25%         0.000000        0.000000          0.000000            0.000000   \n",
       "50%         0.000000        0.000000          0.000000            0.000000   \n",
       "75%         0.380000        0.000000          0.000000            0.000000   \n",
       "max        10.000000        5.880000          7.270000           11.110000   \n",
       "\n",
       "       word_freq_order  word_freq_mail  ...  word_freq_table  \\\n",
       "count      4601.000000     4601.000000  ...      4601.000000   \n",
       "mean          0.090067        0.239413  ...         0.005444   \n",
       "std           0.278616        0.644755  ...         0.076274   \n",
       "min           0.000000        0.000000  ...         0.000000   \n",
       "25%           0.000000        0.000000  ...         0.000000   \n",
       "50%           0.000000        0.000000  ...         0.000000   \n",
       "75%           0.000000        0.160000  ...         0.000000   \n",
       "max           5.260000       18.180000  ...         2.170000   \n",
       "\n",
       "       word_freq_conference  char_freq_%3B  char_freq_%28  char_freq_%5B  \\\n",
       "count           4601.000000    4601.000000    4601.000000    4601.000000   \n",
       "mean               0.031869       0.038575       0.139030       0.016976   \n",
       "std                0.285735       0.243471       0.270355       0.109394   \n",
       "min                0.000000       0.000000       0.000000       0.000000   \n",
       "25%                0.000000       0.000000       0.000000       0.000000   \n",
       "50%                0.000000       0.000000       0.065000       0.000000   \n",
       "75%                0.000000       0.000000       0.188000       0.000000   \n",
       "max               10.000000       4.385000       9.752000       4.081000   \n",
       "\n",
       "       char_freq_%21  char_freq_%24  char_freq_%23  \\\n",
       "count    4601.000000    4601.000000    4601.000000   \n",
       "mean        0.269071       0.075811       0.044238   \n",
       "std         0.815672       0.245882       0.429342   \n",
       "min         0.000000       0.000000       0.000000   \n",
       "25%         0.000000       0.000000       0.000000   \n",
       "50%         0.000000       0.000000       0.000000   \n",
       "75%         0.315000       0.052000       0.000000   \n",
       "max        32.478000       6.003000      19.829000   \n",
       "\n",
       "       capital_run_length_average       TARGET  \n",
       "count                 4601.000000  4601.000000  \n",
       "mean                     5.191515     0.394045  \n",
       "std                     31.729449     0.488698  \n",
       "min                      1.000000     0.000000  \n",
       "25%                      1.588000     0.000000  \n",
       "50%                      2.276000     0.000000  \n",
       "75%                      3.706000     1.000000  \n",
       "max                   1102.500000     1.000000  \n",
       "\n",
       "[8 rows x 56 columns]"
      ]
     },
     "execution_count": 4,
     "metadata": {},
     "output_type": "execute_result"
    }
   ],
   "source": [
    "df.describe()"
   ]
  },
  {
   "cell_type": "code",
   "execution_count": 5,
   "metadata": {},
   "outputs": [],
   "source": [
    "X = df.loc[:, df.columns != 'TARGET']"
   ]
  },
  {
   "cell_type": "code",
   "execution_count": 6,
   "metadata": {},
   "outputs": [],
   "source": [
    "y = df.loc[:, df.columns == 'TARGET']"
   ]
  },
  {
   "cell_type": "code",
   "execution_count": 7,
   "metadata": {},
   "outputs": [],
   "source": [
    "from sklearn.model_selection import train_test_split\n",
    "X_train, X_test, y_train, y_test = train_test_split(X, y, test_size=0.1, random_state=2)"
   ]
  },
  {
   "cell_type": "code",
   "execution_count": 8,
   "metadata": {},
   "outputs": [],
   "source": [
    "from sklearn.model_selection import KFold\n",
    "from sklearn.model_selection import cross_validate\n",
    "from sklearn.metrics import accuracy_score\n",
    "from sklearn.linear_model import LogisticRegression\n",
    "kf = KFold(n_splits = 5)"
   ]
  },
  {
   "cell_type": "markdown",
   "metadata": {},
   "source": [
    "## Random Forest"
   ]
  },
  {
   "cell_type": "code",
   "execution_count": 9,
   "metadata": {},
   "outputs": [],
   "source": [
    "from sklearn.ensemble import RandomForestClassifier"
   ]
  },
  {
   "cell_type": "code",
   "execution_count": 26,
   "metadata": {},
   "outputs": [
    {
     "name": "stderr",
     "output_type": "stream",
     "text": [
      "A column-vector y was passed when a 1d array was expected. Please change the shape of y to (n_samples,), for example using ravel().\n"
     ]
    },
    {
     "name": "stdout",
     "output_type": "stream",
     "text": [
      "Train accuracy:  0.9565311888719844\n"
     ]
    }
   ],
   "source": [
    "RF_final = RandomForestClassifier(n_estimators=200, max_depth = 8, max_features = 0.3, random_state = 1).fit(X, y)\n",
    "print(\"Train accuracy: \", accuracy_score(y, RF_final.predict(X)))"
   ]
  },
  {
   "cell_type": "markdown",
   "metadata": {},
   "source": [
    "### Dalex Shapley"
   ]
  },
  {
   "cell_type": "code",
   "execution_count": 27,
   "metadata": {},
   "outputs": [
    {
     "name": "stdout",
     "output_type": "stream",
     "text": [
      "Preparation of a new explainer is initiated\n",
      "\n",
      "  -> data              : 4601 rows 55 cols\n",
      "  -> target variable   : Parameter 'y' was a pandas.DataFrame. Converted to a numpy.ndarray.\n",
      "  -> target variable   : 4601 values\n",
      "  -> model_class       : sklearn.ensemble._forest.RandomForestClassifier (default)\n",
      "  -> label             : Not specified, model's class short name will be used. (default)\n",
      "  -> predict function  : <function yhat_proba_default at 0x000001FB0AE50790> will be used (default)\n",
      "  -> predict function  : Accepts pandas.DataFrame and numpy.ndarray.\n",
      "  -> predicted values  : min = 0.0118, mean = 0.394, max = 0.992\n",
      "  -> model type        : classification will be used (default)\n",
      "  -> residual function : difference between y and yhat (default)\n",
      "  -> residuals         : min = -0.902, mean = 7.09e-05, max = 0.947\n",
      "  -> model_info        : package sklearn\n",
      "\n",
      "A new explainer has been created!\n"
     ]
    },
    {
     "name": "stderr",
     "output_type": "stream",
     "text": [
      "X does not have valid feature names, but RandomForestClassifier was fitted with feature names\n"
     ]
    }
   ],
   "source": [
    "RFexplainer = dx.Explainer(RF_final, X, y)\n",
    "\n",
    "shap_attributions = [RFexplainer.predict_parts(X.iloc[[i]], type=\"shap\", label=f'observation {i}') for i in range(2)]"
   ]
  },
  {
   "cell_type": "code",
   "execution_count": 28,
   "metadata": {},
   "outputs": [
    {
     "data": {
      "application/vnd.plotly.v1+json": {
       "config": {
        "displaylogo": false,
        "modeBarButtonsToRemove": [
         "sendDataToCloud",
         "lasso2d",
         "autoScale2d",
         "select2d",
         "zoom2d",
         "pan2d",
         "zoomIn2d",
         "zoomOut2d",
         "resetScale2d",
         "toggleSpikelines",
         "hoverCompareCartesian",
         "hoverClosestCartesian"
        ],
        "plotlyServerURL": "https://plot.ly",
        "staticPlot": false,
        "toImageButtonOptions": {
         "height": null,
         "width": null
        }
       },
       "data": [
        {
         "base": 0.3939739011537632,
         "hoverinfo": "text",
         "hoverlabel": {
          "bgcolor": "rgba(0,0,0,0.8)"
         },
         "hovertext": [
          "Average response: 0.394<br>Prediction: 0.949<br>char_freq_%21 = 0.778<br>increases average response <br>by 0.212",
          "Average response: 0.394<br>Prediction: 0.949<br>word_freq_free = 0.32<br>increases average response <br>by 0.127",
          "Average response: 0.394<br>Prediction: 0.949<br>capital_run_length_average = 3.756<br>increases average response <br>by 0.073",
          "Average response: 0.394<br>Prediction: 0.949<br>word_freq_hp = 0.0<br>increases average response <br>by 0.045",
          "Average response: 0.394<br>Prediction: 0.949<br>word_freq_your = 0.96<br>increases average response <br>by 0.036",
          "Average response: 0.394<br>Prediction: 0.949<br>word_freq_our = 0.32<br>increases average response <br>by 0.032",
          "Average response: 0.394<br>Prediction: 0.949<br>char_freq_%24 = 0.0<br>decreases average response <br>by 0.027",
          "Average response: 0.394<br>Prediction: 0.949<br>word_freq_george = 0.0<br>increases average response <br>by 0.018",
          "Average response: 0.394<br>Prediction: 0.949<br>word_freq_remove = 0.0<br>decreases average response <br>by 0.018",
          "Average response: 0.394<br>Prediction: 0.949<br>+ all other factors<br>increases average response <br>by 0.058"
         ],
         "marker": {
          "color": [
           "#8bdcbe",
           "#8bdcbe",
           "#8bdcbe",
           "#8bdcbe",
           "#8bdcbe",
           "#8bdcbe",
           "#f05a71",
           "#8bdcbe",
           "#f05a71",
           "#8bdcbe"
          ]
         },
         "orientation": "h",
         "showlegend": false,
         "text": [
          "+0.212",
          "+0.127",
          "+0.073",
          "+0.045",
          "+0.036",
          "+0.032",
          "-0.027",
          "+0.018",
          "-0.018",
          "+0.058"
         ],
         "textposition": "outside",
         "type": "bar",
         "x": [
          0.212,
          0.127,
          0.073,
          0.045,
          0.036,
          0.032,
          -0.027,
          0.018,
          -0.018,
          0.058
         ],
         "xaxis": "x",
         "y": [
          "char_freq_%21 = 0.778",
          "word_freq_free = 0.32",
          "capital_run_length_average = 3.756",
          "word_freq_hp = 0.0",
          "word_freq_your = 0.96",
          "word_freq_our = 0.32",
          "char_freq_%24 = 0.0",
          "word_freq_george = 0.0",
          "word_freq_remove = 0.0",
          "+ all other factors"
         ],
         "yaxis": "y"
        },
        {
         "base": 0.3939739011537632,
         "hoverinfo": "text",
         "hoverlabel": {
          "bgcolor": "rgba(0,0,0,0.8)"
         },
         "hovertext": [
          "Average response: 0.394<br>Prediction: 0.992<br>word_freq_remove = 0.21<br>increases average response <br>by 0.118",
          "Average response: 0.394<br>Prediction: 0.992<br>word_freq_hp = 0.0<br>increases average response <br>by 0.062",
          "Average response: 0.394<br>Prediction: 0.992<br>char_freq_%24 = 0.18<br>increases average response <br>by 0.06",
          "Average response: 0.394<br>Prediction: 0.992<br>capital_run_length_average = 5.114<br>increases average response <br>by 0.054",
          "Average response: 0.394<br>Prediction: 0.992<br>char_freq_%21 = 0.372<br>increases average response <br>by 0.053",
          "Average response: 0.394<br>Prediction: 0.992<br>word_freq_000 = 0.43<br>increases average response <br>by 0.047",
          "Average response: 0.394<br>Prediction: 0.992<br>word_freq_george = 0.0<br>increases average response <br>by 0.038",
          "Average response: 0.394<br>Prediction: 0.992<br>word_freq_money = 0.43<br>increases average response <br>by 0.036",
          "Average response: 0.394<br>Prediction: 0.992<br>word_freq_edu = 0.0<br>increases average response <br>by 0.027",
          "Average response: 0.394<br>Prediction: 0.992<br>+ all other factors<br>increases average response <br>by 0.103"
         ],
         "marker": {
          "color": [
           "#8bdcbe",
           "#8bdcbe",
           "#8bdcbe",
           "#8bdcbe",
           "#8bdcbe",
           "#8bdcbe",
           "#8bdcbe",
           "#8bdcbe",
           "#8bdcbe",
           "#8bdcbe"
          ]
         },
         "orientation": "h",
         "showlegend": false,
         "text": [
          "+0.118",
          "+0.062",
          "+0.06",
          "+0.054",
          "+0.053",
          "+0.047",
          "+0.038",
          "+0.036",
          "+0.027",
          "+0.103"
         ],
         "textposition": "outside",
         "type": "bar",
         "x": [
          0.118,
          0.062,
          0.06,
          0.054,
          0.053,
          0.047,
          0.038,
          0.036,
          0.027,
          0.103
         ],
         "xaxis": "x2",
         "y": [
          "word_freq_remove = 0.21",
          "word_freq_hp = 0.0",
          "char_freq_%24 = 0.18",
          "capital_run_length_average = 5.114",
          "char_freq_%21 = 0.372",
          "word_freq_000 = 0.43",
          "word_freq_george = 0.0",
          "word_freq_money = 0.43",
          "word_freq_edu = 0.0",
          "+ all other factors"
         ],
         "yaxis": "y2"
        }
       ],
       "layout": {
        "annotations": [
         {
          "font": {
           "size": 16
          },
          "showarrow": false,
          "text": "observation 0",
          "x": 0.5,
          "xanchor": "center",
          "xref": "paper",
          "y": 1,
          "yanchor": "bottom",
          "yref": "paper"
         },
         {
          "font": {
           "size": 16
          },
          "showarrow": false,
          "text": "observation 1",
          "x": 0.5,
          "xanchor": "center",
          "xref": "paper",
          "y": 0.45,
          "yanchor": "bottom",
          "yref": "paper"
         },
         {
          "font": {
           "size": 16
          },
          "showarrow": false,
          "text": "contribution",
          "x": 0.5,
          "xanchor": "center",
          "xref": "paper",
          "y": 0,
          "yanchor": "top",
          "yref": "paper",
          "yshift": -30
         }
        ],
        "font": {
         "color": "#371ea3"
        },
        "height": 667,
        "margin": {
         "b": 71,
         "r": 30,
         "t": 78
        },
        "shapes": [
         {
          "line": {
           "color": "#371ea3",
           "dash": "dot",
           "width": 1.5
          },
          "type": "line",
          "x0": 0.3939739011537632,
          "x1": 0.3939739011537632,
          "xref": "x",
          "y0": -1,
          "y1": 11,
          "yref": "y"
         },
         {
          "line": {
           "color": "#371ea3",
           "dash": "dot",
           "width": 1.5
          },
          "type": "line",
          "x0": 0.3939739011537632,
          "x1": 0.3939739011537632,
          "xref": "x2",
          "y0": -1,
          "y1": 11,
          "yref": "y2"
         }
        ],
        "template": {
         "data": {
          "scatter": [
           {
            "type": "scatter"
           }
          ]
         }
        },
        "title": {
         "text": "Shapley Values",
         "x": 0.15
        },
        "xaxis": {
         "anchor": "y",
         "automargin": true,
         "domain": [
          0,
          1
         ],
         "fixedrange": true,
         "gridwidth": 2,
         "matches": "x2",
         "range": [
          0.33112390115376317,
          0.6418239011537632
         ],
         "showticklabels": false,
         "tickcolor": "white",
         "ticklen": 3,
         "ticks": "outside",
         "type": "linear",
         "zeroline": false
        },
        "xaxis2": {
         "anchor": "y2",
         "automargin": true,
         "domain": [
          0,
          1
         ],
         "fixedrange": true,
         "gridwidth": 2,
         "range": [
          0.33112390115376317,
          0.6418239011537632
         ],
         "tickcolor": "white",
         "ticklen": 3,
         "ticks": "outside",
         "type": "linear",
         "zeroline": false
        },
        "yaxis": {
         "anchor": "x",
         "automargin": true,
         "autorange": "reversed",
         "domain": [
          0.55,
          1
         ],
         "fixedrange": true,
         "gridwidth": 2,
         "tickcolor": "white",
         "ticklen": 10,
         "ticks": "outside",
         "type": "category"
        },
        "yaxis2": {
         "anchor": "x2",
         "automargin": true,
         "autorange": "reversed",
         "domain": [
          0,
          0.45
         ],
         "fixedrange": true,
         "gridwidth": 2,
         "tickcolor": "white",
         "ticklen": 10,
         "ticks": "outside",
         "type": "category"
        }
       }
      },
      "text/html": [
       "<div>                            <div id=\"b03066bd-5b59-43fe-a396-c0ead4768db0\" class=\"plotly-graph-div\" style=\"height:667.0px; width:100%;\"></div>            <script type=\"text/javascript\">                require([\"plotly\"], function(Plotly) {                    window.PLOTLYENV=window.PLOTLYENV || {};                                    if (document.getElementById(\"b03066bd-5b59-43fe-a396-c0ead4768db0\")) {                    Plotly.newPlot(                        \"b03066bd-5b59-43fe-a396-c0ead4768db0\",                        [{\"base\":0.3939739011537632,\"hoverinfo\":\"text\",\"hoverlabel\":{\"bgcolor\":\"rgba(0,0,0,0.8)\"},\"hovertext\":[\"Average response: 0.394<br>Prediction: 0.949<br>char_freq_%21 = 0.778<br>increases average response <br>by 0.212\",\"Average response: 0.394<br>Prediction: 0.949<br>word_freq_free = 0.32<br>increases average response <br>by 0.127\",\"Average response: 0.394<br>Prediction: 0.949<br>capital_run_length_average = 3.756<br>increases average response <br>by 0.073\",\"Average response: 0.394<br>Prediction: 0.949<br>word_freq_hp = 0.0<br>increases average response <br>by 0.045\",\"Average response: 0.394<br>Prediction: 0.949<br>word_freq_your = 0.96<br>increases average response <br>by 0.036\",\"Average response: 0.394<br>Prediction: 0.949<br>word_freq_our = 0.32<br>increases average response <br>by 0.032\",\"Average response: 0.394<br>Prediction: 0.949<br>char_freq_%24 = 0.0<br>decreases average response <br>by 0.027\",\"Average response: 0.394<br>Prediction: 0.949<br>word_freq_george = 0.0<br>increases average response <br>by 0.018\",\"Average response: 0.394<br>Prediction: 0.949<br>word_freq_remove = 0.0<br>decreases average response <br>by 0.018\",\"Average response: 0.394<br>Prediction: 0.949<br>+ all other factors<br>increases average response <br>by 0.058\"],\"marker\":{\"color\":[\"#8bdcbe\",\"#8bdcbe\",\"#8bdcbe\",\"#8bdcbe\",\"#8bdcbe\",\"#8bdcbe\",\"#f05a71\",\"#8bdcbe\",\"#f05a71\",\"#8bdcbe\"]},\"orientation\":\"h\",\"showlegend\":false,\"text\":[\"+0.212\",\"+0.127\",\"+0.073\",\"+0.045\",\"+0.036\",\"+0.032\",\"-0.027\",\"+0.018\",\"-0.018\",\"+0.058\"],\"textposition\":\"outside\",\"x\":[0.212,0.127,0.073,0.045,0.036,0.032,-0.027,0.018,-0.018,0.058],\"y\":[\"char_freq_%21 = 0.778\",\"word_freq_free = 0.32\",\"capital_run_length_average = 3.756\",\"word_freq_hp = 0.0\",\"word_freq_your = 0.96\",\"word_freq_our = 0.32\",\"char_freq_%24 = 0.0\",\"word_freq_george = 0.0\",\"word_freq_remove = 0.0\",\"+ all other factors\"],\"type\":\"bar\",\"xaxis\":\"x\",\"yaxis\":\"y\"},{\"base\":0.3939739011537632,\"hoverinfo\":\"text\",\"hoverlabel\":{\"bgcolor\":\"rgba(0,0,0,0.8)\"},\"hovertext\":[\"Average response: 0.394<br>Prediction: 0.992<br>word_freq_remove = 0.21<br>increases average response <br>by 0.118\",\"Average response: 0.394<br>Prediction: 0.992<br>word_freq_hp = 0.0<br>increases average response <br>by 0.062\",\"Average response: 0.394<br>Prediction: 0.992<br>char_freq_%24 = 0.18<br>increases average response <br>by 0.06\",\"Average response: 0.394<br>Prediction: 0.992<br>capital_run_length_average = 5.114<br>increases average response <br>by 0.054\",\"Average response: 0.394<br>Prediction: 0.992<br>char_freq_%21 = 0.372<br>increases average response <br>by 0.053\",\"Average response: 0.394<br>Prediction: 0.992<br>word_freq_000 = 0.43<br>increases average response <br>by 0.047\",\"Average response: 0.394<br>Prediction: 0.992<br>word_freq_george = 0.0<br>increases average response <br>by 0.038\",\"Average response: 0.394<br>Prediction: 0.992<br>word_freq_money = 0.43<br>increases average response <br>by 0.036\",\"Average response: 0.394<br>Prediction: 0.992<br>word_freq_edu = 0.0<br>increases average response <br>by 0.027\",\"Average response: 0.394<br>Prediction: 0.992<br>+ all other factors<br>increases average response <br>by 0.103\"],\"marker\":{\"color\":[\"#8bdcbe\",\"#8bdcbe\",\"#8bdcbe\",\"#8bdcbe\",\"#8bdcbe\",\"#8bdcbe\",\"#8bdcbe\",\"#8bdcbe\",\"#8bdcbe\",\"#8bdcbe\"]},\"orientation\":\"h\",\"showlegend\":false,\"text\":[\"+0.118\",\"+0.062\",\"+0.06\",\"+0.054\",\"+0.053\",\"+0.047\",\"+0.038\",\"+0.036\",\"+0.027\",\"+0.103\"],\"textposition\":\"outside\",\"x\":[0.118,0.062,0.06,0.054,0.053,0.047,0.038,0.036,0.027,0.103],\"y\":[\"word_freq_remove = 0.21\",\"word_freq_hp = 0.0\",\"char_freq_%24 = 0.18\",\"capital_run_length_average = 5.114\",\"char_freq_%21 = 0.372\",\"word_freq_000 = 0.43\",\"word_freq_george = 0.0\",\"word_freq_money = 0.43\",\"word_freq_edu = 0.0\",\"+ all other factors\"],\"type\":\"bar\",\"xaxis\":\"x2\",\"yaxis\":\"y2\"}],                        {\"template\":{\"data\":{\"scatter\":[{\"type\":\"scatter\"}]}},\"xaxis\":{\"anchor\":\"y\",\"domain\":[0.0,1.0],\"matches\":\"x2\",\"showticklabels\":false,\"type\":\"linear\",\"gridwidth\":2,\"zeroline\":false,\"automargin\":true,\"ticks\":\"outside\",\"tickcolor\":\"white\",\"ticklen\":3,\"fixedrange\":true,\"range\":[0.33112390115376317,0.6418239011537632]},\"yaxis\":{\"anchor\":\"x\",\"domain\":[0.55,1.0],\"type\":\"category\",\"autorange\":\"reversed\",\"gridwidth\":2,\"automargin\":true,\"ticks\":\"outside\",\"tickcolor\":\"white\",\"ticklen\":10,\"fixedrange\":true},\"xaxis2\":{\"anchor\":\"y2\",\"domain\":[0.0,1.0],\"type\":\"linear\",\"gridwidth\":2,\"zeroline\":false,\"automargin\":true,\"ticks\":\"outside\",\"tickcolor\":\"white\",\"ticklen\":3,\"fixedrange\":true,\"range\":[0.33112390115376317,0.6418239011537632]},\"yaxis2\":{\"anchor\":\"x2\",\"domain\":[0.0,0.45],\"type\":\"category\",\"autorange\":\"reversed\",\"gridwidth\":2,\"automargin\":true,\"ticks\":\"outside\",\"tickcolor\":\"white\",\"ticklen\":10,\"fixedrange\":true},\"annotations\":[{\"font\":{\"size\":16},\"showarrow\":false,\"text\":\"observation 0\",\"x\":0.5,\"xanchor\":\"center\",\"xref\":\"paper\",\"y\":1.0,\"yanchor\":\"bottom\",\"yref\":\"paper\"},{\"font\":{\"size\":16},\"showarrow\":false,\"text\":\"observation 1\",\"x\":0.5,\"xanchor\":\"center\",\"xref\":\"paper\",\"y\":0.45,\"yanchor\":\"bottom\",\"yref\":\"paper\"},{\"font\":{\"size\":16},\"showarrow\":false,\"text\":\"contribution\",\"x\":0.5,\"xanchor\":\"center\",\"xref\":\"paper\",\"y\":0,\"yanchor\":\"top\",\"yref\":\"paper\",\"yshift\":-30}],\"shapes\":[{\"line\":{\"color\":\"#371ea3\",\"dash\":\"dot\",\"width\":1.5},\"type\":\"line\",\"x0\":0.3939739011537632,\"x1\":0.3939739011537632,\"xref\":\"x\",\"y0\":-1,\"y1\":11,\"yref\":\"y\"},{\"line\":{\"color\":\"#371ea3\",\"dash\":\"dot\",\"width\":1.5},\"type\":\"line\",\"x0\":0.3939739011537632,\"x1\":0.3939739011537632,\"xref\":\"x2\",\"y0\":-1,\"y1\":11,\"yref\":\"y2\"}],\"title\":{\"text\":\"Shapley Values\",\"x\":0.15},\"font\":{\"color\":\"#371ea3\"},\"margin\":{\"t\":78,\"b\":71,\"r\":30},\"height\":667.0},                        {\"displaylogo\": false, \"staticPlot\": false, \"toImageButtonOptions\": {\"height\": null, \"width\": null}, \"modeBarButtonsToRemove\": [\"sendDataToCloud\", \"lasso2d\", \"autoScale2d\", \"select2d\", \"zoom2d\", \"pan2d\", \"zoomIn2d\", \"zoomOut2d\", \"resetScale2d\", \"toggleSpikelines\", \"hoverCompareCartesian\", \"hoverClosestCartesian\"], \"responsive\": true}                    ).then(function(){\n",
       "                            \n",
       "var gd = document.getElementById('b03066bd-5b59-43fe-a396-c0ead4768db0');\n",
       "var x = new MutationObserver(function (mutations, observer) {{\n",
       "        var display = window.getComputedStyle(gd).display;\n",
       "        if (!display || display === 'none') {{\n",
       "            console.log([gd, 'removed!']);\n",
       "            Plotly.purge(gd);\n",
       "            observer.disconnect();\n",
       "        }}\n",
       "}});\n",
       "\n",
       "// Listen for the removal of the full notebook cells\n",
       "var notebookContainer = gd.closest('#notebook-container');\n",
       "if (notebookContainer) {{\n",
       "    x.observe(notebookContainer, {childList: true});\n",
       "}}\n",
       "\n",
       "// Listen for the clearing of the current output cell\n",
       "var outputEl = gd.closest('.output');\n",
       "if (outputEl) {{\n",
       "    x.observe(outputEl, {childList: true});\n",
       "}}\n",
       "\n",
       "                        })                };                });            </script>        </div>"
      ]
     },
     "metadata": {},
     "output_type": "display_data"
    }
   ],
   "source": [
    "shap_attributions[0].plot(shap_attributions[1::])"
   ]
  },
  {
   "cell_type": "code",
   "execution_count": 33,
   "metadata": {},
   "outputs": [
    {
     "data": {
      "text/html": [
       "<div>\n",
       "<style scoped>\n",
       "    .dataframe tbody tr th:only-of-type {\n",
       "        vertical-align: middle;\n",
       "    }\n",
       "\n",
       "    .dataframe tbody tr th {\n",
       "        vertical-align: top;\n",
       "    }\n",
       "\n",
       "    .dataframe thead th {\n",
       "        text-align: right;\n",
       "    }\n",
       "</style>\n",
       "<table border=\"1\" class=\"dataframe\">\n",
       "  <thead>\n",
       "    <tr style=\"text-align: right;\">\n",
       "      <th></th>\n",
       "      <th>TARGET</th>\n",
       "    </tr>\n",
       "  </thead>\n",
       "  <tbody>\n",
       "    <tr>\n",
       "      <th>0</th>\n",
       "      <td>1</td>\n",
       "    </tr>\n",
       "    <tr>\n",
       "      <th>1</th>\n",
       "      <td>1</td>\n",
       "    </tr>\n",
       "  </tbody>\n",
       "</table>\n",
       "</div>"
      ],
      "text/plain": [
       "   TARGET\n",
       "0       1\n",
       "1       1"
      ]
     },
     "execution_count": 33,
     "metadata": {},
     "output_type": "execute_result"
    }
   ],
   "source": [
    "y.iloc[[0,1]]"
   ]
  },
  {
   "cell_type": "code",
   "execution_count": 42,
   "metadata": {},
   "outputs": [
    {
     "name": "stdout",
     "output_type": "stream",
     "text": [
      "[0.94896216]\n",
      "[0.99157176]\n"
     ]
    }
   ],
   "source": [
    "for i in range(2):\n",
    "    observation = X.iloc[[i]]\n",
    "    print(RFexplainer.predict(observation))"
   ]
  },
  {
   "cell_type": "markdown",
   "metadata": {},
   "source": [
    "### Shap explanations"
   ]
  },
  {
   "cell_type": "code",
   "execution_count": 30,
   "metadata": {},
   "outputs": [],
   "source": [
    "import shap"
   ]
  },
  {
   "cell_type": "code",
   "execution_count": 34,
   "metadata": {},
   "outputs": [],
   "source": [
    "shap_explainer = shap.explainers.Tree(RF_final, data=X, model_output=\"raw\")"
   ]
  },
  {
   "cell_type": "code",
   "execution_count": 32,
   "metadata": {},
   "outputs": [
    {
     "name": "stderr",
     "output_type": "stream",
     "text": [
      "100%|===================| 9161/9202 [01:30<00:00]        "
     ]
    },
    {
     "ename": "ExplainerError",
     "evalue": "Additivity check failed in TreeExplainer! Please ensure the data matrix you passed to the explainer is the same shape that the model was trained on. If your data shape is correct then please report this on GitHub. This check failed because for one of the samples the sum of the SHAP values was 0.022276, while the model output was 0.032270. If this difference is acceptable you can set check_additivity=False to disable this check.",
     "output_type": "error",
     "traceback": [
      "\u001B[1;31m---------------------------------------------------------------------------\u001B[0m",
      "\u001B[1;31mExplainerError\u001B[0m                            Traceback (most recent call last)",
      "Cell \u001B[1;32mIn[32], line 1\u001B[0m\n\u001B[1;32m----> 1\u001B[0m shap_values \u001B[38;5;241m=\u001B[39m \u001B[43mshap_explainer\u001B[49m\u001B[43m(\u001B[49m\u001B[43mX\u001B[49m\u001B[43m)\u001B[49m\n",
      "File \u001B[1;32m~\\anaconda3\\lib\\site-packages\\shap\\explainers\\_tree.py:233\u001B[0m, in \u001B[0;36mTree.__call__\u001B[1;34m(self, X, y, interactions, check_additivity)\u001B[0m\n\u001B[0;32m    230\u001B[0m     feature_names \u001B[38;5;241m=\u001B[39m \u001B[38;5;28mgetattr\u001B[39m(\u001B[38;5;28mself\u001B[39m, \u001B[38;5;124m\"\u001B[39m\u001B[38;5;124mdata_feature_names\u001B[39m\u001B[38;5;124m\"\u001B[39m, \u001B[38;5;28;01mNone\u001B[39;00m)\n\u001B[0;32m    232\u001B[0m \u001B[38;5;28;01mif\u001B[39;00m \u001B[38;5;129;01mnot\u001B[39;00m interactions:\n\u001B[1;32m--> 233\u001B[0m     v \u001B[38;5;241m=\u001B[39m \u001B[38;5;28;43mself\u001B[39;49m\u001B[38;5;241;43m.\u001B[39;49m\u001B[43mshap_values\u001B[49m\u001B[43m(\u001B[49m\u001B[43mX\u001B[49m\u001B[43m,\u001B[49m\u001B[43m \u001B[49m\u001B[43my\u001B[49m\u001B[38;5;241;43m=\u001B[39;49m\u001B[43my\u001B[49m\u001B[43m,\u001B[49m\u001B[43m \u001B[49m\u001B[43mfrom_call\u001B[49m\u001B[38;5;241;43m=\u001B[39;49m\u001B[38;5;28;43;01mTrue\u001B[39;49;00m\u001B[43m,\u001B[49m\u001B[43m \u001B[49m\u001B[43mcheck_additivity\u001B[49m\u001B[38;5;241;43m=\u001B[39;49m\u001B[43mcheck_additivity\u001B[49m\u001B[43m,\u001B[49m\u001B[43m \u001B[49m\u001B[43mapproximate\u001B[49m\u001B[38;5;241;43m=\u001B[39;49m\u001B[38;5;28;43mself\u001B[39;49m\u001B[38;5;241;43m.\u001B[39;49m\u001B[43mapproximate\u001B[49m\u001B[43m)\u001B[49m\n\u001B[0;32m    234\u001B[0m     \u001B[38;5;28;01mif\u001B[39;00m \u001B[38;5;28mtype\u001B[39m(v) \u001B[38;5;129;01mis\u001B[39;00m \u001B[38;5;28mlist\u001B[39m:\n\u001B[0;32m    235\u001B[0m         v \u001B[38;5;241m=\u001B[39m np\u001B[38;5;241m.\u001B[39mstack(v, axis\u001B[38;5;241m=\u001B[39m\u001B[38;5;241m-\u001B[39m\u001B[38;5;241m1\u001B[39m)  \u001B[38;5;66;03m# put outputs at the end\u001B[39;00m\n",
      "File \u001B[1;32m~\\anaconda3\\lib\\site-packages\\shap\\explainers\\_tree.py:442\u001B[0m, in \u001B[0;36mTree.shap_values\u001B[1;34m(self, X, y, tree_limit, approximate, check_additivity, from_call)\u001B[0m\n\u001B[0;32m    440\u001B[0m out \u001B[38;5;241m=\u001B[39m \u001B[38;5;28mself\u001B[39m\u001B[38;5;241m.\u001B[39m_get_shap_output(phi, flat_output)\n\u001B[0;32m    441\u001B[0m \u001B[38;5;28;01mif\u001B[39;00m check_additivity \u001B[38;5;129;01mand\u001B[39;00m \u001B[38;5;28mself\u001B[39m\u001B[38;5;241m.\u001B[39mmodel\u001B[38;5;241m.\u001B[39mmodel_output \u001B[38;5;241m==\u001B[39m \u001B[38;5;124m\"\u001B[39m\u001B[38;5;124mraw\u001B[39m\u001B[38;5;124m\"\u001B[39m:\n\u001B[1;32m--> 442\u001B[0m     \u001B[38;5;28;43mself\u001B[39;49m\u001B[38;5;241;43m.\u001B[39;49m\u001B[43massert_additivity\u001B[49m\u001B[43m(\u001B[49m\u001B[43mout\u001B[49m\u001B[43m,\u001B[49m\u001B[43m \u001B[49m\u001B[38;5;28;43mself\u001B[39;49m\u001B[38;5;241;43m.\u001B[39;49m\u001B[43mmodel\u001B[49m\u001B[38;5;241;43m.\u001B[39;49m\u001B[43mpredict\u001B[49m\u001B[43m(\u001B[49m\u001B[43mX\u001B[49m\u001B[43m)\u001B[49m\u001B[43m)\u001B[49m\n\u001B[0;32m    444\u001B[0m \u001B[38;5;28;01mreturn\u001B[39;00m out\n",
      "File \u001B[1;32m~\\anaconda3\\lib\\site-packages\\shap\\explainers\\_tree.py:573\u001B[0m, in \u001B[0;36mTree.assert_additivity\u001B[1;34m(self, phi, model_output)\u001B[0m\n\u001B[0;32m    571\u001B[0m \u001B[38;5;28;01mif\u001B[39;00m \u001B[38;5;28mtype\u001B[39m(phi) \u001B[38;5;129;01mis\u001B[39;00m \u001B[38;5;28mlist\u001B[39m:\n\u001B[0;32m    572\u001B[0m     \u001B[38;5;28;01mfor\u001B[39;00m i \u001B[38;5;129;01min\u001B[39;00m \u001B[38;5;28mrange\u001B[39m(\u001B[38;5;28mlen\u001B[39m(phi)):\n\u001B[1;32m--> 573\u001B[0m         \u001B[43mcheck_sum\u001B[49m\u001B[43m(\u001B[49m\u001B[38;5;28;43mself\u001B[39;49m\u001B[38;5;241;43m.\u001B[39;49m\u001B[43mexpected_value\u001B[49m\u001B[43m[\u001B[49m\u001B[43mi\u001B[49m\u001B[43m]\u001B[49m\u001B[43m \u001B[49m\u001B[38;5;241;43m+\u001B[39;49m\u001B[43m \u001B[49m\u001B[43mphi\u001B[49m\u001B[43m[\u001B[49m\u001B[43mi\u001B[49m\u001B[43m]\u001B[49m\u001B[38;5;241;43m.\u001B[39;49m\u001B[43msum\u001B[49m\u001B[43m(\u001B[49m\u001B[38;5;241;43m-\u001B[39;49m\u001B[38;5;241;43m1\u001B[39;49m\u001B[43m)\u001B[49m\u001B[43m,\u001B[49m\u001B[43m \u001B[49m\u001B[43mmodel_output\u001B[49m\u001B[43m[\u001B[49m\u001B[43m:\u001B[49m\u001B[43m,\u001B[49m\u001B[43mi\u001B[49m\u001B[43m]\u001B[49m\u001B[43m)\u001B[49m\n\u001B[0;32m    574\u001B[0m \u001B[38;5;28;01melse\u001B[39;00m:\n\u001B[0;32m    575\u001B[0m     check_sum(\u001B[38;5;28mself\u001B[39m\u001B[38;5;241m.\u001B[39mexpected_value \u001B[38;5;241m+\u001B[39m phi\u001B[38;5;241m.\u001B[39msum(\u001B[38;5;241m-\u001B[39m\u001B[38;5;241m1\u001B[39m), model_output)\n",
      "File \u001B[1;32m~\\anaconda3\\lib\\site-packages\\shap\\explainers\\_tree.py:569\u001B[0m, in \u001B[0;36mTree.assert_additivity.<locals>.check_sum\u001B[1;34m(sum_val, model_output)\u001B[0m\n\u001B[0;32m    565\u001B[0m     err_msg \u001B[38;5;241m+\u001B[39m\u001B[38;5;241m=\u001B[39m \u001B[38;5;124m\"\u001B[39m\u001B[38;5;124m Consider retrying with the feature_perturbation=\u001B[39m\u001B[38;5;124m'\u001B[39m\u001B[38;5;124minterventional\u001B[39m\u001B[38;5;124m'\u001B[39m\u001B[38;5;124m option.\u001B[39m\u001B[38;5;124m\"\u001B[39m\n\u001B[0;32m    566\u001B[0m err_msg \u001B[38;5;241m+\u001B[39m\u001B[38;5;241m=\u001B[39m \u001B[38;5;124m\"\u001B[39m\u001B[38;5;124m This check failed because for one of the samples the sum of the SHAP values\u001B[39m\u001B[38;5;124m\"\u001B[39m \\\n\u001B[0;32m    567\u001B[0m            \u001B[38;5;124m\"\u001B[39m\u001B[38;5;124m was \u001B[39m\u001B[38;5;132;01m{:f}\u001B[39;00m\u001B[38;5;124m, while the model output was \u001B[39m\u001B[38;5;132;01m{:f}\u001B[39;00m\u001B[38;5;124m. If this difference is acceptable\u001B[39m\u001B[38;5;124m\"\u001B[39m \\\n\u001B[0;32m    568\u001B[0m            \u001B[38;5;124m\"\u001B[39m\u001B[38;5;124m you can set check_additivity=False to disable this check.\u001B[39m\u001B[38;5;124m\"\u001B[39m\u001B[38;5;241m.\u001B[39mformat(sum_val[ind], model_output[ind])\n\u001B[1;32m--> 569\u001B[0m \u001B[38;5;28;01mraise\u001B[39;00m ExplainerError(err_msg)\n",
      "\u001B[1;31mExplainerError\u001B[0m: Additivity check failed in TreeExplainer! Please ensure the data matrix you passed to the explainer is the same shape that the model was trained on. If your data shape is correct then please report this on GitHub. This check failed because for one of the samples the sum of the SHAP values was 0.022276, while the model output was 0.032270. If this difference is acceptable you can set check_additivity=False to disable this check."
     ]
    }
   ],
   "source": [
    "shap_values = shap_explainer(X)"
   ]
  },
  {
   "cell_type": "code",
   "execution_count": 35,
   "metadata": {},
   "outputs": [
    {
     "data": {
      "text/plain": [
       ".values =\n",
       "array([[[-1.45046660e-04,  1.45046677e-04],\n",
       "        [-1.27395623e-03,  1.27395623e-03],\n",
       "        [-6.09863437e-04,  6.09863386e-04],\n",
       "        ...,\n",
       "        [ 2.55196072e-02, -2.55196060e-02],\n",
       "        [ 1.92350764e-04, -1.92350768e-04],\n",
       "        [-9.02425648e-02,  9.02425644e-02]],\n",
       "\n",
       "       [[ 3.99418960e-04, -3.99418960e-04],\n",
       "        [-1.66786697e-04,  1.66786646e-04],\n",
       "        [-2.26417626e-03,  2.26417626e-03],\n",
       "        ...,\n",
       "        [-8.86447478e-02,  8.86447459e-02],\n",
       "        [ 8.09869075e-04, -8.09869126e-04],\n",
       "        [-6.06022478e-02,  6.06022479e-02]],\n",
       "\n",
       "       [[-5.47321330e-04,  5.47321335e-04],\n",
       "        [-7.11505017e-05,  7.11505040e-05],\n",
       "        [-1.62957010e-03,  1.62957005e-03],\n",
       "        ...,\n",
       "        [-8.84897266e-02,  8.84897243e-02],\n",
       "        [ 2.22926367e-04, -2.22926374e-04],\n",
       "        [-7.95046609e-02,  7.95046611e-02]],\n",
       "\n",
       "       ...,\n",
       "\n",
       "       [[-1.50896216e-04,  1.50896211e-04],\n",
       "        [ 2.51259221e-04, -2.51259187e-04],\n",
       "        [-4.88861260e-04,  4.88861256e-04],\n",
       "        ...,\n",
       "        [ 2.76869615e-02, -2.76869609e-02],\n",
       "        [ 4.30338459e-04, -4.30338448e-04],\n",
       "        [ 4.29238730e-02, -4.29238727e-02]],\n",
       "\n",
       "       [[ 1.64965113e-03, -1.64965116e-03],\n",
       "        [-1.13580165e-05,  1.13580478e-05],\n",
       "        [ 1.23192233e-03, -1.23192232e-03],\n",
       "        ...,\n",
       "        [ 3.69734406e-02, -3.69734399e-02],\n",
       "        [ 3.67380771e-04, -3.67380763e-04],\n",
       "        [ 5.91799612e-02, -5.91799609e-02]],\n",
       "\n",
       "       [[ 4.56649341e-05, -4.56649362e-05],\n",
       "        [ 4.44082729e-04, -4.44082707e-04],\n",
       "        [-4.81591918e-05,  4.81591817e-05],\n",
       "        ...,\n",
       "        [ 3.86341409e-02, -3.86341399e-02],\n",
       "        [ 3.53379440e-04, -3.53379430e-04],\n",
       "        [ 6.06348288e-02, -6.06348286e-02]]])\n",
       "\n",
       ".base_values =\n",
       "array([[0.63064792, 0.36935208],\n",
       "       [0.63064792, 0.36935208],\n",
       "       [0.63064792, 0.36935208],\n",
       "       ...,\n",
       "       [0.63064792, 0.36935208],\n",
       "       [0.63064792, 0.36935208],\n",
       "       [0.63064792, 0.36935208]])\n",
       "\n",
       ".data =\n",
       "array([[0.   , 0.64 , 0.64 , ..., 0.   , 0.   , 3.756],\n",
       "       [0.21 , 0.28 , 0.5  , ..., 0.18 , 0.048, 5.114],\n",
       "       [0.06 , 0.   , 0.71 , ..., 0.184, 0.01 , 9.821],\n",
       "       ...,\n",
       "       [0.3  , 0.   , 0.3  , ..., 0.   , 0.   , 1.404],\n",
       "       [0.96 , 0.   , 0.   , ..., 0.   , 0.   , 1.147],\n",
       "       [0.   , 0.   , 0.65 , ..., 0.   , 0.   , 1.25 ]])"
      ]
     },
     "execution_count": 35,
     "metadata": {},
     "output_type": "execute_result"
    }
   ],
   "source": [
    "shap_values"
   ]
  },
  {
   "cell_type": "code",
   "execution_count": 38,
   "metadata": {},
   "outputs": [
    {
     "data": {
      "image/png": "[encoded data removed]",
      "text/plain": [
       "<Figure size 800x650 with 3 Axes>"
      ]
     },
     "metadata": {},
     "output_type": "display_data"
    },
    {
     "data": {
      "image/png": "[encoded data removed]",
      "text/plain": [
       "<Figure size 800x650 with 3 Axes>"
      ]
     },
     "metadata": {},
     "output_type": "display_data"
    }
   ],
   "source": [
    "for i in range(2):\n",
    "    shap.plots.waterfall(shap_values[i][:,1])"
   ]
  },
  {
   "cell_type": "markdown",
   "metadata": {},
   "source": [
    "## Linear regression"
   ]
  },
  {
   "cell_type": "code",
   "execution_count": 39,
   "metadata": {},
   "outputs": [
    {
     "name": "stdout",
     "output_type": "stream",
     "text": [
      "Train accuracy:  0.930449902195175\n"
     ]
    },
    {
     "name": "stderr",
     "output_type": "stream",
     "text": [
      "A column-vector y was passed when a 1d array was expected. Please change the shape of y to (n_samples, ), for example using ravel().\n",
      "lbfgs failed to converge (status=1):\n",
      "STOP: TOTAL NO. of ITERATIONS REACHED LIMIT.\n",
      "\n",
      "Increase the number of iterations (max_iter) or scale the data as shown in:\n",
      "    https://scikit-learn.org/stable/modules/preprocessing.html\n",
      "Please also refer to the documentation for alternative solver options:\n",
      "    https://scikit-learn.org/stable/modules/linear_model.html#logistic-regression\n"
     ]
    }
   ],
   "source": [
    "from sklearn.linear_model import LogisticRegression\n",
    "clf_final = LogisticRegression(random_state=2).fit(X, y)\n",
    "print(\"Train accuracy: \", accuracy_score(y, clf_final.predict(X)))"
   ]
  },
  {
   "cell_type": "code",
   "execution_count": 40,
   "metadata": {},
   "outputs": [
    {
     "name": "stdout",
     "output_type": "stream",
     "text": [
      "Preparation of a new explainer is initiated\n",
      "\n",
      "  -> data              : 4601 rows 55 cols\n",
      "  -> target variable   : Parameter 'y' was a pandas.DataFrame. Converted to a numpy.ndarray.\n",
      "  -> target variable   : 4601 values\n",
      "  -> model_class       : sklearn.linear_model._logistic.LogisticRegression (default)\n",
      "  -> label             : Not specified, model's class short name will be used. (default)\n",
      "  -> predict function  : <function yhat_proba_default at 0x000001FB0AE50790> will be used (default)\n",
      "  -> predict function  : Accepts pandas.DataFrame and numpy.ndarray.\n",
      "  -> predicted values  : min = 4.74e-58, mean = 0.394, max = 1.0\n",
      "  -> model type        : classification will be used (default)\n",
      "  -> residual function : difference between y and yhat (default)\n",
      "  -> residuals         : min = -1.0, mean = -5.19e-06, max = 1.0\n",
      "  -> model_info        : package sklearn\n",
      "\n",
      "A new explainer has been created!\n"
     ]
    },
    {
     "name": "stderr",
     "output_type": "stream",
     "text": [
      "X does not have valid feature names, but LogisticRegression was fitted with feature names\n"
     ]
    }
   ],
   "source": [
    "clfexplainer = dx.Explainer(clf_final, X, y)\n",
    "\n",
    "shap_attributions2 = [clfexplainer.predict_parts(X.iloc[[i]], type=\"shap\", label=f'observation {i}') for i in range(2)]"
   ]
  },
  {
   "cell_type": "code",
   "execution_count": 41,
   "metadata": {},
   "outputs": [
    {
     "data": {
      "application/vnd.plotly.v1+json": {
       "config": {
        "displaylogo": false,
        "modeBarButtonsToRemove": [
         "sendDataToCloud",
         "lasso2d",
         "autoScale2d",
         "select2d",
         "zoom2d",
         "pan2d",
         "zoomIn2d",
         "zoomOut2d",
         "resetScale2d",
         "toggleSpikelines",
         "hoverCompareCartesian",
         "hoverClosestCartesian"
        ],
        "plotlyServerURL": "https://plot.ly",
        "staticPlot": false,
        "toImageButtonOptions": {
         "height": null,
         "width": null
        }
       },
       "data": [
        {
         "base": 0.3940499592421783,
         "hoverinfo": "text",
         "hoverlabel": {
          "bgcolor": "rgba(0,0,0,0.8)"
         },
         "hovertext": [
          "Average response: 0.394<br>Prediction: 0.54<br>word_freq_hp = 0.0<br>increases average response <br>by 0.044",
          "Average response: 0.394<br>Prediction: 0.54<br>word_freq_george = 0.0<br>increases average response <br>by 0.039",
          "Average response: 0.394<br>Prediction: 0.54<br>char_freq_%24 = 0.0<br>decreases average response <br>by 0.033",
          "Average response: 0.394<br>Prediction: 0.54<br>char_freq_%21 = 0.778<br>increases average response <br>by 0.032",
          "Average response: 0.394<br>Prediction: 0.54<br>word_freq_email = 1.29<br>increases average response <br>by 0.028",
          "Average response: 0.394<br>Prediction: 0.54<br>word_freq_remove = 0.0<br>decreases average response <br>by 0.027",
          "Average response: 0.394<br>Prediction: 0.54<br>word_freq_re = 0.0<br>increases average response <br>by 0.026",
          "Average response: 0.394<br>Prediction: 0.54<br>word_freq_edu = 0.0<br>increases average response <br>by 0.02",
          "Average response: 0.394<br>Prediction: 0.54<br>word_freq_000 = 0.0<br>decreases average response <br>by 0.02",
          "Average response: 0.394<br>Prediction: 0.54<br>+ all other factors<br>increases average response <br>by 0.036"
         ],
         "marker": {
          "color": [
           "#8bdcbe",
           "#8bdcbe",
           "#f05a71",
           "#8bdcbe",
           "#8bdcbe",
           "#f05a71",
           "#8bdcbe",
           "#8bdcbe",
           "#f05a71",
           "#8bdcbe"
          ]
         },
         "orientation": "h",
         "showlegend": false,
         "text": [
          "+0.044",
          "+0.039",
          "-0.033",
          "+0.032",
          "+0.028",
          "-0.027",
          "+0.026",
          "+0.02",
          "-0.02",
          "+0.036"
         ],
         "textposition": "outside",
         "type": "bar",
         "x": [
          0.044,
          0.039,
          -0.033,
          0.032,
          0.028,
          -0.027,
          0.026,
          0.02,
          -0.02,
          0.036
         ],
         "xaxis": "x",
         "y": [
          "word_freq_hp = 0.0",
          "word_freq_george = 0.0",
          "char_freq_%24 = 0.0",
          "char_freq_%21 = 0.778",
          "word_freq_email = 1.29",
          "word_freq_remove = 0.0",
          "word_freq_re = 0.0",
          "word_freq_edu = 0.0",
          "word_freq_000 = 0.0",
          "+ all other factors"
         ],
         "yaxis": "y"
        },
        {
         "base": 0.3940499592421783,
         "hoverinfo": "text",
         "hoverlabel": {
          "bgcolor": "rgba(0,0,0,0.8)"
         },
         "hovertext": [
          "Average response: 0.394<br>Prediction: 0.947<br>word_freq_000 = 0.43<br>increases average response <br>by 0.088",
          "Average response: 0.394<br>Prediction: 0.947<br>word_freq_george = 0.0<br>increases average response <br>by 0.074",
          "Average response: 0.394<br>Prediction: 0.947<br>word_freq_hp = 0.0<br>increases average response <br>by 0.07",
          "Average response: 0.394<br>Prediction: 0.947<br>char_freq_%24 = 0.18<br>increases average response <br>by 0.056",
          "Average response: 0.394<br>Prediction: 0.947<br>word_freq_remove = 0.21<br>increases average response <br>by 0.035",
          "Average response: 0.394<br>Prediction: 0.947<br>word_freq_edu = 0.0<br>increases average response <br>by 0.025",
          "Average response: 0.394<br>Prediction: 0.947<br>word_freq_re = 0.0<br>increases average response <br>by 0.022",
          "Average response: 0.394<br>Prediction: 0.947<br>word_freq_your = 1.59<br>increases average response <br>by 0.021",
          "Average response: 0.394<br>Prediction: 0.947<br>word_freq_hpl = 0.0<br>increases average response <br>by 0.02",
          "Average response: 0.394<br>Prediction: 0.947<br>+ all other factors<br>increases average response <br>by 0.141"
         ],
         "marker": {
          "color": [
           "#8bdcbe",
           "#8bdcbe",
           "#8bdcbe",
           "#8bdcbe",
           "#8bdcbe",
           "#8bdcbe",
           "#8bdcbe",
           "#8bdcbe",
           "#8bdcbe",
           "#8bdcbe"
          ]
         },
         "orientation": "h",
         "showlegend": false,
         "text": [
          "+0.088",
          "+0.074",
          "+0.07",
          "+0.056",
          "+0.035",
          "+0.025",
          "+0.022",
          "+0.021",
          "+0.02",
          "+0.141"
         ],
         "textposition": "outside",
         "type": "bar",
         "x": [
          0.088,
          0.074,
          0.07,
          0.056,
          0.035,
          0.025,
          0.022,
          0.021,
          0.02,
          0.141
         ],
         "xaxis": "x2",
         "y": [
          "word_freq_000 = 0.43",
          "word_freq_george = 0.0",
          "word_freq_hp = 0.0",
          "char_freq_%24 = 0.18",
          "word_freq_remove = 0.21",
          "word_freq_edu = 0.0",
          "word_freq_re = 0.0",
          "word_freq_your = 1.59",
          "word_freq_hpl = 0.0",
          "+ all other factors"
         ],
         "yaxis": "y2"
        }
       ],
       "layout": {
        "annotations": [
         {
          "font": {
           "size": 16
          },
          "showarrow": false,
          "text": "observation 0",
          "x": 0.5,
          "xanchor": "center",
          "xref": "paper",
          "y": 1,
          "yanchor": "bottom",
          "yref": "paper"
         },
         {
          "font": {
           "size": 16
          },
          "showarrow": false,
          "text": "observation 1",
          "x": 0.5,
          "xanchor": "center",
          "xref": "paper",
          "y": 0.45,
          "yanchor": "bottom",
          "yref": "paper"
         },
         {
          "font": {
           "size": 16
          },
          "showarrow": false,
          "text": "contribution",
          "x": 0.5,
          "xanchor": "center",
          "xref": "paper",
          "y": 0,
          "yanchor": "top",
          "yref": "paper",
          "yshift": -30
         }
        ],
        "font": {
         "color": "#371ea3"
        },
        "height": 667,
        "margin": {
         "b": 71,
         "r": 30,
         "t": 78
        },
        "shapes": [
         {
          "line": {
           "color": "#371ea3",
           "dash": "dot",
           "width": 1.5
          },
          "type": "line",
          "x0": 0.3940499592421783,
          "x1": 0.3940499592421783,
          "xref": "x",
          "y0": -1,
          "y1": 11,
          "yref": "y"
         },
         {
          "line": {
           "color": "#371ea3",
           "dash": "dot",
           "width": 1.5
          },
          "type": "line",
          "x0": 0.3940499592421783,
          "x1": 0.3940499592421783,
          "xref": "x2",
          "y0": -1,
          "y1": 11,
          "yref": "y2"
         }
        ],
        "template": {
         "data": {
          "scatter": [
           {
            "type": "scatter"
           }
          ]
         }
        },
        "title": {
         "text": "Shapley Values",
         "x": 0.15
        },
        "xaxis": {
         "anchor": "y",
         "automargin": true,
         "domain": [
          0,
          1
         ],
         "fixedrange": true,
         "gridwidth": 2,
         "matches": "x2",
         "range": [
          0.3494999592421783,
          0.5531999592421782
         ],
         "showticklabels": false,
         "tickcolor": "white",
         "ticklen": 3,
         "ticks": "outside",
         "type": "linear",
         "zeroline": false
        },
        "xaxis2": {
         "anchor": "y2",
         "automargin": true,
         "domain": [
          0,
          1
         ],
         "fixedrange": true,
         "gridwidth": 2,
         "range": [
          0.3494999592421783,
          0.5531999592421782
         ],
         "tickcolor": "white",
         "ticklen": 3,
         "ticks": "outside",
         "type": "linear",
         "zeroline": false
        },
        "yaxis": {
         "anchor": "x",
         "automargin": true,
         "autorange": "reversed",
         "domain": [
          0.55,
          1
         ],
         "fixedrange": true,
         "gridwidth": 2,
         "tickcolor": "white",
         "ticklen": 10,
         "ticks": "outside",
         "type": "category"
        },
        "yaxis2": {
         "anchor": "x2",
         "automargin": true,
         "autorange": "reversed",
         "domain": [
          0,
          0.45
         ],
         "fixedrange": true,
         "gridwidth": 2,
         "tickcolor": "white",
         "ticklen": 10,
         "ticks": "outside",
         "type": "category"
        }
       }
      },
      "text/html": [
       "<div>                            <div id=\"06718564-d7d4-4049-9ba7-4f8add4754e6\" class=\"plotly-graph-div\" style=\"height:667.0px; width:100%;\"></div>            <script type=\"text/javascript\">                require([\"plotly\"], function(Plotly) {                    window.PLOTLYENV=window.PLOTLYENV || {};                                    if (document.getElementById(\"06718564-d7d4-4049-9ba7-4f8add4754e6\")) {                    Plotly.newPlot(                        \"06718564-d7d4-4049-9ba7-4f8add4754e6\",                        [{\"base\":0.3940499592421783,\"hoverinfo\":\"text\",\"hoverlabel\":{\"bgcolor\":\"rgba(0,0,0,0.8)\"},\"hovertext\":[\"Average response: 0.394<br>Prediction: 0.54<br>word_freq_hp = 0.0<br>increases average response <br>by 0.044\",\"Average response: 0.394<br>Prediction: 0.54<br>word_freq_george = 0.0<br>increases average response <br>by 0.039\",\"Average response: 0.394<br>Prediction: 0.54<br>char_freq_%24 = 0.0<br>decreases average response <br>by 0.033\",\"Average response: 0.394<br>Prediction: 0.54<br>char_freq_%21 = 0.778<br>increases average response <br>by 0.032\",\"Average response: 0.394<br>Prediction: 0.54<br>word_freq_email = 1.29<br>increases average response <br>by 0.028\",\"Average response: 0.394<br>Prediction: 0.54<br>word_freq_remove = 0.0<br>decreases average response <br>by 0.027\",\"Average response: 0.394<br>Prediction: 0.54<br>word_freq_re = 0.0<br>increases average response <br>by 0.026\",\"Average response: 0.394<br>Prediction: 0.54<br>word_freq_edu = 0.0<br>increases average response <br>by 0.02\",\"Average response: 0.394<br>Prediction: 0.54<br>word_freq_000 = 0.0<br>decreases average response <br>by 0.02\",\"Average response: 0.394<br>Prediction: 0.54<br>+ all other factors<br>increases average response <br>by 0.036\"],\"marker\":{\"color\":[\"#8bdcbe\",\"#8bdcbe\",\"#f05a71\",\"#8bdcbe\",\"#8bdcbe\",\"#f05a71\",\"#8bdcbe\",\"#8bdcbe\",\"#f05a71\",\"#8bdcbe\"]},\"orientation\":\"h\",\"showlegend\":false,\"text\":[\"+0.044\",\"+0.039\",\"-0.033\",\"+0.032\",\"+0.028\",\"-0.027\",\"+0.026\",\"+0.02\",\"-0.02\",\"+0.036\"],\"textposition\":\"outside\",\"x\":[0.044,0.039,-0.033,0.032,0.028,-0.027,0.026,0.02,-0.02,0.036],\"y\":[\"word_freq_hp = 0.0\",\"word_freq_george = 0.0\",\"char_freq_%24 = 0.0\",\"char_freq_%21 = 0.778\",\"word_freq_email = 1.29\",\"word_freq_remove = 0.0\",\"word_freq_re = 0.0\",\"word_freq_edu = 0.0\",\"word_freq_000 = 0.0\",\"+ all other factors\"],\"type\":\"bar\",\"xaxis\":\"x\",\"yaxis\":\"y\"},{\"base\":0.3940499592421783,\"hoverinfo\":\"text\",\"hoverlabel\":{\"bgcolor\":\"rgba(0,0,0,0.8)\"},\"hovertext\":[\"Average response: 0.394<br>Prediction: 0.947<br>word_freq_000 = 0.43<br>increases average response <br>by 0.088\",\"Average response: 0.394<br>Prediction: 0.947<br>word_freq_george = 0.0<br>increases average response <br>by 0.074\",\"Average response: 0.394<br>Prediction: 0.947<br>word_freq_hp = 0.0<br>increases average response <br>by 0.07\",\"Average response: 0.394<br>Prediction: 0.947<br>char_freq_%24 = 0.18<br>increases average response <br>by 0.056\",\"Average response: 0.394<br>Prediction: 0.947<br>word_freq_remove = 0.21<br>increases average response <br>by 0.035\",\"Average response: 0.394<br>Prediction: 0.947<br>word_freq_edu = 0.0<br>increases average response <br>by 0.025\",\"Average response: 0.394<br>Prediction: 0.947<br>word_freq_re = 0.0<br>increases average response <br>by 0.022\",\"Average response: 0.394<br>Prediction: 0.947<br>word_freq_your = 1.59<br>increases average response <br>by 0.021\",\"Average response: 0.394<br>Prediction: 0.947<br>word_freq_hpl = 0.0<br>increases average response <br>by 0.02\",\"Average response: 0.394<br>Prediction: 0.947<br>+ all other factors<br>increases average response <br>by 0.141\"],\"marker\":{\"color\":[\"#8bdcbe\",\"#8bdcbe\",\"#8bdcbe\",\"#8bdcbe\",\"#8bdcbe\",\"#8bdcbe\",\"#8bdcbe\",\"#8bdcbe\",\"#8bdcbe\",\"#8bdcbe\"]},\"orientation\":\"h\",\"showlegend\":false,\"text\":[\"+0.088\",\"+0.074\",\"+0.07\",\"+0.056\",\"+0.035\",\"+0.025\",\"+0.022\",\"+0.021\",\"+0.02\",\"+0.141\"],\"textposition\":\"outside\",\"x\":[0.088,0.074,0.07,0.056,0.035,0.025,0.022,0.021,0.02,0.141],\"y\":[\"word_freq_000 = 0.43\",\"word_freq_george = 0.0\",\"word_freq_hp = 0.0\",\"char_freq_%24 = 0.18\",\"word_freq_remove = 0.21\",\"word_freq_edu = 0.0\",\"word_freq_re = 0.0\",\"word_freq_your = 1.59\",\"word_freq_hpl = 0.0\",\"+ all other factors\"],\"type\":\"bar\",\"xaxis\":\"x2\",\"yaxis\":\"y2\"}],                        {\"template\":{\"data\":{\"scatter\":[{\"type\":\"scatter\"}]}},\"xaxis\":{\"anchor\":\"y\",\"domain\":[0.0,1.0],\"matches\":\"x2\",\"showticklabels\":false,\"type\":\"linear\",\"gridwidth\":2,\"zeroline\":false,\"automargin\":true,\"ticks\":\"outside\",\"tickcolor\":\"white\",\"ticklen\":3,\"fixedrange\":true,\"range\":[0.3494999592421783,0.5531999592421782]},\"yaxis\":{\"anchor\":\"x\",\"domain\":[0.55,1.0],\"type\":\"category\",\"autorange\":\"reversed\",\"gridwidth\":2,\"automargin\":true,\"ticks\":\"outside\",\"tickcolor\":\"white\",\"ticklen\":10,\"fixedrange\":true},\"xaxis2\":{\"anchor\":\"y2\",\"domain\":[0.0,1.0],\"type\":\"linear\",\"gridwidth\":2,\"zeroline\":false,\"automargin\":true,\"ticks\":\"outside\",\"tickcolor\":\"white\",\"ticklen\":3,\"fixedrange\":true,\"range\":[0.3494999592421783,0.5531999592421782]},\"yaxis2\":{\"anchor\":\"x2\",\"domain\":[0.0,0.45],\"type\":\"category\",\"autorange\":\"reversed\",\"gridwidth\":2,\"automargin\":true,\"ticks\":\"outside\",\"tickcolor\":\"white\",\"ticklen\":10,\"fixedrange\":true},\"annotations\":[{\"font\":{\"size\":16},\"showarrow\":false,\"text\":\"observation 0\",\"x\":0.5,\"xanchor\":\"center\",\"xref\":\"paper\",\"y\":1.0,\"yanchor\":\"bottom\",\"yref\":\"paper\"},{\"font\":{\"size\":16},\"showarrow\":false,\"text\":\"observation 1\",\"x\":0.5,\"xanchor\":\"center\",\"xref\":\"paper\",\"y\":0.45,\"yanchor\":\"bottom\",\"yref\":\"paper\"},{\"font\":{\"size\":16},\"showarrow\":false,\"text\":\"contribution\",\"x\":0.5,\"xanchor\":\"center\",\"xref\":\"paper\",\"y\":0,\"yanchor\":\"top\",\"yref\":\"paper\",\"yshift\":-30}],\"shapes\":[{\"line\":{\"color\":\"#371ea3\",\"dash\":\"dot\",\"width\":1.5},\"type\":\"line\",\"x0\":0.3940499592421783,\"x1\":0.3940499592421783,\"xref\":\"x\",\"y0\":-1,\"y1\":11,\"yref\":\"y\"},{\"line\":{\"color\":\"#371ea3\",\"dash\":\"dot\",\"width\":1.5},\"type\":\"line\",\"x0\":0.3940499592421783,\"x1\":0.3940499592421783,\"xref\":\"x2\",\"y0\":-1,\"y1\":11,\"yref\":\"y2\"}],\"title\":{\"text\":\"Shapley Values\",\"x\":0.15},\"font\":{\"color\":\"#371ea3\"},\"margin\":{\"t\":78,\"b\":71,\"r\":30},\"height\":667.0},                        {\"displaylogo\": false, \"staticPlot\": false, \"toImageButtonOptions\": {\"height\": null, \"width\": null}, \"modeBarButtonsToRemove\": [\"sendDataToCloud\", \"lasso2d\", \"autoScale2d\", \"select2d\", \"zoom2d\", \"pan2d\", \"zoomIn2d\", \"zoomOut2d\", \"resetScale2d\", \"toggleSpikelines\", \"hoverCompareCartesian\", \"hoverClosestCartesian\"], \"responsive\": true}                    ).then(function(){\n",
       "                            \n",
       "var gd = document.getElementById('06718564-d7d4-4049-9ba7-4f8add4754e6');\n",
       "var x = new MutationObserver(function (mutations, observer) {{\n",
       "        var display = window.getComputedStyle(gd).display;\n",
       "        if (!display || display === 'none') {{\n",
       "            console.log([gd, 'removed!']);\n",
       "            Plotly.purge(gd);\n",
       "            observer.disconnect();\n",
       "        }}\n",
       "}});\n",
       "\n",
       "// Listen for the removal of the full notebook cells\n",
       "var notebookContainer = gd.closest('#notebook-container');\n",
       "if (notebookContainer) {{\n",
       "    x.observe(notebookContainer, {childList: true});\n",
       "}}\n",
       "\n",
       "// Listen for the clearing of the current output cell\n",
       "var outputEl = gd.closest('.output');\n",
       "if (outputEl) {{\n",
       "    x.observe(outputEl, {childList: true});\n",
       "}}\n",
       "\n",
       "                        })                };                });            </script>        </div>"
      ]
     },
     "metadata": {},
     "output_type": "display_data"
    }
   ],
   "source": [
    "shap_attributions2[0].plot(shap_attributions2[1::])"
   ]
  },
  {
   "cell_type": "code",
   "execution_count": 43,
   "metadata": {},
   "outputs": [
    {
     "name": "stdout",
     "output_type": "stream",
     "text": [
      "[0.53986425]\n",
      "[0.94669463]\n"
     ]
    }
   ],
   "source": [
    "for i in range(2):\n",
    "    observation = X.iloc[[i]]\n",
    "    print(clfexplainer.predict(observation))"
   ]
  }
 ],
 "metadata": {
  "kernelspec": {
   "display_name": "Python 3 (ipykernel)",
   "language": "python",
   "name": "python3"
  },
  "language_info": {
   "codemirror_mode": {
    "name": "ipython",
    "version": 3
   },
   "file_extension": ".py",
   "mimetype": "text/x-python",
   "name": "python",
   "nbconvert_exporter": "python",
   "pygments_lexer": "ipython3",
   "version": "3.8.8"
  }
 },
 "nbformat": 4,
 "nbformat_minor": 1
}
