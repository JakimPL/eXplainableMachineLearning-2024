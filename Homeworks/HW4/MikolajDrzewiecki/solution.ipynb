{
 "cells": [
  {
   "cell_type": "markdown",
   "id": "ea42c2a4081ccf49",
   "metadata": {
    "collapsed": false
   },
   "source": [
    "# Task A\n",
    "\n",
    "### A.1. Train a tree-based ensemble model on the selected dataset\n",
    "\n",
    "Presented approach will depend on XGBoost model. For training and evaluating I'm using train/test split method with ratio 0.33 on wine_quality dataset. I'm not going to delve into details concerning dataset analysis (I assume, it's been already assessed in the Homework 1). The only change I make in the dataset is renaming column names (from ints \"i\" to \"Feature i\"; apparently columns are deprived of proper description) and converting y values to binary. All remaining values are already floats."
   ]
  },
  {
   "cell_type": "code",
   "execution_count": 224,
   "id": "ee57d95f2c92e0f",
   "metadata": {
    "collapsed": false,
    "ExecuteTime": {
     "end_time": "2023-11-10T03:02:36.094443760Z",
     "start_time": "2023-11-10T03:02:35.932153031Z"
    }
   },
   "outputs": [
    {
     "data": {
      "text/plain": "<Figure size 640x480 with 1 Axes>",
      "image/png": "[encoded data removed]"
     },
     "metadata": {},
     "output_type": "display_data"
    }
   ],
   "source": [
    "show_performance(\"XGBoost performance\", pred)"
   ]
  },
  {
   "cell_type": "markdown",
   "id": "c06c3b184b43bc37",
   "metadata": {
    "collapsed": false
   },
   "source": [
    "These values correspond to ```explainer.model_performance()```. The model performs poorly here because the data is largely imbalanced. in the example paper, authors evaluated their model on the entire dataset (not only test part). This way, enormous number of overrepresented 0's may be predicted, and it would seem that the model is trained much better."
   ]
  },
  {
   "cell_type": "markdown",
   "id": "265471d33713f6f3",
   "metadata": {
    "collapsed": false
   },
   "source": [
    "### A.2. Select two observations from the dataset and calculate the model's prediction.\n",
    "\n",
    "I randomly chose observations 21 and 37 from dataset to perform evaluation. Apart from presenting exact prediction, I'm also displaying detailed coefficients how much the model was prone to choose 0 or 1."
   ]
  },
  {
   "cell_type": "code",
   "execution_count": 225,
   "id": "38ff16d6c9deea23",
   "metadata": {
    "collapsed": false,
    "ExecuteTime": {
     "end_time": "2023-11-10T03:02:36.094971826Z",
     "start_time": "2023-11-10T03:02:36.072774213Z"
    }
   },
   "outputs": [
    {
     "data": {
      "text/plain": "      Feature 0  Feature 1  Feature 2  Feature 3  Feature 4  Feature 5  \\\n4513        6.8       0.40       0.29        2.8      0.044       27.0   \n2379        6.4       0.27       0.19        2.0      0.084       21.0   \n\n      Feature 6  Feature 7  Feature 8  Feature 9  TARGET    pred 0    pred 1  \n4513       97.0    0.99040       3.12       0.42       0  0.999637  0.000363  \n2379      191.0    0.99516       3.49       0.63       1  0.916261  0.083739  ",
      "text/html": "<div>\n<style scoped>\n    .dataframe tbody tr th:only-of-type {\n        vertical-align: middle;\n    }\n\n    .dataframe tbody tr th {\n        vertical-align: top;\n    }\n\n    .dataframe thead th {\n        text-align: right;\n    }\n</style>\n<table border=\"1\" class=\"dataframe\">\n  <thead>\n    <tr style=\"text-align: right;\">\n      <th></th>\n      <th>Feature 0</th>\n      <th>Feature 1</th>\n      <th>Feature 2</th>\n      <th>Feature 3</th>\n      <th>Feature 4</th>\n      <th>Feature 5</th>\n      <th>Feature 6</th>\n      <th>Feature 7</th>\n      <th>Feature 8</th>\n      <th>Feature 9</th>\n      <th>TARGET</th>\n      <th>pred 0</th>\n      <th>pred 1</th>\n    </tr>\n  </thead>\n  <tbody>\n    <tr>\n      <th>4513</th>\n      <td>6.8</td>\n      <td>0.40</td>\n      <td>0.29</td>\n      <td>2.8</td>\n      <td>0.044</td>\n      <td>27.0</td>\n      <td>97.0</td>\n      <td>0.99040</td>\n      <td>3.12</td>\n      <td>0.42</td>\n      <td>0</td>\n      <td>0.999637</td>\n      <td>0.000363</td>\n    </tr>\n    <tr>\n      <th>2379</th>\n      <td>6.4</td>\n      <td>0.27</td>\n      <td>0.19</td>\n      <td>2.0</td>\n      <td>0.084</td>\n      <td>21.0</td>\n      <td>191.0</td>\n      <td>0.99516</td>\n      <td>3.49</td>\n      <td>0.63</td>\n      <td>1</td>\n      <td>0.916261</td>\n      <td>0.083739</td>\n    </tr>\n  </tbody>\n</table>\n</div>"
     },
     "execution_count": 225,
     "metadata": {},
     "output_type": "execute_result"
    }
   ],
   "source": [
    "show_selected_predictions()"
   ]
  },
  {
   "cell_type": "markdown",
   "id": "b4deb568ecaf94b9",
   "metadata": {
    "collapsed": false
   },
   "source": [
    "### A.3. For the same observations, calculate the decomposition of predictions, so-called variable attributions, using SHAP"
   ]
  },
  {
   "cell_type": "code",
   "execution_count": 226,
   "id": "f69fa6d344d07bf5",
   "metadata": {
    "collapsed": false,
    "ExecuteTime": {
     "end_time": "2023-11-10T03:02:39.067523818Z",
     "start_time": "2023-11-10T03:02:36.072981387Z"
    }
   },
   "outputs": [
    {
     "data": {
      "application/vnd.plotly.v1+json": {
       "data": [
        {
         "base": 0.03398749232292175,
         "hoverinfo": "text",
         "hoverlabel": {
          "bgcolor": "rgba(0,0,0,0.8)"
         },
         "hovertext": [
          "Average response: 0.034<br>Prediction: 0.005<br>Feature 7 = 0.9912<br>decreases average response <br>by 0.041",
          "Average response: 0.034<br>Prediction: 0.005<br>Feature 3 = 2.9<br>increases average response <br>by 0.019",
          "Average response: 0.034<br>Prediction: 0.005<br>Feature 9 = 0.35<br>increases average response <br>by 0.008",
          "Average response: 0.034<br>Prediction: 0.005<br>Feature 0 = 6.4<br>decreases average response <br>by 0.007",
          "Average response: 0.034<br>Prediction: 0.005<br>Feature 2 = 0.38<br>decreases average response <br>by 0.006",
          "Average response: 0.034<br>Prediction: 0.005<br>Feature 5 = 19.0<br>increases average response <br>by 0.005",
          "Average response: 0.034<br>Prediction: 0.005<br>Feature 1 = 0.31<br>decreases average response <br>by 0.002",
          "Average response: 0.034<br>Prediction: 0.005<br>Feature 6 = 102.0<br>decreases average response <br>by 0.002",
          "Average response: 0.034<br>Prediction: 0.005<br>Feature 8 = 3.17<br>decreases average response <br>by 0.002",
          "Average response: 0.034<br>Prediction: 0.005<br>Feature 4 = 0.038<br>decreases average response <br>by 0.001"
         ],
         "marker": {
          "color": [
           "#f05a71",
           "#8bdcbe",
           "#8bdcbe",
           "#f05a71",
           "#f05a71",
           "#8bdcbe",
           "#f05a71",
           "#f05a71",
           "#f05a71",
           "#f05a71"
          ]
         },
         "orientation": "h",
         "showlegend": false,
         "text": [
          "-0.041",
          "+0.019",
          "+0.008",
          "-0.007",
          "-0.006",
          "+0.005",
          "-0.002",
          "-0.002",
          "-0.002",
          "-0.001"
         ],
         "textposition": "outside",
         "x": [
          -0.041,
          0.019,
          0.008,
          -0.007,
          -0.006,
          0.005,
          -0.002,
          -0.002,
          -0.002,
          -0.001
         ],
         "y": [
          "Feature 7 = 0.9912",
          "Feature 3 = 2.9",
          "Feature 9 = 0.35",
          "Feature 0 = 6.4",
          "Feature 2 = 0.38",
          "Feature 5 = 19.0",
          "Feature 1 = 0.31",
          "Feature 6 = 102.0",
          "Feature 8 = 3.17",
          "Feature 4 = 0.038"
         ],
         "type": "bar",
         "xaxis": "x",
         "yaxis": "y"
        },
        {
         "base": 0.03398749232292175,
         "hoverinfo": "text",
         "hoverlabel": {
          "bgcolor": "rgba(0,0,0,0.8)"
         },
         "hovertext": [
          "Average response: 0.034<br>Prediction: 0.0<br>Feature 3 = 1.2<br>increases average response <br>by 0.036",
          "Average response: 0.034<br>Prediction: 0.0<br>Feature 7 = 0.9906<br>decreases average response <br>by 0.034",
          "Average response: 0.034<br>Prediction: 0.0<br>Feature 5 = 38.0<br>decreases average response <br>by 0.014",
          "Average response: 0.034<br>Prediction: 0.0<br>Feature 6 = 138.0<br>decreases average response <br>by 0.01",
          "Average response: 0.034<br>Prediction: 0.0<br>Feature 9 = 0.28<br>increases average response <br>by 0.009",
          "Average response: 0.034<br>Prediction: 0.0<br>Feature 2 = 0.32<br>decreases average response <br>by 0.009",
          "Average response: 0.034<br>Prediction: 0.0<br>Feature 4 = 0.053<br>decreases average response <br>by 0.004",
          "Average response: 0.034<br>Prediction: 0.0<br>Feature 1 = 0.33<br>decreases average response <br>by 0.003",
          "Average response: 0.034<br>Prediction: 0.0<br>Feature 8 = 3.13<br>decreases average response <br>by 0.003",
          "Average response: 0.034<br>Prediction: 0.0<br>Feature 0 = 7.0<br>decreases average response <br>by 0.002"
         ],
         "marker": {
          "color": [
           "#8bdcbe",
           "#f05a71",
           "#f05a71",
           "#f05a71",
           "#8bdcbe",
           "#f05a71",
           "#f05a71",
           "#f05a71",
           "#f05a71",
           "#f05a71"
          ]
         },
         "orientation": "h",
         "showlegend": false,
         "text": [
          "+0.036",
          "-0.034",
          "-0.014",
          "-0.01",
          "+0.009",
          "-0.009",
          "-0.004",
          "-0.003",
          "-0.003",
          "-0.002"
         ],
         "textposition": "outside",
         "x": [
          0.036,
          -0.034,
          -0.014,
          -0.01,
          0.009,
          -0.009,
          -0.004,
          -0.003,
          -0.003,
          -0.002
         ],
         "y": [
          "Feature 3 = 1.2",
          "Feature 7 = 0.9906",
          "Feature 5 = 38.0",
          "Feature 6 = 138.0",
          "Feature 9 = 0.28",
          "Feature 2 = 0.32",
          "Feature 4 = 0.053",
          "Feature 1 = 0.33",
          "Feature 8 = 3.13",
          "Feature 0 = 7.0"
         ],
         "type": "bar",
         "xaxis": "x2",
         "yaxis": "y2"
        }
       ],
       "layout": {
        "template": {
         "data": {
          "scatter": [
           {
            "type": "scatter"
           }
          ]
         }
        },
        "xaxis": {
         "anchor": "y",
         "domain": [
          0.0,
          1.0
         ],
         "matches": "x2",
         "showticklabels": false,
         "type": "linear",
         "gridwidth": 2,
         "zeroline": false,
         "automargin": true,
         "ticks": "outside",
         "tickcolor": "white",
         "ticklen": 3,
         "fixedrange": true,
         "range": [
          -0.01601250767707825,
          0.08048749232292175
         ]
        },
        "yaxis": {
         "anchor": "x",
         "domain": [
          0.55,
          1.0
         ],
         "type": "category",
         "autorange": "reversed",
         "gridwidth": 2,
         "automargin": true,
         "ticks": "outside",
         "tickcolor": "white",
         "ticklen": 10,
         "fixedrange": true
        },
        "xaxis2": {
         "anchor": "y2",
         "domain": [
          0.0,
          1.0
         ],
         "type": "linear",
         "gridwidth": 2,
         "zeroline": false,
         "automargin": true,
         "ticks": "outside",
         "tickcolor": "white",
         "ticklen": 3,
         "fixedrange": true,
         "range": [
          -0.01601250767707825,
          0.08048749232292175
         ]
        },
        "yaxis2": {
         "anchor": "x2",
         "domain": [
          0.0,
          0.45
         ],
         "type": "category",
         "autorange": "reversed",
         "gridwidth": 2,
         "automargin": true,
         "ticks": "outside",
         "tickcolor": "white",
         "ticklen": 10,
         "fixedrange": true
        },
        "annotations": [
         {
          "font": {
           "size": 16
          },
          "showarrow": false,
          "text": "observation 21",
          "x": 0.5,
          "xanchor": "center",
          "xref": "paper",
          "y": 1.0,
          "yanchor": "bottom",
          "yref": "paper"
         },
         {
          "font": {
           "size": 16
          },
          "showarrow": false,
          "text": "observation 37",
          "x": 0.5,
          "xanchor": "center",
          "xref": "paper",
          "y": 0.45,
          "yanchor": "bottom",
          "yref": "paper"
         },
         {
          "font": {
           "size": 16
          },
          "showarrow": false,
          "text": "contribution",
          "x": 0.5,
          "xanchor": "center",
          "xref": "paper",
          "y": 0,
          "yanchor": "top",
          "yref": "paper",
          "yshift": -30
         }
        ],
        "shapes": [
         {
          "line": {
           "color": "#371ea3",
           "dash": "dot",
           "width": 1.5
          },
          "type": "line",
          "x0": 0.03398749232292175,
          "x1": 0.03398749232292175,
          "xref": "x",
          "y0": -1,
          "y1": 10,
          "yref": "y"
         },
         {
          "line": {
           "color": "#371ea3",
           "dash": "dot",
           "width": 1.5
          },
          "type": "line",
          "x0": 0.03398749232292175,
          "x1": 0.03398749232292175,
          "xref": "x2",
          "y0": -1,
          "y1": 10,
          "yref": "y2"
         }
        ],
        "title": {
         "text": "Shapley Values",
         "x": 0.15
        },
        "font": {
         "color": "#371ea3"
        },
        "margin": {
         "t": 78,
         "b": 71,
         "r": 30
        },
        "height": 627.0
       },
       "config": {
        "displaylogo": false,
        "staticPlot": false,
        "toImageButtonOptions": {
         "height": null,
         "width": null
        },
        "modeBarButtonsToRemove": [
         "sendDataToCloud",
         "lasso2d",
         "autoScale2d",
         "select2d",
         "zoom2d",
         "pan2d",
         "zoomIn2d",
         "zoomOut2d",
         "resetScale2d",
         "toggleSpikelines",
         "hoverCompareCartesian",
         "hoverClosestCartesian"
        ],
        "plotlyServerURL": "https://plot.ly"
       }
      },
      "text/html": "<div>                            <div id=\"283751b6-a439-443c-8192-27d09dd0e05b\" class=\"plotly-graph-div\" style=\"height:627.0px; width:100%;\"></div>            <script type=\"text/javascript\">                require([\"plotly\"], function(Plotly) {                    window.PLOTLYENV=window.PLOTLYENV || {};                                    if (document.getElementById(\"283751b6-a439-443c-8192-27d09dd0e05b\")) {                    Plotly.newPlot(                        \"283751b6-a439-443c-8192-27d09dd0e05b\",                        [{\"base\":0.03398749232292175,\"hoverinfo\":\"text\",\"hoverlabel\":{\"bgcolor\":\"rgba(0,0,0,0.8)\"},\"hovertext\":[\"Average response: 0.034\\u003cbr\\u003ePrediction: 0.005\\u003cbr\\u003eFeature 7 = 0.9912\\u003cbr\\u003edecreases average response \\u003cbr\\u003eby 0.041\",\"Average response: 0.034\\u003cbr\\u003ePrediction: 0.005\\u003cbr\\u003eFeature 3 = 2.9\\u003cbr\\u003eincreases average response \\u003cbr\\u003eby 0.019\",\"Average response: 0.034\\u003cbr\\u003ePrediction: 0.005\\u003cbr\\u003eFeature 9 = 0.35\\u003cbr\\u003eincreases average response \\u003cbr\\u003eby 0.008\",\"Average response: 0.034\\u003cbr\\u003ePrediction: 0.005\\u003cbr\\u003eFeature 0 = 6.4\\u003cbr\\u003edecreases average response \\u003cbr\\u003eby 0.007\",\"Average response: 0.034\\u003cbr\\u003ePrediction: 0.005\\u003cbr\\u003eFeature 2 = 0.38\\u003cbr\\u003edecreases average response \\u003cbr\\u003eby 0.006\",\"Average response: 0.034\\u003cbr\\u003ePrediction: 0.005\\u003cbr\\u003eFeature 5 = 19.0\\u003cbr\\u003eincreases average response \\u003cbr\\u003eby 0.005\",\"Average response: 0.034\\u003cbr\\u003ePrediction: 0.005\\u003cbr\\u003eFeature 1 = 0.31\\u003cbr\\u003edecreases average response \\u003cbr\\u003eby 0.002\",\"Average response: 0.034\\u003cbr\\u003ePrediction: 0.005\\u003cbr\\u003eFeature 6 = 102.0\\u003cbr\\u003edecreases average response \\u003cbr\\u003eby 0.002\",\"Average response: 0.034\\u003cbr\\u003ePrediction: 0.005\\u003cbr\\u003eFeature 8 = 3.17\\u003cbr\\u003edecreases average response \\u003cbr\\u003eby 0.002\",\"Average response: 0.034\\u003cbr\\u003ePrediction: 0.005\\u003cbr\\u003eFeature 4 = 0.038\\u003cbr\\u003edecreases average response \\u003cbr\\u003eby 0.001\"],\"marker\":{\"color\":[\"#f05a71\",\"#8bdcbe\",\"#8bdcbe\",\"#f05a71\",\"#f05a71\",\"#8bdcbe\",\"#f05a71\",\"#f05a71\",\"#f05a71\",\"#f05a71\"]},\"orientation\":\"h\",\"showlegend\":false,\"text\":[\"-0.041\",\"+0.019\",\"+0.008\",\"-0.007\",\"-0.006\",\"+0.005\",\"-0.002\",\"-0.002\",\"-0.002\",\"-0.001\"],\"textposition\":\"outside\",\"x\":[-0.041,0.019,0.008,-0.007,-0.006,0.005,-0.002,-0.002,-0.002,-0.001],\"y\":[\"Feature 7 = 0.9912\",\"Feature 3 = 2.9\",\"Feature 9 = 0.35\",\"Feature 0 = 6.4\",\"Feature 2 = 0.38\",\"Feature 5 = 19.0\",\"Feature 1 = 0.31\",\"Feature 6 = 102.0\",\"Feature 8 = 3.17\",\"Feature 4 = 0.038\"],\"type\":\"bar\",\"xaxis\":\"x\",\"yaxis\":\"y\"},{\"base\":0.03398749232292175,\"hoverinfo\":\"text\",\"hoverlabel\":{\"bgcolor\":\"rgba(0,0,0,0.8)\"},\"hovertext\":[\"Average response: 0.034\\u003cbr\\u003ePrediction: 0.0\\u003cbr\\u003eFeature 3 = 1.2\\u003cbr\\u003eincreases average response \\u003cbr\\u003eby 0.036\",\"Average response: 0.034\\u003cbr\\u003ePrediction: 0.0\\u003cbr\\u003eFeature 7 = 0.9906\\u003cbr\\u003edecreases average response \\u003cbr\\u003eby 0.034\",\"Average response: 0.034\\u003cbr\\u003ePrediction: 0.0\\u003cbr\\u003eFeature 5 = 38.0\\u003cbr\\u003edecreases average response \\u003cbr\\u003eby 0.014\",\"Average response: 0.034\\u003cbr\\u003ePrediction: 0.0\\u003cbr\\u003eFeature 6 = 138.0\\u003cbr\\u003edecreases average response \\u003cbr\\u003eby 0.01\",\"Average response: 0.034\\u003cbr\\u003ePrediction: 0.0\\u003cbr\\u003eFeature 9 = 0.28\\u003cbr\\u003eincreases average response \\u003cbr\\u003eby 0.009\",\"Average response: 0.034\\u003cbr\\u003ePrediction: 0.0\\u003cbr\\u003eFeature 2 = 0.32\\u003cbr\\u003edecreases average response \\u003cbr\\u003eby 0.009\",\"Average response: 0.034\\u003cbr\\u003ePrediction: 0.0\\u003cbr\\u003eFeature 4 = 0.053\\u003cbr\\u003edecreases average response \\u003cbr\\u003eby 0.004\",\"Average response: 0.034\\u003cbr\\u003ePrediction: 0.0\\u003cbr\\u003eFeature 1 = 0.33\\u003cbr\\u003edecreases average response \\u003cbr\\u003eby 0.003\",\"Average response: 0.034\\u003cbr\\u003ePrediction: 0.0\\u003cbr\\u003eFeature 8 = 3.13\\u003cbr\\u003edecreases average response \\u003cbr\\u003eby 0.003\",\"Average response: 0.034\\u003cbr\\u003ePrediction: 0.0\\u003cbr\\u003eFeature 0 = 7.0\\u003cbr\\u003edecreases average response \\u003cbr\\u003eby 0.002\"],\"marker\":{\"color\":[\"#8bdcbe\",\"#f05a71\",\"#f05a71\",\"#f05a71\",\"#8bdcbe\",\"#f05a71\",\"#f05a71\",\"#f05a71\",\"#f05a71\",\"#f05a71\"]},\"orientation\":\"h\",\"showlegend\":false,\"text\":[\"+0.036\",\"-0.034\",\"-0.014\",\"-0.01\",\"+0.009\",\"-0.009\",\"-0.004\",\"-0.003\",\"-0.003\",\"-0.002\"],\"textposition\":\"outside\",\"x\":[0.036,-0.034,-0.014,-0.01,0.009,-0.009,-0.004,-0.003,-0.003,-0.002],\"y\":[\"Feature 3 = 1.2\",\"Feature 7 = 0.9906\",\"Feature 5 = 38.0\",\"Feature 6 = 138.0\",\"Feature 9 = 0.28\",\"Feature 2 = 0.32\",\"Feature 4 = 0.053\",\"Feature 1 = 0.33\",\"Feature 8 = 3.13\",\"Feature 0 = 7.0\"],\"type\":\"bar\",\"xaxis\":\"x2\",\"yaxis\":\"y2\"}],                        {\"template\":{\"data\":{\"scatter\":[{\"type\":\"scatter\"}]}},\"xaxis\":{\"anchor\":\"y\",\"domain\":[0.0,1.0],\"matches\":\"x2\",\"showticklabels\":false,\"type\":\"linear\",\"gridwidth\":2,\"zeroline\":false,\"automargin\":true,\"ticks\":\"outside\",\"tickcolor\":\"white\",\"ticklen\":3,\"fixedrange\":true,\"range\":[-0.01601250767707825,0.08048749232292175]},\"yaxis\":{\"anchor\":\"x\",\"domain\":[0.55,1.0],\"type\":\"category\",\"autorange\":\"reversed\",\"gridwidth\":2,\"automargin\":true,\"ticks\":\"outside\",\"tickcolor\":\"white\",\"ticklen\":10,\"fixedrange\":true},\"xaxis2\":{\"anchor\":\"y2\",\"domain\":[0.0,1.0],\"type\":\"linear\",\"gridwidth\":2,\"zeroline\":false,\"automargin\":true,\"ticks\":\"outside\",\"tickcolor\":\"white\",\"ticklen\":3,\"fixedrange\":true,\"range\":[-0.01601250767707825,0.08048749232292175]},\"yaxis2\":{\"anchor\":\"x2\",\"domain\":[0.0,0.45],\"type\":\"category\",\"autorange\":\"reversed\",\"gridwidth\":2,\"automargin\":true,\"ticks\":\"outside\",\"tickcolor\":\"white\",\"ticklen\":10,\"fixedrange\":true},\"annotations\":[{\"font\":{\"size\":16},\"showarrow\":false,\"text\":\"observation 21\",\"x\":0.5,\"xanchor\":\"center\",\"xref\":\"paper\",\"y\":1.0,\"yanchor\":\"bottom\",\"yref\":\"paper\"},{\"font\":{\"size\":16},\"showarrow\":false,\"text\":\"observation 37\",\"x\":0.5,\"xanchor\":\"center\",\"xref\":\"paper\",\"y\":0.45,\"yanchor\":\"bottom\",\"yref\":\"paper\"},{\"font\":{\"size\":16},\"showarrow\":false,\"text\":\"contribution\",\"x\":0.5,\"xanchor\":\"center\",\"xref\":\"paper\",\"y\":0,\"yanchor\":\"top\",\"yref\":\"paper\",\"yshift\":-30}],\"shapes\":[{\"line\":{\"color\":\"#371ea3\",\"dash\":\"dot\",\"width\":1.5},\"type\":\"line\",\"x0\":0.03398749232292175,\"x1\":0.03398749232292175,\"xref\":\"x\",\"y0\":-1,\"y1\":10,\"yref\":\"y\"},{\"line\":{\"color\":\"#371ea3\",\"dash\":\"dot\",\"width\":1.5},\"type\":\"line\",\"x0\":0.03398749232292175,\"x1\":0.03398749232292175,\"xref\":\"x2\",\"y0\":-1,\"y1\":10,\"yref\":\"y2\"}],\"title\":{\"text\":\"Shapley Values\",\"x\":0.15},\"font\":{\"color\":\"#371ea3\"},\"margin\":{\"t\":78,\"b\":71,\"r\":30},\"height\":627.0},                        {\"displaylogo\": false, \"staticPlot\": false, \"toImageButtonOptions\": {\"height\": null, \"width\": null}, \"modeBarButtonsToRemove\": [\"sendDataToCloud\", \"lasso2d\", \"autoScale2d\", \"select2d\", \"zoom2d\", \"pan2d\", \"zoomIn2d\", \"zoomOut2d\", \"resetScale2d\", \"toggleSpikelines\", \"hoverCompareCartesian\", \"hoverClosestCartesian\"], \"responsive\": true}                    ).then(function(){\n                            \nvar gd = document.getElementById('283751b6-a439-443c-8192-27d09dd0e05b');\nvar x = new MutationObserver(function (mutations, observer) {{\n        var display = window.getComputedStyle(gd).display;\n        if (!display || display === 'none') {{\n            console.log([gd, 'removed!']);\n            Plotly.purge(gd);\n            observer.disconnect();\n        }}\n}});\n\n// Listen for the removal of the full notebook cells\nvar notebookContainer = gd.closest('#notebook-container');\nif (notebookContainer) {{\n    x.observe(notebookContainer, {childList: true});\n}}\n\n// Listen for the clearing of the current output cell\nvar outputEl = gd.closest('.output');\nif (outputEl) {{\n    x.observe(outputEl, {childList: true});\n}}\n\n                        })                };                });            </script>        </div>"
     },
     "metadata": {},
     "output_type": "display_data"
    }
   ],
   "source": [
    "plot_dalex_attributions_for_observations((21,37))"
   ]
  },
  {
   "cell_type": "code",
   "execution_count": 227,
   "outputs": [
    {
     "data": {
      "text/plain": "<Figure size 800x650 with 3 Axes>",
      "image/png": "[encoded data removed]"
     },
     "metadata": {},
     "output_type": "display_data"
    },
    {
     "data": {
      "text/plain": "<Figure size 800x650 with 3 Axes>",
      "image/png": "[encoded data removed]"
     },
     "metadata": {},
     "output_type": "display_data"
    }
   ],
   "source": [
    "plot_shap_attributions_for_observations((21,37))"
   ],
   "metadata": {
    "collapsed": false,
    "ExecuteTime": {
     "end_time": "2023-11-10T03:02:39.582102273Z",
     "start_time": "2023-11-10T03:02:39.064711953Z"
    }
   },
   "id": "7c41f5896e226899"
  },
  {
   "cell_type": "markdown",
   "source": [
    "### A.4. Find any two observations in the dataset, such that they have different variables of the highest importance\n",
    "\n",
    "It turns out that observations 21 and 1410 meet that criteria. In the first observation the most important features are 7 and 3, while in the latter observation - 5 and 1."
   ],
   "metadata": {
    "collapsed": false
   },
   "id": "6aea03830f4f18e6"
  },
  {
   "cell_type": "code",
   "execution_count": 228,
   "outputs": [
    {
     "data": {
      "application/vnd.plotly.v1+json": {
       "data": [
        {
         "base": 0.03398749232292175,
         "hoverinfo": "text",
         "hoverlabel": {
          "bgcolor": "rgba(0,0,0,0.8)"
         },
         "hovertext": [
          "Average response: 0.034<br>Prediction: 0.005<br>Feature 7 = 0.9912<br>decreases average response <br>by 0.048",
          "Average response: 0.034<br>Prediction: 0.005<br>Feature 3 = 2.9<br>increases average response <br>by 0.027",
          "Average response: 0.034<br>Prediction: 0.005<br>Feature 2 = 0.38<br>decreases average response <br>by 0.011",
          "Average response: 0.034<br>Prediction: 0.005<br>Feature 9 = 0.35<br>increases average response <br>by 0.01",
          "Average response: 0.034<br>Prediction: 0.005<br>Feature 0 = 6.4<br>decreases average response <br>by 0.009",
          "Average response: 0.034<br>Prediction: 0.005<br>Feature 5 = 19.0<br>increases average response <br>by 0.008",
          "Average response: 0.034<br>Prediction: 0.005<br>Feature 8 = 3.17<br>decreases average response <br>by 0.002",
          "Average response: 0.034<br>Prediction: 0.005<br>Feature 4 = 0.038<br>decreases average response <br>by 0.002",
          "Average response: 0.034<br>Prediction: 0.005<br>Feature 6 = 102.0<br>decreases average response <br>by 0.001",
          "Average response: 0.034<br>Prediction: 0.005<br>Feature 1 = 0.31<br>decreases average response <br>by 0.001"
         ],
         "marker": {
          "color": [
           "#f05a71",
           "#8bdcbe",
           "#f05a71",
           "#8bdcbe",
           "#f05a71",
           "#8bdcbe",
           "#f05a71",
           "#f05a71",
           "#f05a71",
           "#f05a71"
          ]
         },
         "orientation": "h",
         "showlegend": false,
         "text": [
          "-0.048",
          "+0.027",
          "-0.011",
          "+0.01",
          "-0.009",
          "+0.008",
          "-0.002",
          "-0.002",
          "-0.001",
          "-0.001"
         ],
         "textposition": "outside",
         "x": [
          -0.048,
          0.027,
          -0.011,
          0.01,
          -0.009,
          0.008,
          -0.002,
          -0.002,
          -0.001,
          -0.001
         ],
         "y": [
          "Feature 7 = 0.9912",
          "Feature 3 = 2.9",
          "Feature 2 = 0.38",
          "Feature 9 = 0.35",
          "Feature 0 = 6.4",
          "Feature 5 = 19.0",
          "Feature 8 = 3.17",
          "Feature 4 = 0.038",
          "Feature 6 = 102.0",
          "Feature 1 = 0.31"
         ],
         "type": "bar",
         "xaxis": "x",
         "yaxis": "y"
        },
        {
         "base": 0.03398749232292175,
         "hoverinfo": "text",
         "hoverlabel": {
          "bgcolor": "rgba(0,0,0,0.8)"
         },
         "hovertext": [
          "Average response: 0.034<br>Prediction: 0.0<br>Feature 5 = 39.0<br>decreases average response <br>by 0.013",
          "Average response: 0.034<br>Prediction: 0.0<br>Feature 1 = 0.26<br>decreases average response <br>by 0.006",
          "Average response: 0.034<br>Prediction: 0.0<br>Feature 7 = 0.9934<br>decreases average response <br>by 0.005",
          "Average response: 0.034<br>Prediction: 0.0<br>Feature 2 = 0.32<br>decreases average response <br>by 0.004",
          "Average response: 0.034<br>Prediction: 0.0<br>Feature 6 = 97.0<br>decreases average response <br>by 0.004",
          "Average response: 0.034<br>Prediction: 0.0<br>Feature 8 = 3.31<br>increases average response <br>by 0.003",
          "Average response: 0.034<br>Prediction: 0.0<br>Feature 3 = 5.9<br>decreases average response <br>by 0.002",
          "Average response: 0.034<br>Prediction: 0.0<br>Feature 4 = 0.037<br>decreases average response <br>by 0.002",
          "Average response: 0.034<br>Prediction: 0.0<br>Feature 9 = 0.4<br>decreases average response <br>by 0.001",
          "Average response: 0.034<br>Prediction: 0.0<br>Feature 0 = 7.1<br>decreases average response <br>by 0.0"
         ],
         "marker": {
          "color": [
           "#f05a71",
           "#f05a71",
           "#f05a71",
           "#f05a71",
           "#f05a71",
           "#8bdcbe",
           "#f05a71",
           "#f05a71",
           "#f05a71",
           "#8bdcbe"
          ]
         },
         "orientation": "h",
         "showlegend": false,
         "text": [
          "-0.013",
          "-0.006",
          "-0.005",
          "-0.004",
          "-0.004",
          "+0.003",
          "-0.002",
          "-0.002",
          "-0.001",
          "0.0"
         ],
         "textposition": "outside",
         "x": [
          -0.013,
          -0.006,
          -0.005,
          -0.004,
          -0.004,
          0.003,
          -0.002,
          -0.002,
          -0.001,
          0.0
         ],
         "y": [
          "Feature 5 = 39.0",
          "Feature 1 = 0.26",
          "Feature 7 = 0.9934",
          "Feature 2 = 0.32",
          "Feature 6 = 97.0",
          "Feature 8 = 3.31",
          "Feature 3 = 5.9",
          "Feature 4 = 0.037",
          "Feature 9 = 0.4",
          "Feature 0 = 7.1"
         ],
         "type": "bar",
         "xaxis": "x2",
         "yaxis": "y2"
        }
       ],
       "layout": {
        "template": {
         "data": {
          "scatter": [
           {
            "type": "scatter"
           }
          ]
         }
        },
        "xaxis": {
         "anchor": "y",
         "domain": [
          0.0,
          1.0
         ],
         "matches": "x2",
         "showticklabels": false,
         "type": "linear",
         "gridwidth": 2,
         "zeroline": false,
         "automargin": true,
         "ticks": "outside",
         "tickcolor": "white",
         "ticklen": 3,
         "fixedrange": true,
         "range": [
          -0.025262507677078248,
          0.07223749232292175
         ]
        },
        "yaxis": {
         "anchor": "x",
         "domain": [
          0.55,
          1.0
         ],
         "type": "category",
         "autorange": "reversed",
         "gridwidth": 2,
         "automargin": true,
         "ticks": "outside",
         "tickcolor": "white",
         "ticklen": 10,
         "fixedrange": true
        },
        "xaxis2": {
         "anchor": "y2",
         "domain": [
          0.0,
          1.0
         ],
         "type": "linear",
         "gridwidth": 2,
         "zeroline": false,
         "automargin": true,
         "ticks": "outside",
         "tickcolor": "white",
         "ticklen": 3,
         "fixedrange": true,
         "range": [
          -0.025262507677078248,
          0.07223749232292175
         ]
        },
        "yaxis2": {
         "anchor": "x2",
         "domain": [
          0.0,
          0.45
         ],
         "type": "category",
         "autorange": "reversed",
         "gridwidth": 2,
         "automargin": true,
         "ticks": "outside",
         "tickcolor": "white",
         "ticklen": 10,
         "fixedrange": true
        },
        "annotations": [
         {
          "font": {
           "size": 16
          },
          "showarrow": false,
          "text": "observation 21",
          "x": 0.5,
          "xanchor": "center",
          "xref": "paper",
          "y": 1.0,
          "yanchor": "bottom",
          "yref": "paper"
         },
         {
          "font": {
           "size": 16
          },
          "showarrow": false,
          "text": "observation 1410",
          "x": 0.5,
          "xanchor": "center",
          "xref": "paper",
          "y": 0.45,
          "yanchor": "bottom",
          "yref": "paper"
         },
         {
          "font": {
           "size": 16
          },
          "showarrow": false,
          "text": "contribution",
          "x": 0.5,
          "xanchor": "center",
          "xref": "paper",
          "y": 0,
          "yanchor": "top",
          "yref": "paper",
          "yshift": -30
         }
        ],
        "shapes": [
         {
          "line": {
           "color": "#371ea3",
           "dash": "dot",
           "width": 1.5
          },
          "type": "line",
          "x0": 0.03398749232292175,
          "x1": 0.03398749232292175,
          "xref": "x",
          "y0": -1,
          "y1": 10,
          "yref": "y"
         },
         {
          "line": {
           "color": "#371ea3",
           "dash": "dot",
           "width": 1.5
          },
          "type": "line",
          "x0": 0.03398749232292175,
          "x1": 0.03398749232292175,
          "xref": "x2",
          "y0": -1,
          "y1": 10,
          "yref": "y2"
         }
        ],
        "title": {
         "text": "Shapley Values",
         "x": 0.15
        },
        "font": {
         "color": "#371ea3"
        },
        "margin": {
         "t": 78,
         "b": 71,
         "r": 30
        },
        "height": 627.0
       },
       "config": {
        "displaylogo": false,
        "staticPlot": false,
        "toImageButtonOptions": {
         "height": null,
         "width": null
        },
        "modeBarButtonsToRemove": [
         "sendDataToCloud",
         "lasso2d",
         "autoScale2d",
         "select2d",
         "zoom2d",
         "pan2d",
         "zoomIn2d",
         "zoomOut2d",
         "resetScale2d",
         "toggleSpikelines",
         "hoverCompareCartesian",
         "hoverClosestCartesian"
        ],
        "plotlyServerURL": "https://plot.ly"
       }
      },
      "text/html": "<div>                            <div id=\"e89544f2-f38e-40ba-a264-bd334e74b182\" class=\"plotly-graph-div\" style=\"height:627.0px; width:100%;\"></div>            <script type=\"text/javascript\">                require([\"plotly\"], function(Plotly) {                    window.PLOTLYENV=window.PLOTLYENV || {};                                    if (document.getElementById(\"e89544f2-f38e-40ba-a264-bd334e74b182\")) {                    Plotly.newPlot(                        \"e89544f2-f38e-40ba-a264-bd334e74b182\",                        [{\"base\":0.03398749232292175,\"hoverinfo\":\"text\",\"hoverlabel\":{\"bgcolor\":\"rgba(0,0,0,0.8)\"},\"hovertext\":[\"Average response: 0.034\\u003cbr\\u003ePrediction: 0.005\\u003cbr\\u003eFeature 7 = 0.9912\\u003cbr\\u003edecreases average response \\u003cbr\\u003eby 0.048\",\"Average response: 0.034\\u003cbr\\u003ePrediction: 0.005\\u003cbr\\u003eFeature 3 = 2.9\\u003cbr\\u003eincreases average response \\u003cbr\\u003eby 0.027\",\"Average response: 0.034\\u003cbr\\u003ePrediction: 0.005\\u003cbr\\u003eFeature 2 = 0.38\\u003cbr\\u003edecreases average response \\u003cbr\\u003eby 0.011\",\"Average response: 0.034\\u003cbr\\u003ePrediction: 0.005\\u003cbr\\u003eFeature 9 = 0.35\\u003cbr\\u003eincreases average response \\u003cbr\\u003eby 0.01\",\"Average response: 0.034\\u003cbr\\u003ePrediction: 0.005\\u003cbr\\u003eFeature 0 = 6.4\\u003cbr\\u003edecreases average response \\u003cbr\\u003eby 0.009\",\"Average response: 0.034\\u003cbr\\u003ePrediction: 0.005\\u003cbr\\u003eFeature 5 = 19.0\\u003cbr\\u003eincreases average response \\u003cbr\\u003eby 0.008\",\"Average response: 0.034\\u003cbr\\u003ePrediction: 0.005\\u003cbr\\u003eFeature 8 = 3.17\\u003cbr\\u003edecreases average response \\u003cbr\\u003eby 0.002\",\"Average response: 0.034\\u003cbr\\u003ePrediction: 0.005\\u003cbr\\u003eFeature 4 = 0.038\\u003cbr\\u003edecreases average response \\u003cbr\\u003eby 0.002\",\"Average response: 0.034\\u003cbr\\u003ePrediction: 0.005\\u003cbr\\u003eFeature 6 = 102.0\\u003cbr\\u003edecreases average response \\u003cbr\\u003eby 0.001\",\"Average response: 0.034\\u003cbr\\u003ePrediction: 0.005\\u003cbr\\u003eFeature 1 = 0.31\\u003cbr\\u003edecreases average response \\u003cbr\\u003eby 0.001\"],\"marker\":{\"color\":[\"#f05a71\",\"#8bdcbe\",\"#f05a71\",\"#8bdcbe\",\"#f05a71\",\"#8bdcbe\",\"#f05a71\",\"#f05a71\",\"#f05a71\",\"#f05a71\"]},\"orientation\":\"h\",\"showlegend\":false,\"text\":[\"-0.048\",\"+0.027\",\"-0.011\",\"+0.01\",\"-0.009\",\"+0.008\",\"-0.002\",\"-0.002\",\"-0.001\",\"-0.001\"],\"textposition\":\"outside\",\"x\":[-0.048,0.027,-0.011,0.01,-0.009,0.008,-0.002,-0.002,-0.001,-0.001],\"y\":[\"Feature 7 = 0.9912\",\"Feature 3 = 2.9\",\"Feature 2 = 0.38\",\"Feature 9 = 0.35\",\"Feature 0 = 6.4\",\"Feature 5 = 19.0\",\"Feature 8 = 3.17\",\"Feature 4 = 0.038\",\"Feature 6 = 102.0\",\"Feature 1 = 0.31\"],\"type\":\"bar\",\"xaxis\":\"x\",\"yaxis\":\"y\"},{\"base\":0.03398749232292175,\"hoverinfo\":\"text\",\"hoverlabel\":{\"bgcolor\":\"rgba(0,0,0,0.8)\"},\"hovertext\":[\"Average response: 0.034\\u003cbr\\u003ePrediction: 0.0\\u003cbr\\u003eFeature 5 = 39.0\\u003cbr\\u003edecreases average response \\u003cbr\\u003eby 0.013\",\"Average response: 0.034\\u003cbr\\u003ePrediction: 0.0\\u003cbr\\u003eFeature 1 = 0.26\\u003cbr\\u003edecreases average response \\u003cbr\\u003eby 0.006\",\"Average response: 0.034\\u003cbr\\u003ePrediction: 0.0\\u003cbr\\u003eFeature 7 = 0.9934\\u003cbr\\u003edecreases average response \\u003cbr\\u003eby 0.005\",\"Average response: 0.034\\u003cbr\\u003ePrediction: 0.0\\u003cbr\\u003eFeature 2 = 0.32\\u003cbr\\u003edecreases average response \\u003cbr\\u003eby 0.004\",\"Average response: 0.034\\u003cbr\\u003ePrediction: 0.0\\u003cbr\\u003eFeature 6 = 97.0\\u003cbr\\u003edecreases average response \\u003cbr\\u003eby 0.004\",\"Average response: 0.034\\u003cbr\\u003ePrediction: 0.0\\u003cbr\\u003eFeature 8 = 3.31\\u003cbr\\u003eincreases average response \\u003cbr\\u003eby 0.003\",\"Average response: 0.034\\u003cbr\\u003ePrediction: 0.0\\u003cbr\\u003eFeature 3 = 5.9\\u003cbr\\u003edecreases average response \\u003cbr\\u003eby 0.002\",\"Average response: 0.034\\u003cbr\\u003ePrediction: 0.0\\u003cbr\\u003eFeature 4 = 0.037\\u003cbr\\u003edecreases average response \\u003cbr\\u003eby 0.002\",\"Average response: 0.034\\u003cbr\\u003ePrediction: 0.0\\u003cbr\\u003eFeature 9 = 0.4\\u003cbr\\u003edecreases average response \\u003cbr\\u003eby 0.001\",\"Average response: 0.034\\u003cbr\\u003ePrediction: 0.0\\u003cbr\\u003eFeature 0 = 7.1\\u003cbr\\u003edecreases average response \\u003cbr\\u003eby 0.0\"],\"marker\":{\"color\":[\"#f05a71\",\"#f05a71\",\"#f05a71\",\"#f05a71\",\"#f05a71\",\"#8bdcbe\",\"#f05a71\",\"#f05a71\",\"#f05a71\",\"#8bdcbe\"]},\"orientation\":\"h\",\"showlegend\":false,\"text\":[\"-0.013\",\"-0.006\",\"-0.005\",\"-0.004\",\"-0.004\",\"+0.003\",\"-0.002\",\"-0.002\",\"-0.001\",\"0.0\"],\"textposition\":\"outside\",\"x\":[-0.013,-0.006,-0.005,-0.004,-0.004,0.003,-0.002,-0.002,-0.001,0.0],\"y\":[\"Feature 5 = 39.0\",\"Feature 1 = 0.26\",\"Feature 7 = 0.9934\",\"Feature 2 = 0.32\",\"Feature 6 = 97.0\",\"Feature 8 = 3.31\",\"Feature 3 = 5.9\",\"Feature 4 = 0.037\",\"Feature 9 = 0.4\",\"Feature 0 = 7.1\"],\"type\":\"bar\",\"xaxis\":\"x2\",\"yaxis\":\"y2\"}],                        {\"template\":{\"data\":{\"scatter\":[{\"type\":\"scatter\"}]}},\"xaxis\":{\"anchor\":\"y\",\"domain\":[0.0,1.0],\"matches\":\"x2\",\"showticklabels\":false,\"type\":\"linear\",\"gridwidth\":2,\"zeroline\":false,\"automargin\":true,\"ticks\":\"outside\",\"tickcolor\":\"white\",\"ticklen\":3,\"fixedrange\":true,\"range\":[-0.025262507677078248,0.07223749232292175]},\"yaxis\":{\"anchor\":\"x\",\"domain\":[0.55,1.0],\"type\":\"category\",\"autorange\":\"reversed\",\"gridwidth\":2,\"automargin\":true,\"ticks\":\"outside\",\"tickcolor\":\"white\",\"ticklen\":10,\"fixedrange\":true},\"xaxis2\":{\"anchor\":\"y2\",\"domain\":[0.0,1.0],\"type\":\"linear\",\"gridwidth\":2,\"zeroline\":false,\"automargin\":true,\"ticks\":\"outside\",\"tickcolor\":\"white\",\"ticklen\":3,\"fixedrange\":true,\"range\":[-0.025262507677078248,0.07223749232292175]},\"yaxis2\":{\"anchor\":\"x2\",\"domain\":[0.0,0.45],\"type\":\"category\",\"autorange\":\"reversed\",\"gridwidth\":2,\"automargin\":true,\"ticks\":\"outside\",\"tickcolor\":\"white\",\"ticklen\":10,\"fixedrange\":true},\"annotations\":[{\"font\":{\"size\":16},\"showarrow\":false,\"text\":\"observation 21\",\"x\":0.5,\"xanchor\":\"center\",\"xref\":\"paper\",\"y\":1.0,\"yanchor\":\"bottom\",\"yref\":\"paper\"},{\"font\":{\"size\":16},\"showarrow\":false,\"text\":\"observation 1410\",\"x\":0.5,\"xanchor\":\"center\",\"xref\":\"paper\",\"y\":0.45,\"yanchor\":\"bottom\",\"yref\":\"paper\"},{\"font\":{\"size\":16},\"showarrow\":false,\"text\":\"contribution\",\"x\":0.5,\"xanchor\":\"center\",\"xref\":\"paper\",\"y\":0,\"yanchor\":\"top\",\"yref\":\"paper\",\"yshift\":-30}],\"shapes\":[{\"line\":{\"color\":\"#371ea3\",\"dash\":\"dot\",\"width\":1.5},\"type\":\"line\",\"x0\":0.03398749232292175,\"x1\":0.03398749232292175,\"xref\":\"x\",\"y0\":-1,\"y1\":10,\"yref\":\"y\"},{\"line\":{\"color\":\"#371ea3\",\"dash\":\"dot\",\"width\":1.5},\"type\":\"line\",\"x0\":0.03398749232292175,\"x1\":0.03398749232292175,\"xref\":\"x2\",\"y0\":-1,\"y1\":10,\"yref\":\"y2\"}],\"title\":{\"text\":\"Shapley Values\",\"x\":0.15},\"font\":{\"color\":\"#371ea3\"},\"margin\":{\"t\":78,\"b\":71,\"r\":30},\"height\":627.0},                        {\"displaylogo\": false, \"staticPlot\": false, \"toImageButtonOptions\": {\"height\": null, \"width\": null}, \"modeBarButtonsToRemove\": [\"sendDataToCloud\", \"lasso2d\", \"autoScale2d\", \"select2d\", \"zoom2d\", \"pan2d\", \"zoomIn2d\", \"zoomOut2d\", \"resetScale2d\", \"toggleSpikelines\", \"hoverCompareCartesian\", \"hoverClosestCartesian\"], \"responsive\": true}                    ).then(function(){\n                            \nvar gd = document.getElementById('e89544f2-f38e-40ba-a264-bd334e74b182');\nvar x = new MutationObserver(function (mutations, observer) {{\n        var display = window.getComputedStyle(gd).display;\n        if (!display || display === 'none') {{\n            console.log([gd, 'removed!']);\n            Plotly.purge(gd);\n            observer.disconnect();\n        }}\n}});\n\n// Listen for the removal of the full notebook cells\nvar notebookContainer = gd.closest('#notebook-container');\nif (notebookContainer) {{\n    x.observe(notebookContainer, {childList: true});\n}}\n\n// Listen for the clearing of the current output cell\nvar outputEl = gd.closest('.output');\nif (outputEl) {{\n    x.observe(outputEl, {childList: true});\n}}\n\n                        })                };                });            </script>        </div>"
     },
     "metadata": {},
     "output_type": "display_data"
    }
   ],
   "source": [
    "plot_dalex_attributions_for_observations((21,1410))"
   ],
   "metadata": {
    "collapsed": false,
    "ExecuteTime": {
     "end_time": "2023-11-10T03:02:41.632657757Z",
     "start_time": "2023-11-10T03:02:39.586761376Z"
    }
   },
   "id": "f1b7bc1685fed6c4"
  },
  {
   "cell_type": "markdown",
   "source": [
    "### A.5. Select one variable X and find two observations in the dataset such that for one observation, X has a positive attribution, and for the other observation, X has a negative attribution\n",
    "\n",
    "For example, in the displayed figure above (in section A.4), we can see that Feature 3 has a positive attribution for observation 21 and (slightly) negative for observation 1410.\n"
   ],
   "metadata": {
    "collapsed": false
   },
   "id": "5e8ecf5c8b81baa"
  },
  {
   "cell_type": "markdown",
   "source": [
    "### A.6. Do the results differ across the two packages selected in point A.3 (how)?\n",
    "\n",
    "Let's compare two results for observation 37, which I believe is representational enough."
   ],
   "metadata": {
    "collapsed": false
   },
   "id": "14b359a244a24346"
  },
  {
   "cell_type": "code",
   "execution_count": 230,
   "outputs": [
    {
     "data": {
      "application/vnd.plotly.v1+json": {
       "data": [
        {
         "base": 0.03398749232292175,
         "hoverinfo": "text",
         "hoverlabel": {
          "bgcolor": "rgba(0,0,0,0.8)"
         },
         "hovertext": [
          "Average response: 0.034<br>Prediction: 0.0<br>Feature 3 = 1.2<br>increases average response <br>by 0.026",
          "Average response: 0.034<br>Prediction: 0.0<br>Feature 7 = 0.9906<br>decreases average response <br>by 0.023",
          "Average response: 0.034<br>Prediction: 0.0<br>Feature 5 = 38.0<br>decreases average response <br>by 0.015",
          "Average response: 0.034<br>Prediction: 0.0<br>Feature 6 = 138.0<br>decreases average response <br>by 0.01",
          "Average response: 0.034<br>Prediction: 0.0<br>Feature 2 = 0.32<br>decreases average response <br>by 0.006",
          "Average response: 0.034<br>Prediction: 0.0<br>Feature 9 = 0.28<br>increases average response <br>by 0.005",
          "Average response: 0.034<br>Prediction: 0.0<br>Feature 8 = 3.13<br>decreases average response <br>by 0.004",
          "Average response: 0.034<br>Prediction: 0.0<br>Feature 1 = 0.33<br>decreases average response <br>by 0.004",
          "Average response: 0.034<br>Prediction: 0.0<br>Feature 4 = 0.053<br>decreases average response <br>by 0.002",
          "Average response: 0.034<br>Prediction: 0.0<br>Feature 0 = 7.0<br>decreases average response <br>by 0.001"
         ],
         "marker": {
          "color": [
           "#8bdcbe",
           "#f05a71",
           "#f05a71",
           "#f05a71",
           "#f05a71",
           "#8bdcbe",
           "#f05a71",
           "#f05a71",
           "#f05a71",
           "#f05a71"
          ]
         },
         "orientation": "h",
         "showlegend": false,
         "text": [
          "+0.026",
          "-0.023",
          "-0.015",
          "-0.01",
          "-0.006",
          "+0.005",
          "-0.004",
          "-0.004",
          "-0.002",
          "-0.001"
         ],
         "textposition": "outside",
         "x": [
          0.026,
          -0.023,
          -0.015,
          -0.01,
          -0.006,
          0.005,
          -0.004,
          -0.004,
          -0.002,
          -0.001
         ],
         "y": [
          "Feature 3 = 1.2",
          "Feature 7 = 0.9906",
          "Feature 5 = 38.0",
          "Feature 6 = 138.0",
          "Feature 2 = 0.32",
          "Feature 9 = 0.28",
          "Feature 8 = 3.13",
          "Feature 1 = 0.33",
          "Feature 4 = 0.053",
          "Feature 0 = 7.0"
         ],
         "type": "bar",
         "xaxis": "x",
         "yaxis": "y"
        }
       ],
       "layout": {
        "template": {
         "data": {
          "scatter": [
           {
            "type": "scatter"
           }
          ]
         }
        },
        "xaxis": {
         "anchor": "y",
         "domain": [
          0.0,
          1.0
         ],
         "type": "linear",
         "gridwidth": 2,
         "zeroline": false,
         "automargin": true,
         "ticks": "outside",
         "tickcolor": "white",
         "ticklen": 3,
         "fixedrange": true,
         "range": [
          0.0036374923229217544,
          0.06733749232292174
         ]
        },
        "yaxis": {
         "anchor": "x",
         "domain": [
          0.0,
          1.0
         ],
         "type": "category",
         "autorange": "reversed",
         "gridwidth": 2,
         "automargin": true,
         "ticks": "outside",
         "tickcolor": "white",
         "ticklen": 10,
         "fixedrange": true
        },
        "annotations": [
         {
          "font": {
           "size": 16
          },
          "showarrow": false,
          "text": "observation 37",
          "x": 0.5,
          "xanchor": "center",
          "xref": "paper",
          "y": 1.0,
          "yanchor": "bottom",
          "yref": "paper"
         },
         {
          "font": {
           "size": 16
          },
          "showarrow": false,
          "text": "contribution",
          "x": 0.5,
          "xanchor": "center",
          "xref": "paper",
          "y": 0,
          "yanchor": "top",
          "yref": "paper",
          "yshift": -30
         }
        ],
        "shapes": [
         {
          "line": {
           "color": "#371ea3",
           "dash": "dot",
           "width": 1.5
          },
          "type": "line",
          "x0": 0.03398749232292175,
          "x1": 0.03398749232292175,
          "xref": "x",
          "y0": -1,
          "y1": 10,
          "yref": "y"
         }
        ],
        "title": {
         "text": "Shapley Values",
         "x": 0.15
        },
        "font": {
         "color": "#371ea3"
        },
        "margin": {
         "t": 78,
         "b": 71,
         "r": 30
        },
        "height": 353.0
       },
       "config": {
        "displaylogo": false,
        "staticPlot": false,
        "toImageButtonOptions": {
         "height": null,
         "width": null
        },
        "modeBarButtonsToRemove": [
         "sendDataToCloud",
         "lasso2d",
         "autoScale2d",
         "select2d",
         "zoom2d",
         "pan2d",
         "zoomIn2d",
         "zoomOut2d",
         "resetScale2d",
         "toggleSpikelines",
         "hoverCompareCartesian",
         "hoverClosestCartesian"
        ],
        "plotlyServerURL": "https://plot.ly"
       }
      },
      "text/html": "<div>                            <div id=\"d410aced-0708-48ea-80f7-c40751588117\" class=\"plotly-graph-div\" style=\"height:353.0px; width:100%;\"></div>            <script type=\"text/javascript\">                require([\"plotly\"], function(Plotly) {                    window.PLOTLYENV=window.PLOTLYENV || {};                                    if (document.getElementById(\"d410aced-0708-48ea-80f7-c40751588117\")) {                    Plotly.newPlot(                        \"d410aced-0708-48ea-80f7-c40751588117\",                        [{\"base\":0.03398749232292175,\"hoverinfo\":\"text\",\"hoverlabel\":{\"bgcolor\":\"rgba(0,0,0,0.8)\"},\"hovertext\":[\"Average response: 0.034\\u003cbr\\u003ePrediction: 0.0\\u003cbr\\u003eFeature 3 = 1.2\\u003cbr\\u003eincreases average response \\u003cbr\\u003eby 0.026\",\"Average response: 0.034\\u003cbr\\u003ePrediction: 0.0\\u003cbr\\u003eFeature 7 = 0.9906\\u003cbr\\u003edecreases average response \\u003cbr\\u003eby 0.023\",\"Average response: 0.034\\u003cbr\\u003ePrediction: 0.0\\u003cbr\\u003eFeature 5 = 38.0\\u003cbr\\u003edecreases average response \\u003cbr\\u003eby 0.015\",\"Average response: 0.034\\u003cbr\\u003ePrediction: 0.0\\u003cbr\\u003eFeature 6 = 138.0\\u003cbr\\u003edecreases average response \\u003cbr\\u003eby 0.01\",\"Average response: 0.034\\u003cbr\\u003ePrediction: 0.0\\u003cbr\\u003eFeature 2 = 0.32\\u003cbr\\u003edecreases average response \\u003cbr\\u003eby 0.006\",\"Average response: 0.034\\u003cbr\\u003ePrediction: 0.0\\u003cbr\\u003eFeature 9 = 0.28\\u003cbr\\u003eincreases average response \\u003cbr\\u003eby 0.005\",\"Average response: 0.034\\u003cbr\\u003ePrediction: 0.0\\u003cbr\\u003eFeature 8 = 3.13\\u003cbr\\u003edecreases average response \\u003cbr\\u003eby 0.004\",\"Average response: 0.034\\u003cbr\\u003ePrediction: 0.0\\u003cbr\\u003eFeature 1 = 0.33\\u003cbr\\u003edecreases average response \\u003cbr\\u003eby 0.004\",\"Average response: 0.034\\u003cbr\\u003ePrediction: 0.0\\u003cbr\\u003eFeature 4 = 0.053\\u003cbr\\u003edecreases average response \\u003cbr\\u003eby 0.002\",\"Average response: 0.034\\u003cbr\\u003ePrediction: 0.0\\u003cbr\\u003eFeature 0 = 7.0\\u003cbr\\u003edecreases average response \\u003cbr\\u003eby 0.001\"],\"marker\":{\"color\":[\"#8bdcbe\",\"#f05a71\",\"#f05a71\",\"#f05a71\",\"#f05a71\",\"#8bdcbe\",\"#f05a71\",\"#f05a71\",\"#f05a71\",\"#f05a71\"]},\"orientation\":\"h\",\"showlegend\":false,\"text\":[\"+0.026\",\"-0.023\",\"-0.015\",\"-0.01\",\"-0.006\",\"+0.005\",\"-0.004\",\"-0.004\",\"-0.002\",\"-0.001\"],\"textposition\":\"outside\",\"x\":[0.026,-0.023,-0.015,-0.01,-0.006,0.005,-0.004,-0.004,-0.002,-0.001],\"y\":[\"Feature 3 = 1.2\",\"Feature 7 = 0.9906\",\"Feature 5 = 38.0\",\"Feature 6 = 138.0\",\"Feature 2 = 0.32\",\"Feature 9 = 0.28\",\"Feature 8 = 3.13\",\"Feature 1 = 0.33\",\"Feature 4 = 0.053\",\"Feature 0 = 7.0\"],\"type\":\"bar\",\"xaxis\":\"x\",\"yaxis\":\"y\"}],                        {\"template\":{\"data\":{\"scatter\":[{\"type\":\"scatter\"}]}},\"xaxis\":{\"anchor\":\"y\",\"domain\":[0.0,1.0],\"type\":\"linear\",\"gridwidth\":2,\"zeroline\":false,\"automargin\":true,\"ticks\":\"outside\",\"tickcolor\":\"white\",\"ticklen\":3,\"fixedrange\":true,\"range\":[0.0036374923229217544,0.06733749232292174]},\"yaxis\":{\"anchor\":\"x\",\"domain\":[0.0,1.0],\"type\":\"category\",\"autorange\":\"reversed\",\"gridwidth\":2,\"automargin\":true,\"ticks\":\"outside\",\"tickcolor\":\"white\",\"ticklen\":10,\"fixedrange\":true},\"annotations\":[{\"font\":{\"size\":16},\"showarrow\":false,\"text\":\"observation 37\",\"x\":0.5,\"xanchor\":\"center\",\"xref\":\"paper\",\"y\":1.0,\"yanchor\":\"bottom\",\"yref\":\"paper\"},{\"font\":{\"size\":16},\"showarrow\":false,\"text\":\"contribution\",\"x\":0.5,\"xanchor\":\"center\",\"xref\":\"paper\",\"y\":0,\"yanchor\":\"top\",\"yref\":\"paper\",\"yshift\":-30}],\"shapes\":[{\"line\":{\"color\":\"#371ea3\",\"dash\":\"dot\",\"width\":1.5},\"type\":\"line\",\"x0\":0.03398749232292175,\"x1\":0.03398749232292175,\"xref\":\"x\",\"y0\":-1,\"y1\":10,\"yref\":\"y\"}],\"title\":{\"text\":\"Shapley Values\",\"x\":0.15},\"font\":{\"color\":\"#371ea3\"},\"margin\":{\"t\":78,\"b\":71,\"r\":30},\"height\":353.0},                        {\"displaylogo\": false, \"staticPlot\": false, \"toImageButtonOptions\": {\"height\": null, \"width\": null}, \"modeBarButtonsToRemove\": [\"sendDataToCloud\", \"lasso2d\", \"autoScale2d\", \"select2d\", \"zoom2d\", \"pan2d\", \"zoomIn2d\", \"zoomOut2d\", \"resetScale2d\", \"toggleSpikelines\", \"hoverCompareCartesian\", \"hoverClosestCartesian\"], \"responsive\": true}                    ).then(function(){\n                            \nvar gd = document.getElementById('d410aced-0708-48ea-80f7-c40751588117');\nvar x = new MutationObserver(function (mutations, observer) {{\n        var display = window.getComputedStyle(gd).display;\n        if (!display || display === 'none') {{\n            console.log([gd, 'removed!']);\n            Plotly.purge(gd);\n            observer.disconnect();\n        }}\n}});\n\n// Listen for the removal of the full notebook cells\nvar notebookContainer = gd.closest('#notebook-container');\nif (notebookContainer) {{\n    x.observe(notebookContainer, {childList: true});\n}}\n\n// Listen for the clearing of the current output cell\nvar outputEl = gd.closest('.output');\nif (outputEl) {{\n    x.observe(outputEl, {childList: true});\n}}\n\n                        })                };                });            </script>        </div>"
     },
     "metadata": {},
     "output_type": "display_data"
    }
   ],
   "source": [
    "plot_dalex_attributions_for_observations([37])"
   ],
   "metadata": {
    "collapsed": false,
    "ExecuteTime": {
     "end_time": "2023-11-10T03:03:02.809686827Z",
     "start_time": "2023-11-10T03:03:01.530762047Z"
    }
   },
   "id": "ef15752cc1bd5374"
  },
  {
   "cell_type": "code",
   "execution_count": 231,
   "outputs": [
    {
     "data": {
      "text/plain": "<Figure size 800x650 with 3 Axes>",
      "image/png": "[encoded data removed]"
     },
     "metadata": {},
     "output_type": "display_data"
    }
   ],
   "source": [
    "plot_shap_attributions_for_observations([37])"
   ],
   "metadata": {
    "collapsed": false,
    "ExecuteTime": {
     "end_time": "2023-11-10T03:03:03.448040997Z",
     "start_time": "2023-11-10T03:03:03.213351971Z"
    }
   },
   "id": "a64b1d797354149f"
  },
  {
   "cell_type": "markdown",
   "source": [
    "We can clearly see that, while both libraries generally associate the same features with positive/negative contribution, the significance of particular features may differ. Comparing figures above, the influence of Feature 3 may be greater or lower than influence of e.g. Frature 7. The difference may be caused by various methods used to compute shapley attributions. Precise method takes exponential time to compute, hence those libraries (presumably) use methods that estimate those coefficients."
   ],
   "metadata": {
    "collapsed": false
   },
   "id": "4d096ac26e47b531"
  },
  {
   "cell_type": "markdown",
   "source": [
    "### A.7. Train another model of any class: neural network, linear model, decision tree etc. and find an observation for which SHAP attributions are different between this model and the one trained in point A.1\n",
    "\n",
    "I chose to train logistic regression model (like in homework 1) and observation 1234. The first figure depicts results for model trained in section A.1, the latter - for linear regression model. What strikes first is huge difference in amount of overall positive and negative contribution to the prediction. Particular features may be insignificant for one model and crucial for another at the same time (e.g. Feature 7 or 0). Features may also correspond to opposite attribution (e.g. 0). The ease with I found such example is probably a result of comparing different models trained on imbalanced data - with overrepresentation of 0's. Also, dissimilar methods and reasoning behind those models may have affect the results."
   ],
   "metadata": {
    "collapsed": false
   },
   "id": "7abad9260101d699"
  },
  {
   "cell_type": "code",
   "execution_count": 240,
   "outputs": [
    {
     "data": {
      "application/vnd.plotly.v1+json": {
       "data": [
        {
         "base": 0.03398749232292175,
         "hoverinfo": "text",
         "hoverlabel": {
          "bgcolor": "rgba(0,0,0,0.8)"
         },
         "hovertext": [
          "Average response: 0.034<br>Prediction: 0.001<br>Feature 3 = 1.3<br>increases average response <br>by 0.031",
          "Average response: 0.034<br>Prediction: 0.001<br>Feature 5 = 47.0<br>decreases average response <br>by 0.02",
          "Average response: 0.034<br>Prediction: 0.001<br>Feature 7 = 0.9937<br>decreases average response <br>by 0.016",
          "Average response: 0.034<br>Prediction: 0.001<br>Feature 6 = 155.0<br>decreases average response <br>by 0.009",
          "Average response: 0.034<br>Prediction: 0.001<br>Feature 1 = 0.26<br>decreases average response <br>by 0.008",
          "Average response: 0.034<br>Prediction: 0.001<br>Feature 2 = 0.31<br>decreases average response <br>by 0.006",
          "Average response: 0.034<br>Prediction: 0.001<br>Feature 0 = 7.7<br>decreases average response <br>by 0.006",
          "Average response: 0.034<br>Prediction: 0.001<br>Feature 9 = 0.5<br>decreases average response <br>by 0.004",
          "Average response: 0.034<br>Prediction: 0.001<br>Feature 8 = 3.42<br>increases average response <br>by 0.003",
          "Average response: 0.034<br>Prediction: 0.001<br>Feature 4 = 0.043<br>increases average response <br>by 0.002"
         ],
         "marker": {
          "color": [
           "#8bdcbe",
           "#f05a71",
           "#f05a71",
           "#f05a71",
           "#f05a71",
           "#f05a71",
           "#f05a71",
           "#f05a71",
           "#8bdcbe",
           "#8bdcbe"
          ]
         },
         "orientation": "h",
         "showlegend": false,
         "text": [
          "+0.031",
          "-0.02",
          "-0.016",
          "-0.009",
          "-0.008",
          "-0.006",
          "-0.006",
          "-0.004",
          "+0.003",
          "+0.002"
         ],
         "textposition": "outside",
         "x": [
          0.031,
          -0.02,
          -0.016,
          -0.009,
          -0.008,
          -0.006,
          -0.006,
          -0.004,
          0.003,
          0.002
         ],
         "y": [
          "Feature 3 = 1.3",
          "Feature 5 = 47.0",
          "Feature 7 = 0.9937",
          "Feature 6 = 155.0",
          "Feature 1 = 0.26",
          "Feature 2 = 0.31",
          "Feature 0 = 7.7",
          "Feature 9 = 0.5",
          "Feature 8 = 3.42",
          "Feature 4 = 0.043"
         ],
         "type": "bar",
         "xaxis": "x",
         "yaxis": "y"
        }
       ],
       "layout": {
        "template": {
         "data": {
          "scatter": [
           {
            "type": "scatter"
           }
          ]
         }
        },
        "xaxis": {
         "anchor": "y",
         "domain": [
          0.0,
          1.0
         ],
         "type": "linear",
         "gridwidth": 2,
         "zeroline": false,
         "automargin": true,
         "ticks": "outside",
         "tickcolor": "white",
         "ticklen": 3,
         "fixedrange": true,
         "range": [
          0.006337492322921752,
          0.07263749232292176
         ]
        },
        "yaxis": {
         "anchor": "x",
         "domain": [
          0.0,
          1.0
         ],
         "type": "category",
         "autorange": "reversed",
         "gridwidth": 2,
         "automargin": true,
         "ticks": "outside",
         "tickcolor": "white",
         "ticklen": 10,
         "fixedrange": true
        },
        "annotations": [
         {
          "font": {
           "size": 16
          },
          "showarrow": false,
          "text": "observation 1234",
          "x": 0.5,
          "xanchor": "center",
          "xref": "paper",
          "y": 1.0,
          "yanchor": "bottom",
          "yref": "paper"
         },
         {
          "font": {
           "size": 16
          },
          "showarrow": false,
          "text": "contribution",
          "x": 0.5,
          "xanchor": "center",
          "xref": "paper",
          "y": 0,
          "yanchor": "top",
          "yref": "paper",
          "yshift": -30
         }
        ],
        "shapes": [
         {
          "line": {
           "color": "#371ea3",
           "dash": "dot",
           "width": 1.5
          },
          "type": "line",
          "x0": 0.03398749232292175,
          "x1": 0.03398749232292175,
          "xref": "x",
          "y0": -1,
          "y1": 10,
          "yref": "y"
         }
        ],
        "title": {
         "text": "Shapley Values",
         "x": 0.15
        },
        "font": {
         "color": "#371ea3"
        },
        "margin": {
         "t": 78,
         "b": 71,
         "r": 30
        },
        "height": 353.0
       },
       "config": {
        "displaylogo": false,
        "staticPlot": false,
        "toImageButtonOptions": {
         "height": null,
         "width": null
        },
        "modeBarButtonsToRemove": [
         "sendDataToCloud",
         "lasso2d",
         "autoScale2d",
         "select2d",
         "zoom2d",
         "pan2d",
         "zoomIn2d",
         "zoomOut2d",
         "resetScale2d",
         "toggleSpikelines",
         "hoverCompareCartesian",
         "hoverClosestCartesian"
        ],
        "plotlyServerURL": "https://plot.ly"
       }
      },
      "text/html": "<div>                            <div id=\"2aa0eebf-b6a2-49b7-90a8-6ea594dca8b9\" class=\"plotly-graph-div\" style=\"height:353.0px; width:100%;\"></div>            <script type=\"text/javascript\">                require([\"plotly\"], function(Plotly) {                    window.PLOTLYENV=window.PLOTLYENV || {};                                    if (document.getElementById(\"2aa0eebf-b6a2-49b7-90a8-6ea594dca8b9\")) {                    Plotly.newPlot(                        \"2aa0eebf-b6a2-49b7-90a8-6ea594dca8b9\",                        [{\"base\":0.03398749232292175,\"hoverinfo\":\"text\",\"hoverlabel\":{\"bgcolor\":\"rgba(0,0,0,0.8)\"},\"hovertext\":[\"Average response: 0.034\\u003cbr\\u003ePrediction: 0.001\\u003cbr\\u003eFeature 3 = 1.3\\u003cbr\\u003eincreases average response \\u003cbr\\u003eby 0.031\",\"Average response: 0.034\\u003cbr\\u003ePrediction: 0.001\\u003cbr\\u003eFeature 5 = 47.0\\u003cbr\\u003edecreases average response \\u003cbr\\u003eby 0.02\",\"Average response: 0.034\\u003cbr\\u003ePrediction: 0.001\\u003cbr\\u003eFeature 7 = 0.9937\\u003cbr\\u003edecreases average response \\u003cbr\\u003eby 0.016\",\"Average response: 0.034\\u003cbr\\u003ePrediction: 0.001\\u003cbr\\u003eFeature 6 = 155.0\\u003cbr\\u003edecreases average response \\u003cbr\\u003eby 0.009\",\"Average response: 0.034\\u003cbr\\u003ePrediction: 0.001\\u003cbr\\u003eFeature 1 = 0.26\\u003cbr\\u003edecreases average response \\u003cbr\\u003eby 0.008\",\"Average response: 0.034\\u003cbr\\u003ePrediction: 0.001\\u003cbr\\u003eFeature 2 = 0.31\\u003cbr\\u003edecreases average response \\u003cbr\\u003eby 0.006\",\"Average response: 0.034\\u003cbr\\u003ePrediction: 0.001\\u003cbr\\u003eFeature 0 = 7.7\\u003cbr\\u003edecreases average response \\u003cbr\\u003eby 0.006\",\"Average response: 0.034\\u003cbr\\u003ePrediction: 0.001\\u003cbr\\u003eFeature 9 = 0.5\\u003cbr\\u003edecreases average response \\u003cbr\\u003eby 0.004\",\"Average response: 0.034\\u003cbr\\u003ePrediction: 0.001\\u003cbr\\u003eFeature 8 = 3.42\\u003cbr\\u003eincreases average response \\u003cbr\\u003eby 0.003\",\"Average response: 0.034\\u003cbr\\u003ePrediction: 0.001\\u003cbr\\u003eFeature 4 = 0.043\\u003cbr\\u003eincreases average response \\u003cbr\\u003eby 0.002\"],\"marker\":{\"color\":[\"#8bdcbe\",\"#f05a71\",\"#f05a71\",\"#f05a71\",\"#f05a71\",\"#f05a71\",\"#f05a71\",\"#f05a71\",\"#8bdcbe\",\"#8bdcbe\"]},\"orientation\":\"h\",\"showlegend\":false,\"text\":[\"+0.031\",\"-0.02\",\"-0.016\",\"-0.009\",\"-0.008\",\"-0.006\",\"-0.006\",\"-0.004\",\"+0.003\",\"+0.002\"],\"textposition\":\"outside\",\"x\":[0.031,-0.02,-0.016,-0.009,-0.008,-0.006,-0.006,-0.004,0.003,0.002],\"y\":[\"Feature 3 = 1.3\",\"Feature 5 = 47.0\",\"Feature 7 = 0.9937\",\"Feature 6 = 155.0\",\"Feature 1 = 0.26\",\"Feature 2 = 0.31\",\"Feature 0 = 7.7\",\"Feature 9 = 0.5\",\"Feature 8 = 3.42\",\"Feature 4 = 0.043\"],\"type\":\"bar\",\"xaxis\":\"x\",\"yaxis\":\"y\"}],                        {\"template\":{\"data\":{\"scatter\":[{\"type\":\"scatter\"}]}},\"xaxis\":{\"anchor\":\"y\",\"domain\":[0.0,1.0],\"type\":\"linear\",\"gridwidth\":2,\"zeroline\":false,\"automargin\":true,\"ticks\":\"outside\",\"tickcolor\":\"white\",\"ticklen\":3,\"fixedrange\":true,\"range\":[0.006337492322921752,0.07263749232292176]},\"yaxis\":{\"anchor\":\"x\",\"domain\":[0.0,1.0],\"type\":\"category\",\"autorange\":\"reversed\",\"gridwidth\":2,\"automargin\":true,\"ticks\":\"outside\",\"tickcolor\":\"white\",\"ticklen\":10,\"fixedrange\":true},\"annotations\":[{\"font\":{\"size\":16},\"showarrow\":false,\"text\":\"observation 1234\",\"x\":0.5,\"xanchor\":\"center\",\"xref\":\"paper\",\"y\":1.0,\"yanchor\":\"bottom\",\"yref\":\"paper\"},{\"font\":{\"size\":16},\"showarrow\":false,\"text\":\"contribution\",\"x\":0.5,\"xanchor\":\"center\",\"xref\":\"paper\",\"y\":0,\"yanchor\":\"top\",\"yref\":\"paper\",\"yshift\":-30}],\"shapes\":[{\"line\":{\"color\":\"#371ea3\",\"dash\":\"dot\",\"width\":1.5},\"type\":\"line\",\"x0\":0.03398749232292175,\"x1\":0.03398749232292175,\"xref\":\"x\",\"y0\":-1,\"y1\":10,\"yref\":\"y\"}],\"title\":{\"text\":\"Shapley Values\",\"x\":0.15},\"font\":{\"color\":\"#371ea3\"},\"margin\":{\"t\":78,\"b\":71,\"r\":30},\"height\":353.0},                        {\"displaylogo\": false, \"staticPlot\": false, \"toImageButtonOptions\": {\"height\": null, \"width\": null}, \"modeBarButtonsToRemove\": [\"sendDataToCloud\", \"lasso2d\", \"autoScale2d\", \"select2d\", \"zoom2d\", \"pan2d\", \"zoomIn2d\", \"zoomOut2d\", \"resetScale2d\", \"toggleSpikelines\", \"hoverCompareCartesian\", \"hoverClosestCartesian\"], \"responsive\": true}                    ).then(function(){\n                            \nvar gd = document.getElementById('2aa0eebf-b6a2-49b7-90a8-6ea594dca8b9');\nvar x = new MutationObserver(function (mutations, observer) {{\n        var display = window.getComputedStyle(gd).display;\n        if (!display || display === 'none') {{\n            console.log([gd, 'removed!']);\n            Plotly.purge(gd);\n            observer.disconnect();\n        }}\n}});\n\n// Listen for the removal of the full notebook cells\nvar notebookContainer = gd.closest('#notebook-container');\nif (notebookContainer) {{\n    x.observe(notebookContainer, {childList: true});\n}}\n\n// Listen for the clearing of the current output cell\nvar outputEl = gd.closest('.output');\nif (outputEl) {{\n    x.observe(outputEl, {childList: true});\n}}\n\n                        })                };                });            </script>        </div>"
     },
     "metadata": {},
     "output_type": "display_data"
    },
    {
     "data": {
      "application/vnd.plotly.v1+json": {
       "data": [
        {
         "base": 0.4245676741462619,
         "hoverinfo": "text",
         "hoverlabel": {
          "bgcolor": "rgba(0,0,0,0.8)"
         },
         "hovertext": [
          "Average response: 0.425<br>Prediction: 0.583<br>Feature 3 = 1.3<br>increases average response <br>by 0.078",
          "Average response: 0.425<br>Prediction: 0.583<br>Feature 0 = 7.7<br>increases average response <br>by 0.077",
          "Average response: 0.425<br>Prediction: 0.583<br>Feature 8 = 3.42<br>increases average response <br>by 0.034",
          "Average response: 0.425<br>Prediction: 0.583<br>Feature 5 = 47.0<br>decreases average response <br>by 0.023",
          "Average response: 0.425<br>Prediction: 0.583<br>Feature 1 = 0.26<br>decreases average response <br>by 0.018",
          "Average response: 0.425<br>Prediction: 0.583<br>Feature 6 = 155.0<br>increases average response <br>by 0.01",
          "Average response: 0.425<br>Prediction: 0.583<br>Feature 2 = 0.31<br>increases average response <br>by 0.003",
          "Average response: 0.425<br>Prediction: 0.583<br>Feature 9 = 0.5<br>decreases average response <br>by 0.002",
          "Average response: 0.425<br>Prediction: 0.583<br>Feature 4 = 0.043<br>decreases average response <br>by 0.001",
          "Average response: 0.425<br>Prediction: 0.583<br>Feature 7 = 0.9937<br>decreases average response <br>by 0.0"
         ],
         "marker": {
          "color": [
           "#8bdcbe",
           "#8bdcbe",
           "#8bdcbe",
           "#f05a71",
           "#f05a71",
           "#8bdcbe",
           "#8bdcbe",
           "#f05a71",
           "#f05a71",
           "#f05a71"
          ]
         },
         "orientation": "h",
         "showlegend": false,
         "text": [
          "+0.078",
          "+0.077",
          "+0.034",
          "-0.023",
          "-0.018",
          "+0.01",
          "+0.003",
          "-0.002",
          "-0.001",
          "-0.0"
         ],
         "textposition": "outside",
         "x": [
          0.078,
          0.077,
          0.034,
          -0.023,
          -0.018,
          0.01,
          0.003,
          -0.002,
          -0.001,
          -0.0
         ],
         "y": [
          "Feature 3 = 1.3",
          "Feature 0 = 7.7",
          "Feature 8 = 3.42",
          "Feature 5 = 47.0",
          "Feature 1 = 0.26",
          "Feature 6 = 155.0",
          "Feature 2 = 0.31",
          "Feature 9 = 0.5",
          "Feature 4 = 0.043",
          "Feature 7 = 0.9937"
         ],
         "type": "bar",
         "xaxis": "x",
         "yaxis": "y"
        }
       ],
       "layout": {
        "template": {
         "data": {
          "scatter": [
           {
            "type": "scatter"
           }
          ]
         }
        },
        "xaxis": {
         "anchor": "y",
         "domain": [
          0.0,
          1.0
         ],
         "type": "linear",
         "gridwidth": 2,
         "zeroline": false,
         "automargin": true,
         "ticks": "outside",
         "tickcolor": "white",
         "ticklen": 3,
         "fixedrange": true,
         "range": [
          0.3864176741462619,
          0.5177176741462619
         ]
        },
        "yaxis": {
         "anchor": "x",
         "domain": [
          0.0,
          1.0
         ],
         "type": "category",
         "autorange": "reversed",
         "gridwidth": 2,
         "automargin": true,
         "ticks": "outside",
         "tickcolor": "white",
         "ticklen": 10,
         "fixedrange": true
        },
        "annotations": [
         {
          "font": {
           "size": 16
          },
          "showarrow": false,
          "text": "observation 1234",
          "x": 0.5,
          "xanchor": "center",
          "xref": "paper",
          "y": 1.0,
          "yanchor": "bottom",
          "yref": "paper"
         },
         {
          "font": {
           "size": 16
          },
          "showarrow": false,
          "text": "contribution",
          "x": 0.5,
          "xanchor": "center",
          "xref": "paper",
          "y": 0,
          "yanchor": "top",
          "yref": "paper",
          "yshift": -30
         }
        ],
        "shapes": [
         {
          "line": {
           "color": "#371ea3",
           "dash": "dot",
           "width": 1.5
          },
          "type": "line",
          "x0": 0.4245676741462619,
          "x1": 0.4245676741462619,
          "xref": "x",
          "y0": -1,
          "y1": 10,
          "yref": "y"
         }
        ],
        "title": {
         "text": "Shapley Values",
         "x": 0.15
        },
        "font": {
         "color": "#371ea3"
        },
        "margin": {
         "t": 78,
         "b": 71,
         "r": 30
        },
        "height": 353.0
       },
       "config": {
        "displaylogo": false,
        "staticPlot": false,
        "toImageButtonOptions": {
         "height": null,
         "width": null
        },
        "modeBarButtonsToRemove": [
         "sendDataToCloud",
         "lasso2d",
         "autoScale2d",
         "select2d",
         "zoom2d",
         "pan2d",
         "zoomIn2d",
         "zoomOut2d",
         "resetScale2d",
         "toggleSpikelines",
         "hoverCompareCartesian",
         "hoverClosestCartesian"
        ],
        "plotlyServerURL": "https://plot.ly"
       }
      },
      "text/html": "<div>                            <div id=\"1948c846-26de-4f47-9eca-2cdc6539eda3\" class=\"plotly-graph-div\" style=\"height:353.0px; width:100%;\"></div>            <script type=\"text/javascript\">                require([\"plotly\"], function(Plotly) {                    window.PLOTLYENV=window.PLOTLYENV || {};                                    if (document.getElementById(\"1948c846-26de-4f47-9eca-2cdc6539eda3\")) {                    Plotly.newPlot(                        \"1948c846-26de-4f47-9eca-2cdc6539eda3\",                        [{\"base\":0.4245676741462619,\"hoverinfo\":\"text\",\"hoverlabel\":{\"bgcolor\":\"rgba(0,0,0,0.8)\"},\"hovertext\":[\"Average response: 0.425\\u003cbr\\u003ePrediction: 0.583\\u003cbr\\u003eFeature 3 = 1.3\\u003cbr\\u003eincreases average response \\u003cbr\\u003eby 0.078\",\"Average response: 0.425\\u003cbr\\u003ePrediction: 0.583\\u003cbr\\u003eFeature 0 = 7.7\\u003cbr\\u003eincreases average response \\u003cbr\\u003eby 0.077\",\"Average response: 0.425\\u003cbr\\u003ePrediction: 0.583\\u003cbr\\u003eFeature 8 = 3.42\\u003cbr\\u003eincreases average response \\u003cbr\\u003eby 0.034\",\"Average response: 0.425\\u003cbr\\u003ePrediction: 0.583\\u003cbr\\u003eFeature 5 = 47.0\\u003cbr\\u003edecreases average response \\u003cbr\\u003eby 0.023\",\"Average response: 0.425\\u003cbr\\u003ePrediction: 0.583\\u003cbr\\u003eFeature 1 = 0.26\\u003cbr\\u003edecreases average response \\u003cbr\\u003eby 0.018\",\"Average response: 0.425\\u003cbr\\u003ePrediction: 0.583\\u003cbr\\u003eFeature 6 = 155.0\\u003cbr\\u003eincreases average response \\u003cbr\\u003eby 0.01\",\"Average response: 0.425\\u003cbr\\u003ePrediction: 0.583\\u003cbr\\u003eFeature 2 = 0.31\\u003cbr\\u003eincreases average response \\u003cbr\\u003eby 0.003\",\"Average response: 0.425\\u003cbr\\u003ePrediction: 0.583\\u003cbr\\u003eFeature 9 = 0.5\\u003cbr\\u003edecreases average response \\u003cbr\\u003eby 0.002\",\"Average response: 0.425\\u003cbr\\u003ePrediction: 0.583\\u003cbr\\u003eFeature 4 = 0.043\\u003cbr\\u003edecreases average response \\u003cbr\\u003eby 0.001\",\"Average response: 0.425\\u003cbr\\u003ePrediction: 0.583\\u003cbr\\u003eFeature 7 = 0.9937\\u003cbr\\u003edecreases average response \\u003cbr\\u003eby 0.0\"],\"marker\":{\"color\":[\"#8bdcbe\",\"#8bdcbe\",\"#8bdcbe\",\"#f05a71\",\"#f05a71\",\"#8bdcbe\",\"#8bdcbe\",\"#f05a71\",\"#f05a71\",\"#f05a71\"]},\"orientation\":\"h\",\"showlegend\":false,\"text\":[\"+0.078\",\"+0.077\",\"+0.034\",\"-0.023\",\"-0.018\",\"+0.01\",\"+0.003\",\"-0.002\",\"-0.001\",\"-0.0\"],\"textposition\":\"outside\",\"x\":[0.078,0.077,0.034,-0.023,-0.018,0.01,0.003,-0.002,-0.001,-0.0],\"y\":[\"Feature 3 = 1.3\",\"Feature 0 = 7.7\",\"Feature 8 = 3.42\",\"Feature 5 = 47.0\",\"Feature 1 = 0.26\",\"Feature 6 = 155.0\",\"Feature 2 = 0.31\",\"Feature 9 = 0.5\",\"Feature 4 = 0.043\",\"Feature 7 = 0.9937\"],\"type\":\"bar\",\"xaxis\":\"x\",\"yaxis\":\"y\"}],                        {\"template\":{\"data\":{\"scatter\":[{\"type\":\"scatter\"}]}},\"xaxis\":{\"anchor\":\"y\",\"domain\":[0.0,1.0],\"type\":\"linear\",\"gridwidth\":2,\"zeroline\":false,\"automargin\":true,\"ticks\":\"outside\",\"tickcolor\":\"white\",\"ticklen\":3,\"fixedrange\":true,\"range\":[0.3864176741462619,0.5177176741462619]},\"yaxis\":{\"anchor\":\"x\",\"domain\":[0.0,1.0],\"type\":\"category\",\"autorange\":\"reversed\",\"gridwidth\":2,\"automargin\":true,\"ticks\":\"outside\",\"tickcolor\":\"white\",\"ticklen\":10,\"fixedrange\":true},\"annotations\":[{\"font\":{\"size\":16},\"showarrow\":false,\"text\":\"observation 1234\",\"x\":0.5,\"xanchor\":\"center\",\"xref\":\"paper\",\"y\":1.0,\"yanchor\":\"bottom\",\"yref\":\"paper\"},{\"font\":{\"size\":16},\"showarrow\":false,\"text\":\"contribution\",\"x\":0.5,\"xanchor\":\"center\",\"xref\":\"paper\",\"y\":0,\"yanchor\":\"top\",\"yref\":\"paper\",\"yshift\":-30}],\"shapes\":[{\"line\":{\"color\":\"#371ea3\",\"dash\":\"dot\",\"width\":1.5},\"type\":\"line\",\"x0\":0.4245676741462619,\"x1\":0.4245676741462619,\"xref\":\"x\",\"y0\":-1,\"y1\":10,\"yref\":\"y\"}],\"title\":{\"text\":\"Shapley Values\",\"x\":0.15},\"font\":{\"color\":\"#371ea3\"},\"margin\":{\"t\":78,\"b\":71,\"r\":30},\"height\":353.0},                        {\"displaylogo\": false, \"staticPlot\": false, \"toImageButtonOptions\": {\"height\": null, \"width\": null}, \"modeBarButtonsToRemove\": [\"sendDataToCloud\", \"lasso2d\", \"autoScale2d\", \"select2d\", \"zoom2d\", \"pan2d\", \"zoomIn2d\", \"zoomOut2d\", \"resetScale2d\", \"toggleSpikelines\", \"hoverCompareCartesian\", \"hoverClosestCartesian\"], \"responsive\": true}                    ).then(function(){\n                            \nvar gd = document.getElementById('1948c846-26de-4f47-9eca-2cdc6539eda3');\nvar x = new MutationObserver(function (mutations, observer) {{\n        var display = window.getComputedStyle(gd).display;\n        if (!display || display === 'none') {{\n            console.log([gd, 'removed!']);\n            Plotly.purge(gd);\n            observer.disconnect();\n        }}\n}});\n\n// Listen for the removal of the full notebook cells\nvar notebookContainer = gd.closest('#notebook-container');\nif (notebookContainer) {{\n    x.observe(notebookContainer, {childList: true});\n}}\n\n// Listen for the clearing of the current output cell\nvar outputEl = gd.closest('.output');\nif (outputEl) {{\n    x.observe(outputEl, {childList: true});\n}}\n\n                        })                };                });            </script>        </div>"
     },
     "metadata": {},
     "output_type": "display_data"
    }
   ],
   "source": [
    "compare_two_models_for_observation([1234])"
   ],
   "metadata": {
    "collapsed": false,
    "ExecuteTime": {
     "end_time": "2023-11-10T03:22:32.062770929Z",
     "start_time": "2023-11-10T03:22:30.022631175Z"
    }
   },
   "id": "43319e895e1ced34"
  },
  {
   "cell_type": "markdown",
   "id": "293002cccccda9c4",
   "metadata": {
    "collapsed": false
   },
   "source": [
    "# Task B\n",
    "\n",
    "#### B.1. Calculate Shapley values for player A given the following value function\n",
    "\n",
    "$\n",
    "\\begin{align}\n",
    "v() &= 0 \\\\\n",
    "v(A) &= 20 \\\\\n",
    "v(B) &= 20 \\\\\n",
    "v(C) &= 60 \\\\\n",
    "v(A,B) &= 60 \\\\\n",
    "v(A,C) &= 70 \\\\\n",
    "v(B,C) &= 70 \\\\\n",
    "v(A,B,C) &= 100 \\\\\n",
    "\\end{align}\n",
    "$"
   ]
  },
  {
   "cell_type": "markdown",
   "id": "e0980ec527857cc4",
   "metadata": {
    "collapsed": false
   },
   "source": [
    "We'll be using the formula:\n",
    "$ \\phi_A = \\frac{1}{|P|!}\\sum_{\\pi \\in \\Pi}v((S_A^{\\pi} \\cup \\{A\\}) - v(S_A^{\\pi}) $"
   ]
  },
  {
   "cell_type": "markdown",
   "id": "3e96fcc2-3bd4-40c5-9224-ee926ad7cf45",
   "metadata": {},
   "source": [
    "We have the following permutations $\\pi$ and corresponding sets $S_A^{\\pi}$:"
   ]
  },
  {
   "cell_type": "markdown",
   "id": "0aa44fc8-c0bc-40c3-a451-f61805fbdd14",
   "metadata": {},
   "source": [
    "$\n",
    "\\begin{align}\n",
    "\\pi_1 = \\{A,B,C\\},&\\;\\; S_A^{\\pi_1} = \\emptyset ,&\\;\\; S_A^{\\pi_1}\\cup A = \\{ A\\}\\\\\n",
    "\\pi_2 = \\{A,C,B\\},&\\;\\; S_A^{\\pi_2} = \\emptyset ,&\\;\\;S_A^{\\pi_2}\\cup A = \\{ A\\}\\\\\n",
    "\\pi_3 = \\{B,A,C\\},&\\;\\; S_A^{\\pi_3} = \\{B\\} ,&\\;\\;S_A^{\\pi_3}\\cup A = \\{ A,B\\}\\\\\n",
    "\\pi_4 = \\{B,C,A\\},&\\;\\; S_A^{\\pi_4} = \\{B,C\\} ,&\\;\\;S_A^{\\pi_4}\\cup A = \\{A,B,C \\}\\\\\n",
    "\\pi_5 = \\{C,A,B\\},&\\;\\; S_A^{\\pi_5} = \\{C\\} ,&\\;\\;S_A^{\\pi_5}\\cup A = \\{A,C \\}\\\\\n",
    "\\pi_6 = \\{C,B,A\\},&\\;\\; S_A^{\\pi_6} = \\{B,C\\} ,&\\;\\;S_A^{\\pi_6}\\cup A = \\{A,B,C \\}\\\\\n",
    "\\end{align}\n",
    "$"
   ]
  },
  {
   "cell_type": "markdown",
   "id": "cefb12b4-6a88-4750-abed-65fcd0054392",
   "metadata": {},
   "source": [
    "Hence, the solution is:"
   ]
  },
  {
   "cell_type": "markdown",
   "id": "1aa3df2c-0f93-4095-80e3-44aeaf7f69d8",
   "metadata": {},
   "source": [
    "$ \n",
    "\\begin{align}\n",
    "\\phi_A &= \\frac{1}{6}\\Big(  (v(A) - v()) + (v(A)-v()) + (v(A,B) - v(B)) + (v(A,B,C) - v(B,C)) + (v(A,C)-v(C)) + (v(A,B,C)-v(B,C)) \\Big) =\\\\\n",
    "&= \\frac{1}{6}( 20 - 0 + 20 - 0 + 60 - 20 + 100 - 70 + 70 - 60 + 100 - 70) =\\\\\n",
    "&= 25\n",
    "\\end{align}\n",
    "$"
   ]
  },
  {
   "cell_type": "markdown",
   "id": "e66eae898be7fb29",
   "metadata": {
    "collapsed": false
   },
   "source": [
    "# Appendix\n",
    "\n",
    "Load libraries and dataset:"
   ]
  },
  {
   "cell_type": "code",
   "execution_count": 234,
   "id": "dc8f11fed5b2055",
   "metadata": {
    "collapsed": false,
    "ExecuteTime": {
     "end_time": "2023-11-10T03:16:55.137607339Z",
     "start_time": "2023-11-10T03:16:55.093906806Z"
    }
   },
   "outputs": [
    {
     "name": "stdout",
     "output_type": "stream",
     "text": [
      "<class 'pandas.core.frame.DataFrame'>\n",
      "RangeIndex: 4898 entries, 0 to 4897\n",
      "Data columns (total 10 columns):\n",
      " #   Column     Non-Null Count  Dtype  \n",
      "---  ------     --------------  -----  \n",
      " 0   Feature 0  4898 non-null   float64\n",
      " 1   Feature 1  4898 non-null   float64\n",
      " 2   Feature 2  4898 non-null   float64\n",
      " 3   Feature 3  4898 non-null   float64\n",
      " 4   Feature 4  4898 non-null   float64\n",
      " 5   Feature 5  4898 non-null   float64\n",
      " 6   Feature 6  4898 non-null   float64\n",
      " 7   Feature 7  4898 non-null   float64\n",
      " 8   Feature 8  4898 non-null   float64\n",
      " 9   Feature 9  4898 non-null   float64\n",
      "dtypes: float64(10)\n",
      "memory usage: 382.8 KB\n"
     ]
    }
   ],
   "source": [
    "import dalex as dx\n",
    "import xgboost\n",
    "import matplotlib\n",
    "import shap\n",
    "import platform\n",
    "import sklearn\n",
    "from copy import deepcopy\n",
    "from sklearn.pipeline import Pipeline\n",
    "from sklearn.linear_model import LogisticRegression\n",
    "from sklearn.compose import ColumnTransformer\n",
    "from sklearn.model_selection import train_test_split\n",
    "from sklearn.preprocessing import OneHotEncoder\n",
    "from sklearn.metrics import accuracy_score, recall_score, precision_score\n",
    "\n",
    "import pandas as pd\n",
    "import numpy as np\n",
    "import matplotlib.pyplot as plt\n",
    "\n",
    "\n",
    "import warnings\n",
    "warnings.filterwarnings(\"ignore\")\n",
    "\n",
    "# https://github.com/adrianstando/imbalanced-benchmarking-set/blob/main/datasets/wine_quality.csv\n",
    "dataset = pd.read_csv('wine_quality.csv')\n",
    "y = dataset[\"TARGET\"].apply(lambda x: 1 if x == 1 else 0)\n",
    "X_tmp = dataset.drop(axis=1, columns=[\"TARGET\", \"Unnamed: 0\"])\n",
    "\n",
    "# rename columns \n",
    "X = pd.DataFrame()\n",
    "X_tmp.head()\n",
    "for i in range(0,10):\n",
    "    X[f\"Feature {i}\"] = X_tmp[str(i)]\n",
    "X.info()"
   ]
  },
  {
   "cell_type": "markdown",
   "id": "f68984c43626e917",
   "metadata": {
    "collapsed": false
   },
   "source": [
    "Train XGBoost and linear regression models on selected dataset:"
   ]
  },
  {
   "cell_type": "code",
   "execution_count": 235,
   "id": "d622dd17761638ff",
   "metadata": {
    "collapsed": false,
    "ExecuteTime": {
     "end_time": "2023-11-10T03:16:58.112630741Z",
     "start_time": "2023-11-10T03:16:57.225185938Z"
    }
   },
   "outputs": [],
   "source": [
    "model = xgboost.XGBClassifier(\n",
    "    n_estimators=200, \n",
    "    max_depth=4, \n",
    "    use_label_encoder=False, \n",
    "    eval_metric=\"logloss\",\n",
    "    enable_categorical=True,\n",
    "    tree_method=\"hist\"\n",
    ")\n",
    "\n",
    "X_train, X_test, y_train, y_test = train_test_split(X, y, test_size=0.33, random_state=22)\n",
    "model.fit(X_train, y_train)\n",
    "pred = model.predict(X_test)\n",
    "\n",
    "model2 = LogisticRegression(max_iter=10000, class_weight=\"balanced\", random_state=22)\n",
    "model2.fit(X_train.values, y_train)\n",
    "pred2 = model.predict(X_test)\n",
    "\n",
    "def show_performance(title, pred_):\n",
    "    labels = [\n",
    "        \"Accuracy\",\n",
    "        \"Recall\",\n",
    "        \"Precision\"\n",
    "    ]\n",
    "    values = [\n",
    "        accuracy_score(pred_, y_test),\n",
    "        recall_score(pred_, y_test),\n",
    "        precision_score(pred_, y_test)\n",
    "    ]\n",
    "    plt.barh(labels, values)\n",
    "    plt.title(title)\n",
    "    plt.show()\n",
    "\n",
    "def _construct_selected_observations():\n",
    "    selected_observations_indices = [21, 37]\n",
    "    result_X = X_test.iloc[selected_observations_indices]\n",
    "    result_y = y_test.iloc[selected_observations_indices]\n",
    "    pred_y = model.predict_proba(result_X)\n",
    "    return result_X, result_y, pred_y\n",
    "    \n",
    "selected_observations_X, selected_observations_y, selected_observations_pred = _construct_selected_observations()\n",
    "    \n",
    "def show_selected_predictions():\n",
    "    result = deepcopy(selected_observations_X)\n",
    "    result[\"TARGET\"] = selected_observations_y\n",
    "    result[\"pred 0\"] = selected_observations_pred[:, 0]\n",
    "    result[\"pred 1\"] = selected_observations_pred[:, 1]\n",
    "    return result"
   ]
  },
  {
   "cell_type": "markdown",
   "id": "8355aab2df5a1d48",
   "metadata": {
    "collapsed": false
   },
   "source": [
    "explanation with dalex and shap"
   ]
  },
  {
   "cell_type": "code",
   "execution_count": 238,
   "id": "a1ec2684deb6bc6",
   "metadata": {
    "collapsed": false,
    "ExecuteTime": {
     "end_time": "2023-11-10T03:19:33.714252141Z",
     "start_time": "2023-11-10T03:19:33.516937789Z"
    }
   },
   "outputs": [
    {
     "name": "stdout",
     "output_type": "stream",
     "text": [
      "Preparation of a new explainer is initiated\n",
      "\n",
      "  -> data              : 4898 rows 10 cols\n",
      "  -> target variable   : Parameter 'y' was a pandas.Series. Converted to a numpy.ndarray.\n",
      "  -> target variable   : 4898 values\n",
      "  -> model_class       : xgboost.sklearn.XGBClassifier (default)\n",
      "  -> label             : GBM\n",
      "  -> predict function  : <function pf_xgboost_classifier_categorical at 0x7f6f1666dd80> will be used\n",
      "  -> predict function  : Accepts pandas.DataFrame and numpy.ndarray.\n",
      "  -> predicted values  : min = 6.5e-07, mean = 0.034, max = 0.995\n",
      "  -> model type        : classification will be used (default)\n",
      "  -> residual function : difference between y and yhat (default)\n",
      "  -> residuals         : min = -0.89, mean = 0.00337, max = 1.0\n",
      "  -> model_info        : package xgboost\n",
      "\n",
      "A new explainer has been created!\n",
      "Preparation of a new explainer is initiated\n",
      "\n",
      "  -> data              : 4898 rows 10 cols\n",
      "  -> target variable   : Parameter 'y' was a pandas.Series. Converted to a numpy.ndarray.\n",
      "  -> target variable   : 4898 values\n",
      "  -> model_class       : sklearn.linear_model._logistic.LogisticRegression (default)\n",
      "  -> label             : GBM\n",
      "  -> predict function  : <function pf_xgboost_classifier_categorical at 0x7f6f1666dd80> will be used\n",
      "  -> predict function  : Accepts pandas.DataFrame and numpy.ndarray.\n",
      "  -> predicted values  : min = 0.0975, mean = 0.425, max = 0.994\n",
      "  -> model type        : classification will be used (default)\n",
      "  -> residual function : difference between y and yhat (default)\n",
      "  -> residuals         : min = -0.979, mean = -0.387, max = 0.902\n",
      "  -> model_info        : package sklearn\n",
      "\n",
      "A new explainer has been created!\n"
     ]
    }
   ],
   "source": [
    "def pf_xgboost_classifier_categorical(model_, df_):\n",
    "    return model_.predict_proba(df_)[:, 1] # by the way, it's a value in range [0,1] telling how much the model wants to predict 1\n",
    "\n",
    "explainer = dx.Explainer(model, X, y, predict_function=pf_xgboost_classifier_categorical, label=\"GBM\")\n",
    "explainer2 = dx.Explainer(model2, X, y, predict_function=pf_xgboost_classifier_categorical, label=\"GBM\")\n",
    "shap_explainer = shap.Explainer(model)\n",
    "\n",
    "def plot_dalex_attributions_for_observations(observation_indices):\n",
    "    shap_attributions = [explainer.predict_parts(X.iloc[[i]], type=\"shap\", label=f'observation {i}') for i in observation_indices]\n",
    "    shap_attributions[0].plot(shap_attributions[1::])    \n",
    "\n",
    "def plot_shap_attributions_for_observations(observation_indices):\n",
    "    shap_values = shap_explainer(X.iloc[list(observation_indices)])\n",
    "    for i in range(len(list(observation_indices))):\n",
    "        shap.plots.waterfall(shap_values[i])\n",
    "        \n",
    "def compare_two_models_for_observation(observations):\n",
    "    shap_attributions = [explainer.predict_parts(X.iloc[[i]], type=\"shap\", label=f'observation {i}') for i in observations]\n",
    "    shap_attributions2 = [explainer2.predict_parts(X.iloc[[i]], type=\"shap\", label=f'observation {i}') for i in observations]\n",
    "    shap_attributions[0].plot(shap_attributions[1::])    \n",
    "    shap_attributions2[0].plot(shap_attributions2[1::])    "
   ]
  }
 ],
 "metadata": {
  "kernelspec": {
   "display_name": "Python 3 (ipykernel)",
   "language": "python",
   "name": "python3"
  },
  "language_info": {
   "codemirror_mode": {
    "name": "ipython",
    "version": 3
   },
   "file_extension": ".py",
   "mimetype": "text/x-python",
   "name": "python",
   "nbconvert_exporter": "python",
   "pygments_lexer": "ipython3",
   "version": "3.10.12"
  }
 },
 "nbformat": 4,
 "nbformat_minor": 5
}
